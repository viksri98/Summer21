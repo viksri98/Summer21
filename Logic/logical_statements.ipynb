{
 "cells": [
  {
   "cell_type": "markdown",
   "metadata": {},
   "source": [
    "# Lesson 10\n",
    "\n",
    "# Logical and Comparison Statements\n",
    "A simple definition of a logical statement is that a it is a statement that produces an output \n",
    "which either has the value **True** or **False**.  From a coding perspective, we might map those two states onto a binary variable which takes on the value 1 or 0.  This is known as a **Boolean** variable.   "
   ]
  },
  {
   "cell_type": "markdown",
   "metadata": {},
   "source": [
    "## Set Theory\n",
    "We can view the array `x =[1 2 3 4 5]` as a **set**. This set defines a **space**, or universe.<br>\n",
    "![title](https://studywell.com/wp-content/uploads/2021/05/Venn.png)<br>\n",
    "![title](https://studywell.com/wp-content/uploads/2021/05/Venn2.png) <br>\n",
    "Any of the logical and comparison operations divides the space into two **subspaces**, one where the logical statement is **True**, and another where the logical statement is **False**.<br>  \n",
    "These two subsets must combine to form the original set."
   ]
  },
  {
   "cell_type": "markdown",
   "metadata": {},
   "source": [
    "## Comparison Operators\n",
    "\n",
    "A logical statement almost always involves comparisons. <br>\n",
    "A summary of the comparison operators is shown here:\n",
    "\n",
    "| Operator\t    | English          || Operator\t    | English             |\n",
    "|---------------|------------------||---------------|---------------------|\n",
    "|``==``         |``equal``         ||``!=``         |``not equal``        |\n",
    "|``<``          |``less than``     ||``<=``         |``less or equal``    |\n",
    "|``>``          |``greater than``  ||``>=``         |``greater or equal`` |\n"
   ]
  },
  {
   "cell_type": "markdown",
   "metadata": {},
   "source": [
    "The first operator, equal, is `==`. We use two equals signs because `=` is already used to assign variables their values.  \n"
   ]
  },
  {
   "cell_type": "code",
<<<<<<< HEAD
   "execution_count": 1,
   "metadata": {},
   "outputs": [
    {
     "data": {
      "text/plain": [
       "True"
      ]
     },
     "execution_count": 1,
     "metadata": {},
     "output_type": "execute_result"
    }
   ],
=======
   "execution_count": null,
   "metadata": {},
   "outputs": [],
>>>>>>> 0a0fb492bb7e4b09f007072472c961f43a3f5125
   "source": [
    "x = 5\n",
    "x == 5"
   ]
  },
  {
   "cell_type": "code",
   "execution_count": null,
   "metadata": {},
   "outputs": [
    {
     "name": "stdout",
     "output_type": "stream",
     "text": [
      "True\n"
     ]
    }
   ],
   "source": [
    "test = (x == 5)\n",
    "print(test)"
   ]
  },
  {
   "cell_type": "code",
<<<<<<< HEAD
   "execution_count": 3,
   "metadata": {},
   "outputs": [
    {
     "data": {
      "text/plain": [
       "bool"
      ]
     },
     "execution_count": 3,
     "metadata": {},
     "output_type": "execute_result"
    }
   ],
=======
   "execution_count": null,
   "metadata": {},
   "outputs": [],
>>>>>>> 0a0fb492bb7e4b09f007072472c961f43a3f5125
   "source": [
    "type(test)"
   ]
  },
  {
   "cell_type": "markdown",
   "metadata": {},
   "source": [
    "## Comparison operators on Arrays"
   ]
  },
  {
   "cell_type": "code",
<<<<<<< HEAD
   "execution_count": 4,
   "metadata": {},
   "outputs": [
    {
     "name": "stdout",
     "output_type": "stream",
     "text": [
      "[1 2 3 4 5]\n"
     ]
    }
   ],
=======
   "execution_count": null,
   "metadata": {},
   "outputs": [],
>>>>>>> 0a0fb492bb7e4b09f007072472c961f43a3f5125
   "source": [
    "import numpy as np\n",
    "x = np.array([1, 2, 3, 4, 5])\n",
    "print(x)"
   ]
  },
  {
   "cell_type": "code",
<<<<<<< HEAD
   "execution_count": 5,
   "metadata": {},
   "outputs": [
    {
     "name": "stdout",
     "output_type": "stream",
     "text": [
      "[ True  True False False False]\n",
      "bool\n"
     ]
    }
   ],
=======
   "execution_count": null,
   "metadata": {},
   "outputs": [],
>>>>>>> 0a0fb492bb7e4b09f007072472c961f43a3f5125
   "source": [
    "# Comparison operator with an array if any of the entries is less than 3 then it is True. Otherwise False.\n",
    "test = (x < 3)\n",
    "print(test)\n",
    "print(test.dtype)"
   ]
  },
  {
   "cell_type": "code",
<<<<<<< HEAD
   "execution_count": 6,
   "metadata": {},
   "outputs": [
    {
     "name": "stdout",
     "output_type": "stream",
     "text": [
      "[False False  True False False]\n"
     ]
    }
   ],
=======
   "execution_count": null,
   "metadata": {},
   "outputs": [],
>>>>>>> 0a0fb492bb7e4b09f007072472c961f43a3f5125
   "source": [
    "# Comparison operator on the array x. If any entry is equal to 3 then set to True. Otherwise False.\n",
    "test = (x == 3)\n",
    "print(test)"
   ]
  },
  {
   "cell_type": "code",
<<<<<<< HEAD
   "execution_count": 7,
   "metadata": {},
   "outputs": [
    {
     "name": "stdout",
     "output_type": "stream",
     "text": [
      "test1 =  [ True  True False False False]\n",
      "test2 =  [False False False  True  True]\n",
      "test3 =  [False False  True  True  True]\n"
     ]
    }
   ],
=======
   "execution_count": null,
   "metadata": {},
   "outputs": [],
>>>>>>> 0a0fb492bb7e4b09f007072472c961f43a3f5125
   "source": [
    "# Remember x = [ 1 2 3 4 5]\n",
    "test1 = (x < 3)\n",
    "print(\"test1 = \", test1)\n",
    "test2 = (x > 3)\n",
    "print(\"test2 = \", test2)\n",
    "test3 = (x >= 3)\n",
    "print(\"test3 = \", test3)"
   ]
  },
  {
   "cell_type": "code",
<<<<<<< HEAD
   "execution_count": 8,
   "metadata": {},
   "outputs": [
    {
     "name": "stdout",
     "output_type": "stream",
     "text": [
      "[ True  True  True False False]\n"
     ]
    }
   ],
   "source": [
    "x1 = np.array([2, 3, 4, 1, 2])\n",
    "x2 = np.array([1, 2, 3, 4, 5])\n",
    "test = x1 > x2\n",
    "print(test)"
   ]
  },
  {
   "cell_type": "code",
   "execution_count": 9,
   "metadata": {},
   "outputs": [
    {
     "name": "stdout",
     "output_type": "stream",
     "text": [
      "[False  True False  True False]\n"
     ]
    }
   ],
   "source": [
    "test = (x1 + x2 == 5)\n",
    "print(test)"
   ]
  },
  {
   "cell_type": "code",
   "execution_count": 11,
   "metadata": {},
   "outputs": [
    {
     "name": "stdout",
     "output_type": "stream",
     "text": [
      "[8 7 3 6 1]\n",
      "[ True  True  True False  True]\n"
     ]
    }
   ],
   "source": [
    "x = np.array([8, 7, 3, 6, 1])\n",
    "print(x)\n",
    "print(x != 6)"
   ]
  },
  {
   "cell_type": "markdown",
   "metadata": {},
   "source": [
    "## Logical Operators\n",
    "\n",
    "There are 3 logical operators: `and`, `or`, `not`\n",
    "<table><tbody><tr><th>Operator</th>\n",
    "\t\t\t<th>Meaning</th>\n",
    "\t\t\t<th>Example</th>\n",
    "\t\t</tr><tr><td>and</td>\n",
    "\t\t\t<td>True if both the operands are true</td>\n",
    "\t\t\t<td>x and y</td>\n",
    "\t\t</tr><tr><td>or</td>\n",
    "\t\t\t<td>True if either of the operands is true</td>\n",
    "\t\t\t<td>x or y</td>\n",
    "\t\t</tr><tr><td>not</td>\n",
    "\t\t\t<td>True if operand is false (complements the operand)</td>\n",
    "\t\t\t<td>not x</td>\n",
    "\t\t</tr></tbody></table>\n",
    "        \n",
    "<br>"
=======
   "execution_count": null,
   "metadata": {},
   "outputs": [],
   "source": [
    "x1 = np.array([2, 3, 4, 1, 2])\n",
    "x2 = np.array([1, 2, 3, 4, 5])\n",
    "test = x1 > x2\n",
    "print(test)"
   ]
  },
  {
   "cell_type": "code",
   "execution_count": null,
   "metadata": {},
   "outputs": [],
   "source": [
    "test = (x1 + x2 == 5)\n",
    "print(test)"
   ]
  },
  {
   "cell_type": "code",
   "execution_count": null,
   "metadata": {},
   "outputs": [],
   "source": [
    "x = np.array([8, 7, 3, 6, 1])\n",
    "print(x)\n",
    "print(x < 6)"
   ]
  },
  {
   "cell_type": "markdown",
   "metadata": {},
   "source": [
    "## Logical Operators\n",
    "\n",
    "There are 3 logical operators: `and`, `or`, `not`\n",
    "<table><tbody><tr><th>Operator</th>\n",
    "\t\t\t<th>Meaning</th>\n",
    "\t\t\t<th>Example</th>\n",
    "\t\t</tr><tr><td>and</td>\n",
    "\t\t\t<td>True if both the operands are true</td>\n",
    "\t\t\t<td>x and y</td>\n",
    "\t\t</tr><tr><td>or</td>\n",
    "\t\t\t<td>True if either of the operands is true</td>\n",
    "\t\t\t<td>x or y</td>\n",
    "\t\t</tr><tr><td>not</td>\n",
    "\t\t\t<td>True if operand is false (complements the operand)</td>\n",
    "\t\t\t<td>not x</td>\n",
    "\t\t</tr></tbody></table>\n",
    "        \n",
    "<br>"
   ]
  },
  {
   "cell_type": "code",
   "execution_count": null,
   "metadata": {},
   "outputs": [],
   "source": [
    "# And operator with just numbers\n",
    "number = 25\n",
    "test1 = (number < 50 and number > 10)\n",
    "print (\"And with an integer = \", test1)\n",
    "\n",
    "# And operator in an array is done by using a function called np.logical_and(condition1, condition2)\n",
    "test1 = np.logical_and(x < 5, x > 3)\n",
    "print (x)\n",
    "print (\"And with an array =\", test1)"
   ]
  },
  {
   "cell_type": "code",
   "execution_count": null,
   "metadata": {},
   "outputs": [],
   "source": [
    "# Or operator with just numbers\n",
    "test2 = (number < 10 or number >30)\n",
    "print (\"OR with integers \", test2)\n",
    "\n",
    "# Or operator with an array is done by using a function called np.logical_or(condition1, condition2)\n",
    "test2 = np.logical_or(x > 3, x < 2)\n",
    "print (x)\n",
    "print (\"OR with an Array =\", test2)"
   ]
  },
  {
   "cell_type": "code",
   "execution_count": null,
   "metadata": {},
   "outputs": [],
   "source": [
    "test3 = not(number < 22)\n",
    "print (\"test3 = \", test3)"
   ]
  },
  {
   "cell_type": "markdown",
   "metadata": {},
   "source": [
    "The **complement** of a boolean is its opposite. The complement of True is False, and the complement of False is True  \n",
    "We can use either the numpy `logical_not` or `~` operator to take the complement of an array"
>>>>>>> 0a0fb492bb7e4b09f007072472c961f43a3f5125
   ]
  },
  {
   "cell_type": "code",
<<<<<<< HEAD
   "execution_count": 15,
   "metadata": {},
   "outputs": [
    {
     "name": "stdout",
     "output_type": "stream",
     "text": [
      "And with an integer =  True\n",
      "[8 7 3 6 1]\n",
      "And with an array = [False False False False False]\n"
     ]
    }
   ],
   "source": [
    "# And operator with just numbers\n",
    "number = 25\n",
    "test1 = (number < 50 and number > 10)\n",
    "print (\"And with an integer = \", test1)\n",
    "\n",
    "# And operator in an array is done by using a function called np.logical_and(condition1, condition2)\n",
    "test1 = np.logical_and(x < 5, x > 3)\n",
    "print (x)\n",
    "print (\"And with an array =\", test1)"
   ]
  },
  {
   "cell_type": "code",
   "execution_count": 16,
   "metadata": {},
   "outputs": [
    {
     "name": "stdout",
     "output_type": "stream",
     "text": [
      "OR with integers  False\n",
      "[8 7 3 6 1]\n",
      "OR with an Array = [ True  True False  True  True]\n"
     ]
    }
   ],
   "source": [
    "# Or operator with just numbers\n",
    "test2 = (number < 10 or number >30)\n",
    "print (\"OR with integers \", test2)\n",
    "\n",
    "# Or operator with an array is done by using a function called np.logical_or(condition1, condition2)\n",
    "test2 = np.logical_or(x > 3, x < 2)\n",
    "print (x)\n",
    "print (\"OR with an Array =\", test2)"
   ]
  },
  {
   "cell_type": "code",
   "execution_count": 17,
   "metadata": {},
   "outputs": [
    {
     "name": "stdout",
     "output_type": "stream",
     "text": [
      "test3 =  True\n"
     ]
    }
   ],
   "source": [
    "test3 = not(number < 22)\n",
    "print (\"test3 = \", test3)"
   ]
  },
  {
   "cell_type": "markdown",
   "metadata": {},
   "source": [
    "The **complement** of a boolean is its opposite. The complement of True is False, and the complement of False is True  \n",
    "We can use either the numpy `logical_not` or `~` operator to take the complement of an array"
   ]
  },
  {
   "cell_type": "code",
   "execution_count": 18,
   "metadata": {},
   "outputs": [
    {
     "name": "stdout",
     "output_type": "stream",
     "text": [
      "test4 =  [ True  True  True  True  True]\n",
      "test5 =  [ True  True  True  True  True]\n"
     ]
    }
   ],
=======
   "execution_count": null,
   "metadata": {},
   "outputs": [],
>>>>>>> 0a0fb492bb7e4b09f007072472c961f43a3f5125
   "source": [
    "test4 = np.logical_not(test1)\n",
    "print(\"test4 = \", test4)\n",
    "test5 = ~test1\n",
    "print(\"test5 = \", test5)"
   ]
  },
  {
   "cell_type": "markdown",
   "metadata": {},
   "source": [
    "## Creating a Boolean Array\n",
    "Sometimes we might want to manually create a boolean array. There are 2 methods to do this."
   ]
  },
  {
   "cell_type": "code",
<<<<<<< HEAD
   "execution_count": 19,
   "metadata": {},
   "outputs": [
    {
     "name": "stdout",
     "output_type": "stream",
     "text": [
      "[ True False False  True]\n"
     ]
    }
   ],
=======
   "execution_count": null,
   "metadata": {},
   "outputs": [],
>>>>>>> 0a0fb492bb7e4b09f007072472c961f43a3f5125
   "source": [
    "bool_list = [True, False, False, True]\n",
    "bool_array = np.array(bool_list)\n",
    "print(bool_array)"
   ]
  },
  {
   "cell_type": "code",
<<<<<<< HEAD
   "execution_count": 20,
   "metadata": {},
   "outputs": [
    {
     "name": "stdout",
     "output_type": "stream",
     "text": [
      "[ True False False  True]\n"
     ]
    }
   ],
=======
   "execution_count": null,
   "metadata": {},
   "outputs": [],
>>>>>>> 0a0fb492bb7e4b09f007072472c961f43a3f5125
   "source": [
    "bool_list = [1, 0, 0, 1]\n",
    "bool_array = np.array(bool_list, dtype = bool)\n",
    "print(bool_array)"
   ]
  },
  {
   "cell_type": "markdown",
   "metadata": {},
   "source": [
    "There are some rules when converting to a boolean or boolean array  \n",
    "`0`, `False`, `empty strings`, and `None` are all **False**  \n",
    "Anything else is **True**"
   ]
  },
  {
   "cell_type": "code",
<<<<<<< HEAD
   "execution_count": 21,
   "metadata": {},
   "outputs": [
    {
     "name": "stdout",
     "output_type": "stream",
     "text": [
      "[1, 0.5, 0, 0.0, None, 'a', '', ' ', True, False]\n",
      "[ True  True False False False  True False  True  True False]\n"
     ]
    }
   ],
=======
   "execution_count": null,
   "metadata": {},
   "outputs": [],
>>>>>>> 0a0fb492bb7e4b09f007072472c961f43a3f5125
   "source": [
    "strange_list = [1, 0.5, 0, 0.0, None, 'a', '', ' ',True, False]\n",
    "bool_arr = np.array(strange_list, dtype=bool)\n",
    "print(strange_list)\n",
    "print(bool_arr)"
   ]
  },
  {
   "cell_type": "markdown",
   "metadata": {},
   "source": [
    "## Numpy functions that you should know: Counting entries\n",
    "We can use `np.count_nonzero` to count the number of `True` elements in a boolean array"
   ]
  },
  {
   "cell_type": "code",
<<<<<<< HEAD
   "execution_count": 23,
   "metadata": {},
   "outputs": [
    {
     "name": "stdout",
     "output_type": "stream",
     "text": [
      "x = [8 7 3 6 1]\n"
     ]
    },
    {
     "data": {
      "text/plain": [
       "2"
      ]
     },
     "execution_count": 23,
     "metadata": {},
     "output_type": "execute_result"
    }
   ],
=======
   "execution_count": null,
   "metadata": {},
   "outputs": [],
>>>>>>> 0a0fb492bb7e4b09f007072472c961f43a3f5125
   "source": [
    "print (\"x =\", x)\n",
    "np.count_nonzero(x < 6)\n",
    "# Output tells you that there are 2 entries"
<<<<<<< HEAD
   ]
  },
  {
   "cell_type": "markdown",
   "metadata": {},
   "source": [
    "We see that there are 2 array entries that are less than 6. <b>\n",
    "Another way to get this information is to use `np.sum`  <br>\n",
    "In this case, `False` is interpreted as `0`, and `True` is interpreted as `1`"
   ]
  },
  {
   "cell_type": "code",
   "execution_count": 24,
   "metadata": {},
   "outputs": [
    {
     "data": {
      "text/plain": [
       "2"
      ]
     },
     "execution_count": 24,
     "metadata": {},
     "output_type": "execute_result"
    }
   ],
   "source": [
    "np.sum(x < 6)\n",
    "# it is summing the number of entries that meet the condition x<6"
   ]
  },
  {
   "cell_type": "markdown",
   "metadata": {},
   "source": [
    "If we want to check for any or all values meeting a condition, we use `np.any` and `np.all`"
=======
   ]
  },
  {
   "cell_type": "markdown",
   "metadata": {},
   "source": [
    "We see that there are 2 array entries that are less than 6. <b>\n",
    "Another way to get this information is to use `np.sum`  <br>\n",
    "In this case, `False` is interpreted as `0`, and `True` is interpreted as `1`"
>>>>>>> 0a0fb492bb7e4b09f007072472c961f43a3f5125
   ]
  },
  {
   "cell_type": "code",
<<<<<<< HEAD
   "execution_count": 25,
   "metadata": {},
   "outputs": [
    {
     "data": {
      "text/plain": [
       "False"
      ]
     },
     "execution_count": 25,
     "metadata": {},
     "output_type": "execute_result"
    }
   ],
   "source": [
    "np.any(x > 8)"
   ]
  },
  {
   "cell_type": "code",
   "execution_count": 26,
   "metadata": {},
   "outputs": [
    {
     "data": {
      "text/plain": [
       "True"
      ]
     },
     "execution_count": 26,
     "metadata": {},
     "output_type": "execute_result"
    }
   ],
   "source": [
    "np.all(x > 0)"
   ]
  },
  {
   "cell_type": "markdown",
   "metadata": {},
   "source": [
    "### Exercise 1:\n",
    "Create a numpy array with all the grades that you got this past quarter. Or use the one that is given below.\n",
    "<br>\n",
    "<table>\n",
    "    <tr>\n",
    "        <th>Math</th>\n",
    "        <th>Science</th>\n",
    "        <th>English</th>\n",
    "        <th>History</th>\n",
    "        <th>PE</th>\n",
    "        <th>Music</th>\n",
    "    </tr>\n",
    "    <tr>\n",
    "        <td>94.6</td>\n",
    "        <td>92.3</td>\n",
    "        <td>85</td>\n",
    "        <td>82</td>\n",
    "        <td>78</td>\n",
    "        <td>80</td>\n",
    "    </tr>\n",
    "</table>\n",
    "<br>\n",
    "Your array should have the grades. <br>\n",
    "<br>1. Is there any grade that is an A? (90 - 100)  \n",
    "<br>2. Is there any grade that is a B or higher? (80 - 100) \n",
    "<br>3. Is there any grade that is a C or less? (0 - 79) \n",
    "<br>4. is there any grade less than a C? (0 - 69)\n",
    "<br>5. Did you fail anything? (< 60)"
=======
   "execution_count": null,
   "metadata": {},
   "outputs": [],
   "source": [
    "np.sum(x < 6)\n",
    "# it is summing the number of entries that meet the condition x<6"
   ]
  },
  {
   "cell_type": "markdown",
   "metadata": {},
   "source": [
    "If we want to check for any or all values meeting a condition, we use `np.any` and `np.all`"
   ]
  },
  {
   "cell_type": "code",
   "execution_count": null,
   "metadata": {},
   "outputs": [],
   "source": [
    "np.any(x > 8)"
>>>>>>> 0a0fb492bb7e4b09f007072472c961f43a3f5125
   ]
  },
  {
   "cell_type": "code",
   "execution_count": null,
   "metadata": {},
<<<<<<< HEAD
   "outputs": [
    {
     "name": "stdout",
     "output_type": "stream",
     "text": [
      "A? True\n",
      "B or higher? True\n",
      "C or less? True\n",
      "Less than C? False\n",
      "failed? False\n"
     ]
    }
   ],
   "source": [
    "x = np.array([94.6, 92.3, 85, 82, 78, 80])\n",
    "print(\"A?\", np.any(x >= 90))\n",
    "print(\"B or higher?\", np.any(x >= 80))\n",
    "print(\"C or less?\", np.any(x <= 79))\n",
    "print(\"Less than C?\", np.any(x < 70))\n",
    "print(\"failed?\", np.any(x < 60))"
=======
   "outputs": [],
   "source": [
    "np.all(x > 0)"
>>>>>>> 0a0fb492bb7e4b09f007072472c961f43a3f5125
   ]
  },
  {
   "cell_type": "markdown",
   "metadata": {},
   "source": [
<<<<<<< HEAD
    "### Exercise 2: \n",
    "Create a numpy array with the following information<br>\n",
    "<table>\n",
    "    <tr>\n",
    "        <th>Name</th>\n",
    "        <th>Age</th>\n",
    "        <th>Height</th>\n",
    "    </tr>\n",
    "    <tr>\n",
    "        <td>Justin</td>\n",
    "        <td>65</td>\n",
    "        <td>7</td>\n",
    "    </tr>\n",
    "    <tr>\n",
    "        <td>Josh</td>\n",
    "        <td>6</td>\n",
    "        <td>6</td>\n",
    "    </tr>\n",
    "    <tr>\n",
    "        <td>Aneya</td>\n",
    "        <td>22</td>\n",
    "        <td>5.5</td>\n",
    "    </tr>\n",
    "    <tr>\n",
    "        <td>Eric</td>\n",
    "        <td>18</td>\n",
    "        <td>4.8</td>\n",
    "    </tr>\n",
    "    <tr>\n",
    "        <td>Surekha</td>\n",
    "        <td>81</td>\n",
    "        <td>3</td>\n",
    "    </tr>\n",
    "    <tr>\n",
    "        <td>Vikram</td>\n",
    "        <td>100</td>\n",
    "        <td>5.8</td>\n",
    "    </tr>\n",
    "</table>\n",
    "\n",
    "The \"Cube\" roller coaster requires all those who get on the ride must be greater than 10 years old and at least 5 feet tall. \n",
    "You have to tell us which of the users can ride the roller coaster. \n",
    "\n",
    "**Expected Output:**<br>\n",
    "Justin: True<br>\n",
    "Josh: False<br>\n",
    "Aneya: True<br>\n",
    "Eric: False<br>\n",
    "Surekha: False<br>\n",
    "Vikram: True<br>"
=======
    "### Exercise 1:\n",
    "Create a numpy array with all the grades that you got this past quarter. Or use the one that is given below.\n",
    "<br>\n",
    "<table>\n",
    "    <tr>\n",
    "        <th>Math</th>\n",
    "        <th>Science</th>\n",
    "        <th>English</th>\n",
    "        <th>History</th>\n",
    "        <th>PE</th>\n",
    "        <th>Music</th>\n",
    "    </tr>\n",
    "    <tr>\n",
    "        <td>94.6</td>\n",
    "        <td>92.3</td>\n",
    "        <td>85</td>\n",
    "        <td>82</td>\n",
    "        <td>78</td>\n",
    "        <td>80</td>\n",
    "    </tr>\n",
    "</table>\n",
    "<br>\n",
    "Your array should have the grades. <br>\n",
    "<br>1. Is there any grade that is an A? (90 - 100) output will be `[True, True, False False False]` \n",
    "<br>2. Is there any grade that is a B or higher? (80 - 100)   output will be `[True, True, True, True, False, True]`\n",
    "<br>3. Is there any grade that is a C or less? (0 - 79) \n",
    "<br>4. is there any grade less than a C? (0 - 69)\n",
    "<br>5. Did you fail anything? (< 60)"
>>>>>>> 0a0fb492bb7e4b09f007072472c961f43a3f5125
   ]
  },
  {
   "cell_type": "code",
   "execution_count": 28,
   "metadata": {},
<<<<<<< HEAD
   "outputs": [
    {
     "name": "stdout",
     "output_type": "stream",
     "text": [
      "[ True False  True False False  True]\n"
     ]
    }
   ],
   "source": [
    "arr = np.array([[65, 7],[6, 6],[22, 5.5],[18, 4.8],[81, 3],[100, 5.8]])\n",
    "print(np.logical_and(arr[:, 0] > 10, arr[:, 1] >= 5))"
=======
   "outputs": [],
   "source": []
  },
  {
   "cell_type": "markdown",
   "metadata": {},
   "source": [
    "### Exercise 2: \n",
    "Create a numpy array with the following information<br>\n",
    "<table>\n",
    "    <tr>\n",
    "        <th>Name</th>\n",
    "        <th>Age</th>\n",
    "        <th>Height</th>\n",
    "    </tr>\n",
    "    <tr>\n",
    "        <td>Justin</td>\n",
    "        <td>65</td>\n",
    "        <td>7</td>\n",
    "    </tr>\n",
    "    <tr>\n",
    "        <td>Josh</td>\n",
    "        <td>6</td>\n",
    "        <td>6</td>\n",
    "    </tr>\n",
    "    <tr>\n",
    "        <td>Aneya</td>\n",
    "        <td>22</td>\n",
    "        <td>5.5</td>\n",
    "    </tr>\n",
    "    <tr>\n",
    "        <td>Eric</td>\n",
    "        <td>18</td>\n",
    "        <td>4.8</td>\n",
    "    </tr>\n",
    "    <tr>\n",
    "        <td>Surekha</td>\n",
    "        <td>81</td>\n",
    "        <td>3</td>\n",
    "    </tr>\n",
    "    <tr>\n",
    "        <td>Vikram</td>\n",
    "        <td>100</td>\n",
    "        <td>5.8</td>\n",
    "    </tr>\n",
    "</table>\n",
    "\n",
    "The \"Cube\" roller coaster requires all those who get on the ride must be greater than 10 years old and at least 5 feet tall. \n",
    "You have to tell us which of the users can ride the roller coaster. \n",
    "\n",
    "**Expected Output:**<br>\n",
    "Justin: True<br>\n",
    "Josh: False<br>\n",
    "Aneya: True<br>\n",
    "Eric: False<br>\n",
    "Surekha: False<br>\n",
    "Vikram: True<br>"
>>>>>>> 0a0fb492bb7e4b09f007072472c961f43a3f5125
   ]
  },
  {
   "cell_type": "code",
   "execution_count": null,
   "metadata": {},
   "outputs": [],
   "source": []
<<<<<<< HEAD
  }
 ],
 "metadata": {
  "kernelspec": {
   "display_name": "Python 3",
   "language": "python",
   "name": "python3"
  },
  "language_info": {
   "codemirror_mode": {
    "name": "ipython",
    "version": 3
   },
   "file_extension": ".py",
   "mimetype": "text/x-python",
   "name": "python",
   "nbconvert_exporter": "python",
   "pygments_lexer": "ipython3",
   "version": "3.8.8"
  }
=======
  }
 ],
 "metadata": {
  "kernelspec": {
   "display_name": "Python 3",
   "language": "python",
   "name": "python3"
  },
  "language_info": {
   "codemirror_mode": {
    "name": "ipython",
    "version": 3
   },
   "file_extension": ".py",
   "mimetype": "text/x-python",
   "name": "python",
   "nbconvert_exporter": "python",
   "pygments_lexer": "ipython3",
   "version": "3.8.8"
  }
>>>>>>> 0a0fb492bb7e4b09f007072472c961f43a3f5125
 },
 "nbformat": 4,
 "nbformat_minor": 2
}
