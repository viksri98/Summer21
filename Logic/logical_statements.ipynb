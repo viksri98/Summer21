{
 "metadata": {
  "language_info": {
   "codemirror_mode": {
    "name": "ipython",
    "version": 3
   },
   "file_extension": ".py",
   "mimetype": "text/x-python",
   "name": "python",
   "nbconvert_exporter": "python",
   "pygments_lexer": "ipython3",
   "version": "3.8.8-final"
  },
  "orig_nbformat": 2,
  "kernelspec": {
   "name": "python38864bitclass21condac630186d82cf42c294623460888b15e5",
   "display_name": "Python 3.8.8 64-bit ('class21': conda)"
  }
 },
 "nbformat": 4,
 "nbformat_minor": 2,
 "cells": [
  {
   "source": [
    "# Logical Statements\n",
    "A simple definition of a logical statement is that a logical statement is a statement that produces an output \n",
    "which either has the value **True** or **False**.  From a coding perspective, we might map those two states onto a binary variable which takes on the value 1 or 0.  This is known as a **Boolean** variable.   "
   ],
   "cell_type": "markdown",
   "metadata": {}
  },
  {
   "source": [
    "## Comparison Operators\n",
    "\n",
    "A logical statement almost always involves comparisons. Examples of comparisons that come to mind might be \n",
    "* equal   \n",
    "* not equal\n",
    "* greater than \n",
    "* greater than or equal \n",
    "* less than\n",
    "* less than or equal \n",
    "\n"
   ],
   "cell_type": "markdown",
   "metadata": {}
  },
  {
   "source": [
    "The first operator, equal, is `==`. We use two equals signs because `=` is already used to assign variables their values.  \n"
   ],
   "cell_type": "markdown",
   "metadata": {}
  },
  {
   "cell_type": "code",
   "execution_count": 1,
   "metadata": {},
   "outputs": [
    {
     "output_type": "execute_result",
     "data": {
      "text/plain": [
       "True"
      ]
     },
     "metadata": {},
     "execution_count": 1
    }
   ],
   "source": [
    "x = 5\n",
    "x == 5"
   ]
  },
  {
   "cell_type": "code",
   "execution_count": 2,
   "metadata": {},
   "outputs": [],
   "source": [
    "test = (x == 5)\n",
    "print(test)"
   ]
  },
  {
   "cell_type": "code",
   "execution_count": 3,
   "metadata": {},
   "outputs": [
    {
     "output_type": "execute_result",
     "data": {
      "text/plain": [
       "bool"
      ]
     },
     "metadata": {},
     "execution_count": 3
    }
   ],
   "source": [
    "type(test)"
   ]
  },
  {
   "source": [
    "### Table of Logical Operations\n",
    "\n",
    "A summary of the comparison operators and their equivalent numpy function is shown here:\n",
    "\n",
    "| Operator\t    | English          || Operator\t    | English             |\n",
    "|---------------|------------------||---------------|---------------------|\n",
    "|``==``         |``equal``         ||``!=``         |``not equal``        |\n",
    "|``<``          |``less than``     ||``<=``         |``less or equal``    |\n",
    "|``>``          |``greater than``  ||``>=``         |``greater or equal`` |\n"
   ],
   "cell_type": "markdown",
   "metadata": {}
  }
 ]
}