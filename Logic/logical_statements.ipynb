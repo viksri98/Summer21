{
 "metadata": {
  "language_info": {
   "codemirror_mode": {
    "name": "ipython",
    "version": 3
   },
   "file_extension": ".py",
   "mimetype": "text/x-python",
   "name": "python",
   "nbconvert_exporter": "python",
   "pygments_lexer": "ipython3",
   "version": "3.8.8-final"
  },
  "orig_nbformat": 2,
  "kernelspec": {
   "name": "python38864bitclass21condac630186d82cf42c294623460888b15e5",
   "display_name": "Python 3.8.8 64-bit ('class21': conda)"
  }
 },
 "nbformat": 4,
 "nbformat_minor": 2,
 "cells": [
  {
   "source": [
    "# Logical Statements\n",
    "A simple definition of a logical statement is that a logical statement is a statement that produces an output \n",
    "which either has the value **True** or **False**.  From a coding perspective, we might map those two states onto a binary variable which takes on the value 1 or 0.  This is known as a **Boolean** variable.   "
   ],
   "cell_type": "markdown",
   "metadata": {}
  },
  {
   "source": [
    "## Comparison Operators\n",
    "\n",
    "A logical statement almost always involves comparisons. Examples of comparisons that come to mind might be \n",
    "* equal   \n",
    "* not equal\n",
    "* greater than \n",
    "* greater than or equal \n",
    "* less than\n",
    "* less than or equal \n",
    "\n"
   ],
   "cell_type": "markdown",
   "metadata": {}
  },
  {
   "source": [
    "The first operator, equal, is `==`. We use two equals signs because `=` is already used to assign variables their values.  \n"
   ],
   "cell_type": "markdown",
   "metadata": {}
  },
  {
   "cell_type": "code",
   "execution_count": 1,
   "metadata": {},
   "outputs": [
    {
     "output_type": "execute_result",
     "data": {
      "text/plain": [
       "True"
      ]
     },
     "metadata": {},
     "execution_count": 1
    }
   ],
   "source": [
    "x = 5\n",
    "x == 5"
   ]
  },
  {
   "cell_type": "code",
   "execution_count": 2,
   "metadata": {},
   "outputs": [],
   "source": [
    "test = (x == 5)\n",
    "print(test)"
   ]
  },
  {
   "cell_type": "code",
   "execution_count": 3,
   "metadata": {},
   "outputs": [
    {
     "output_type": "execute_result",
     "data": {
      "text/plain": [
       "bool"
      ]
     },
     "metadata": {},
     "execution_count": 3
    }
   ],
   "source": [
    "type(test)"
   ]
  },
  {
   "source": [
    "### Table of Logical Operations\n",
    "\n",
    "A summary of the comparison operators is shown here:\n",
    "\n",
    "| Operator\t    | English          || Operator\t    | English             |\n",
    "|---------------|------------------||---------------|---------------------|\n",
    "|``==``         |``equal``         ||``!=``         |``not equal``        |\n",
    "|``<``          |``less than``     ||``<=``         |``less or equal``    |\n",
    "|``>``          |``greater than``  ||``>=``         |``greater or equal`` |\n"
   ],
   "cell_type": "markdown",
   "metadata": {}
  },
  {
   "cell_type": "code",
   "execution_count": 2,
   "metadata": {},
   "outputs": [
    {
     "output_type": "stream",
     "name": "stdout",
     "text": [
      "[1 2 3 4 5]\n"
     ]
    }
   ],
   "source": [
    "import numpy as np\n",
    "x = np.array([1, 2, 3, 4, 5])\n",
    "print(x)"
   ]
  },
  {
   "cell_type": "code",
   "execution_count": 5,
   "metadata": {},
   "outputs": [
    {
     "output_type": "stream",
     "name": "stdout",
     "text": [
      "[ True  True False False False]\nbool\n"
     ]
    }
   ],
   "source": [
    "test = (x < 3)\n",
    "print(test)\n",
    "print(test.dtype)"
   ]
  },
  {
   "cell_type": "code",
   "execution_count": 6,
   "metadata": {},
   "outputs": [
    {
     "output_type": "stream",
     "name": "stdout",
     "text": [
      "[False False  True False False]\n"
     ]
    }
   ],
   "source": [
    "test = (x == 3)\n",
    "print(test)"
   ]
  },
  {
   "source": [
    "## Set Theory\n",
    "We can view the array `x` defined above as a **set**. This set defines a **space**, or universe  \n",
    "Any of these logical operations divides the space into two **subspaces**, one where the logical statement is true, and another where the logical statement is false  \n",
    "These two subsets must combine to form the original set"
   ],
   "cell_type": "markdown",
   "metadata": {}
  },
  {
   "cell_type": "code",
   "execution_count": 7,
   "metadata": {},
   "outputs": [
    {
     "output_type": "stream",
     "name": "stdout",
     "text": [
      "test1 =  [ True  True False False False]\ntest2 =  [False False False  True  True]\ntest3 =  [False False  True  True  True]\n"
     ]
    }
   ],
   "source": [
    "test1 = (x < 3)\n",
    "print(\"test1 = \", test1)\n",
    "test2 = (x > 3)\n",
    "print(\"test2 = \", test2)\n",
    "test3 = (x >= 3)\n",
    "print(\"test3 = \", test3)"
   ]
  },
  {
   "source": [
    "The **complement** of a boolean is its opposite. The complement of True is False, and the complement of False is True  \n",
    "We can use either the numpy `logical_not` or `~` operator to take the complement of an array"
   ],
   "cell_type": "markdown",
   "metadata": {}
  },
  {
   "cell_type": "code",
   "execution_count": 8,
   "metadata": {},
   "outputs": [
    {
     "output_type": "stream",
     "name": "stdout",
     "text": [
      "test4 =  [False False  True  True  True]\ntest5 =  [False False  True  True  True]\n"
     ]
    }
   ],
   "source": [
    "test4 = np.logical_not(test1)\n",
    "print(\"test4 = \", test4)\n",
    "test5 = ~test1\n",
    "print(\"test5 = \", test5)"
   ]
  },
  {
   "source": [
    "Sometimes we might want to manually create a boolean array. There are 2 methods to do this"
   ],
   "cell_type": "markdown",
   "metadata": {}
  },
  {
   "cell_type": "code",
   "execution_count": 9,
   "metadata": {},
   "outputs": [
    {
     "output_type": "stream",
     "name": "stdout",
     "text": [
      "[ True False False  True]\n"
     ]
    }
   ],
   "source": [
    "bool_list = [True, False, False, True]\n",
    "bool_array = np.array(bool_list)\n",
    "print(bool_array)"
   ]
  },
  {
   "cell_type": "code",
   "execution_count": 11,
   "metadata": {},
   "outputs": [
    {
     "output_type": "stream",
     "name": "stdout",
     "text": [
      "[ True False False  True]\n"
     ]
    }
   ],
   "source": [
    "bool_list = [1, 0, 0, 1]\n",
    "bool_array = np.array(bool_list, dtype = bool)\n",
    "print(bool_array)"
   ]
  },
  {
   "source": [
    "There are some rules when converting to a boolean or boolean array  \n",
    "0, False, empty strings, and None are all **False**  \n",
    "Anything else is **True**"
   ],
   "cell_type": "markdown",
   "metadata": {}
  },
  {
   "cell_type": "code",
   "execution_count": 12,
   "metadata": {},
   "outputs": [
    {
     "output_type": "stream",
     "name": "stdout",
     "text": [
      "[1, 0.5, 0, 0.0, None, 'a', '', ' ', True, False]\n[ True  True False False False  True False  True  True False]\n"
     ]
    }
   ],
   "source": [
    "strange_list = [1, 0.5, 0, 0.0, None, 'a', '', ' ',True, False]\n",
    "bool_arr = np.array(strange_list, dtype=bool)\n",
    "print(strange_list)\n",
    "print(bool_arr)"
   ]
  },
  {
   "source": [
    "We can also use the comparison operators to compare arrays element by element"
   ],
   "cell_type": "markdown",
   "metadata": {}
  },
  {
   "cell_type": "code",
   "execution_count": 13,
   "metadata": {},
   "outputs": [
    {
     "output_type": "stream",
     "name": "stdout",
     "text": [
      "[ True  True  True False False]\n"
     ]
    }
   ],
   "source": [
    "x1 = np.array([2, 3, 4, 1, 2])\n",
    "x2 = np.array([1, 2, 3, 4, 5])\n",
    "test = x1 > x2\n",
    "print(test)"
   ]
  },
  {
   "cell_type": "code",
   "execution_count": 16,
   "metadata": {},
   "outputs": [
    {
     "output_type": "stream",
     "name": "stdout",
     "text": [
      "[False  True False  True False]\n"
     ]
    }
   ],
   "source": [
    "test = x1 + x2 == 5\n",
    "print(test)"
   ]
  },
  {
   "cell_type": "code",
   "execution_count": 25,
   "metadata": {},
   "outputs": [
    {
     "output_type": "stream",
     "name": "stdout",
     "text": [
      "[8 7 3 6 1]\n[False False  True False  True]\n"
     ]
    }
   ],
   "source": [
    "x = np.array([8, 7, 3, 6, 1])\n",
    "print(x)\n",
    "print(x < 6)"
   ]
  },
  {
   "source": [
    "### Counting entries  \n",
    "We can use `np.count_nonzero` to count the number of `True` elements in a boolean array"
   ],
   "cell_type": "markdown",
   "metadata": {}
  },
  {
   "cell_type": "code",
   "execution_count": 26,
   "metadata": {},
   "outputs": [
    {
     "output_type": "execute_result",
     "data": {
      "text/plain": [
       "2"
      ]
     },
     "metadata": {},
     "execution_count": 26
    }
   ],
   "source": [
    "np.count_nonzero(x < 6)"
   ]
  },
  {
   "source": [
    "We see that there are 2 array entries that are less than 6. Another way to get this information is to use `np.sum`  \n",
    "In this case, `False` is interpreted as `0`, and `True` is interpreted as `1`"
   ],
   "cell_type": "markdown",
   "metadata": {}
  },
  {
   "cell_type": "code",
   "execution_count": 27,
   "metadata": {},
   "outputs": [
    {
     "output_type": "execute_result",
     "data": {
      "text/plain": [
       "2"
      ]
     },
     "metadata": {},
     "execution_count": 27
    }
   ],
   "source": [
    "np.sum(x < 6)"
   ]
  },
  {
   "source": [
    "If we want to check for any or all values meeting a condition, we use `np.any` and `np.all`"
   ],
   "cell_type": "markdown",
   "metadata": {}
  },
  {
   "cell_type": "code",
   "execution_count": null,
   "metadata": {},
   "outputs": [],
   "source": [
    "np.any(x > 8)"
   ]
  },
  {
   "cell_type": "code",
   "execution_count": null,
   "metadata": {},
   "outputs": [],
   "source": [
    "np.all(x > 0)"
   ]
  }
 ]
}