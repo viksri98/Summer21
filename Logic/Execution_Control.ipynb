{
 "cells": [
  {
   "cell_type": "markdown",
   "metadata": {},
   "source": [
    "# Lesson 11\n",
    "\n",
    "# Execution Control\n",
    "\n",
    "One of the fundamental aspects of a program is execution control.  By execution control we mean that the program can act in different ways depending on a **conditional statement**. <br>\n",
    "\n",
    "Can you list some of the **conditions** that you have seen so far?"
   ]
  },
  {
   "cell_type": "markdown",
   "metadata": {},
   "source": [
    "## Conditional Statements: `if`\n",
    "\n",
    "Conditionals are statements that evaluate a **logical statement**, using the `if` statement, and then only execute a set of code if the condition evaluates as True. "
   ]
  },
  {
   "cell_type": "markdown",
   "metadata": {},
   "source": [
    "### Example 1: if with variables"
   ]
  },
  {
   "cell_type": "code",
   "execution_count": 1,
   "metadata": {},
   "outputs": [
    {
     "name": "stdout",
     "output_type": "stream",
     "text": [
      "This code executes if the condition evaluates as True.\n"
     ]
    }
   ],
   "source": [
    "condition = True\n",
    "\n",
    "if condition:\n",
    "    print('This code executes if the condition evaluates as True.')"
   ]
  },
  {
   "cell_type": "code",
   "execution_count": 2,
   "metadata": {},
   "outputs": [
    {
     "name": "stdout",
     "output_type": "stream",
     "text": [
      "This code executes if the condition evaluates as True.\n"
     ]
    }
   ],
   "source": [
    "# equivalent to above\n",
    "if condition == True:\n",
    "    print('This code executes if the condition evaluates as True.')"
   ]
  },
  {
   "cell_type": "code",
   "execution_count": 3,
   "metadata": {},
   "outputs": [
    {
     "name": "stdout",
     "output_type": "stream",
     "text": [
      "positive\n"
     ]
    }
   ],
   "source": [
    "n = 1 \n",
    "if n > 0:\n",
    "    sign = 'positive'\n",
    "print(sign)"
   ]
  },
  {
   "cell_type": "markdown",
   "metadata": {},
   "source": [
    "### Exercise 1: "
   ]
  },
  {
   "cell_type": "code",
   "execution_count": 4,
   "metadata": {},
   "outputs": [
    {
     "name": "stdout",
     "output_type": "stream",
     "text": [
      "positive\n"
     ]
    }
   ],
   "source": [
    "#What happens in the previous block of code if the value of n is 0? TRY IT! \n",
    "n = 0 \n",
    "if n > 0:\n",
    "    sign = 'positive'\n",
    "print(sign)"
   ]
  },
  {
   "cell_type": "markdown",
   "metadata": {},
   "source": [
    "### Syntax notes 1\n",
    "\n",
    "There are important pieces to the synatax \n",
    "* the logical statement leads with an `if` statement \n",
    "* the logical statement is followed by a colon `:`\n",
    "* the code to be executed if the conditional statement is met is indented. \n",
    "\n",
    "Indentation facilitates clearly understanding of the hierarchy of execution control. "
   ]
  },
  {
   "cell_type": "markdown",
   "metadata": {},
   "source": [
    "### Table of Comparison Operations\n",
    "\n",
    "A summary of the comparison operators and their equivalent **numpy function** is shown here:\n",
    "\n",
    "| Operator\t    | Equivalent ufunc    || Operator\t   | Equivalent ufunc    |\n",
    "|---------------|---------------------||---------------|---------------------|\n",
    "|``==``         |``np.equal``         ||``!=``         |``np.not_equal``     |\n",
    "|``<``          |``np.less``          ||``<=``         |``np.less_equal``    |\n",
    "|``>``          |``np.greater``       ||``>=``         |``np.greater_equal`` |\n",
    "\n",
    "\n",
    "### Logical Operators \n",
    "\n",
    "The results of logical operations that can return a *single* value of **True** or **False** can also be used in execution control with an if statement.  <br>\n",
    "Logical operations on arrays will often return Boolean arrays that contain the result of a comparison operator applied to each element of the array.   These can be combined in \n",
    "execution control by \n",
    "\n",
    "* **np.any** - check if any of the of elements of an array are True \n",
    "* **np.all** - check if all of the elements of an array are True\n"
   ]
  },
  {
   "cell_type": "markdown",
   "metadata": {},
   "source": [
    "### Example 2: if with numpy arrays"
   ]
  },
  {
   "cell_type": "code",
   "execution_count": 5,
   "metadata": {},
   "outputs": [],
   "source": [
    "import numpy as np \n",
    "array_a = np.array([-10, 22, 12, -1, 5, -6, 7, -9, 13], dtype = 'int')"
   ]
  },
  {
   "cell_type": "code",
   "execution_count": 6,
   "metadata": {},
   "outputs": [
    {
     "name": "stdout",
     "output_type": "stream",
     "text": [
      "There were negative numbers\n",
      "[-10  22  12  -1   5  -6   7  -9  13]\n",
      "[ True False False  True False  True False  True False]\n"
     ]
    }
   ],
   "source": [
    "if np.any(array_a < 0):                     # You can use any of the other operators too !=, ==, >= etc\n",
    "    print('There were negative numbers')\n",
    "    print(array_a)\n",
    "    print(array_a < 0)\n"
   ]
  },
  {
   "cell_type": "code",
   "execution_count": 7,
   "metadata": {},
   "outputs": [
    {
     "name": "stdout",
     "output_type": "stream",
     "text": [
      "Moving on with code\n"
     ]
    }
   ],
   "source": [
    "#what happens when the logical statement is false.  \n",
    "if np.all(array_a < 0):\n",
    "    print (array_a)\n",
    "    print('All numbers were negative numbers')\n",
    "print (\"Moving on with code\")"
   ]
  },
  {
   "cell_type": "markdown",
   "metadata": {},
   "source": [
    "## Conditional statements: `else`\n",
    "\n",
    "After an if, you can use an `else` that will run if the logical statement was **False** and the conditional statement was not met. \n",
    "\n",
    "Only one of the code fragments will run.  The logical statement can only one of **True** or **False**\n",
    "\n",
    "### Example 3: else with variables"
   ]
  },
  {
   "cell_type": "code",
   "execution_count": 8,
   "metadata": {},
   "outputs": [
    {
     "name": "stdout",
     "output_type": "stream",
     "text": [
      "This code executes if the condition evaluates as False\n"
     ]
    }
   ],
   "source": [
    "condition = False\n",
    "\n",
    "if condition:\n",
    "    print('This code executes if the condition evaluates as True.')\n",
    "else: \n",
    "    print('This code executes if the condition evaluates as False')"
   ]
  },
  {
   "cell_type": "markdown",
   "metadata": {},
   "source": [
    "### Example 4: else with numpy arrays"
   ]
  },
  {
   "cell_type": "code",
   "execution_count": 9,
   "metadata": {},
   "outputs": [
    {
     "name": "stdout",
     "output_type": "stream",
     "text": [
      "[-10  22  12  -1   5  -6   7  -9  13]\n",
      "At least one number was a positive number\n"
     ]
    }
   ],
   "source": [
    "print (array_a)\n",
    "if np.all(array_a < 0):\n",
    "    print('All numbers were negative numbers')\n",
    "else:\n",
    "    print('At least one number was a positive number')\n",
    "    "
   ]
  },
  {
   "cell_type": "code",
   "execution_count": 10,
   "metadata": {},
   "outputs": [
    {
     "name": "stdout",
     "output_type": "stream",
     "text": [
      "[-10  22  12  -1   5  -6   7  -9  13]\n",
      "At least one number was zero or a positive number\n",
      "Not negative:  5\n"
     ]
    }
   ],
   "source": [
    "print(array_a)\n",
    "if np.all(array_a < 0):\n",
    "    print('All numbers were negative numbers')\n",
    "else:\n",
    "    print('At least one number was zero or a positive number')\n",
    "    n_notnegative = np.sum(array_a >= 0)\n",
    "    print('Not negative: ', n_notnegative)"
   ]
  },
  {
   "cell_type": "markdown",
   "metadata": {},
   "source": [
    "### Syntax notes 2\n",
    "\n",
    "Notice that the `else` statement is itself a conditional statement.  Thus, it is completed with a colon `:`\n",
    "\n",
    "Notice also, that the structure of an if-else statement can have multiple lines of code under each conditional statement \n",
    "\n",
    "    if logical statement: \n",
    "        do this  #CODE BLOCK EXECUTES ONLY IF LOGICAL STATEMENT IS TRUE \n",
    "        and this \n",
    "        and this \n",
    "    else:\n",
    "        do this  #CODE BLOCK EXECUTES ONLY IF LOGICAL STATEMENT IS FALSE\n",
    "        and this\n",
    "        and this\n",
    "    more code    #Will execute regardless of the logical statement being TRUE or FALSE\n",
    "    and more code\n",
    "\n"
   ]
  },
  {
   "cell_type": "markdown",
   "metadata": {},
   "source": [
    "## Conditional Statements: `elif`\n",
    "\n",
    "Multiple **non-overlapping** conditional statements can be organized together using an `elif` statement.\n",
    "\n",
    "`elif` combines else and if. \n",
    "\n",
    "### Example 5: elif with variables"
   ]
  },
  {
   "cell_type": "code",
   "execution_count": 11,
   "metadata": {},
   "outputs": [
    {
     "name": "stdout",
     "output_type": "stream",
     "text": [
      "This code executes if condition_1 did not evaluate as True, but condition_2 does.\n"
     ]
    }
   ],
   "source": [
    "condition_1 = False\n",
    "condition_2 = True\n",
    "\n",
    "if condition_1:\n",
    "    print('This code executes if condition_1 evaluates as True.')\n",
    "elif condition_2:\n",
    "    print('This code executes if condition_1 did not evaluate as True, but condition_2 does.')\n",
    "else: \n",
    "    print('This code executes if both condition_1 and condition_2 evaluate as False')"
   ]
  },
  {
   "cell_type": "markdown",
   "metadata": {},
   "source": [
    "`elif` without an `else`\n",
    "\n",
    "An `else` statement is not required, but if both the `if` and the `elif` condtions are not met (both evaluate as **False**), then nothing is returned.\n"
   ]
  },
  {
   "cell_type": "code",
   "execution_count": 12,
   "metadata": {},
   "outputs": [],
   "source": [
    "condition_1 = False\n",
    "condition_2 = False\n",
    "\n",
    "if condition_1:\n",
    "    print('This code executes if condition_1 evaluates as True.')\n",
    "elif condition_2:\n",
    "    print('This code executes if condition_1 did not evaluate as True, but condition_2 does.')"
   ]
  },
  {
   "cell_type": "markdown",
   "metadata": {},
   "source": [
    "`elif` after an `else` does not make sense\n",
    "\n",
    "The order will always be `if-elif-else`...with only the `if` being required. If the `elif` is at the end...it will never be tested, as the else will have already returned a value once reached (and thus Python will throw an error).\n"
   ]
  },
  {
   "cell_type": "code",
   "execution_count": 13,
   "metadata": {},
   "outputs": [
    {
     "ename": "SyntaxError",
     "evalue": "invalid syntax (<ipython-input-13-aedfc0cec5db>, line 9)",
     "output_type": "error",
     "traceback": [
      "\u001b[0;36m  File \u001b[0;32m\"<ipython-input-13-aedfc0cec5db>\"\u001b[0;36m, line \u001b[0;32m9\u001b[0m\n\u001b[0;31m    elif condition_2:\u001b[0m\n\u001b[0m    ^\u001b[0m\n\u001b[0;31mSyntaxError\u001b[0m\u001b[0;31m:\u001b[0m invalid syntax\n"
     ]
    }
   ],
   "source": [
    "## THIS CODE WILL PRODUCE AN ERROR\n",
    "condition_1 = False\n",
    "condition_2 = False\n",
    "\n",
    "if condition_1:\n",
    "    print('This code executes if condition_1 evaluates as True.')\n",
    "else: \n",
    "    print('This code executes if both condition_1 and condition_2 evaluate as False')\n",
    "elif condition_2:\n",
    "    print('This code executes if condition_1 did not evaluate as True, but condition_2 does.')"
   ]
  },
  {
   "cell_type": "code",
   "execution_count": 14,
   "metadata": {
    "scrolled": true
   },
   "outputs": [
    {
     "name": "stdout",
     "output_type": "stream",
     "text": [
      "I did Math\n"
     ]
    }
   ],
   "source": [
    "math_ans = 20\n",
    "if math_ans == 20:\n",
    "    print(\"I did Math\")\n",
    "elif 1/0:\n",
    "    print(\"I broke Math\")\n",
    "else:\n",
    "    print(\"I didn't do math\")"
   ]
  },
  {
   "cell_type": "markdown",
   "metadata": {},
   "source": [
    "### Exercise 2: \n",
    "Use the example above and try the exercises below."
   ]
  },
  {
   "cell_type": "code",
   "execution_count": 15,
   "metadata": {},
   "outputs": [
    {
     "name": "stdout",
     "output_type": "stream",
     "text": [
      "I broke Math\n"
     ]
    }
   ],
   "source": [
    "#Change the conditions so that you will print \"I broke Math\". \n",
    "math_ans = 20\n",
    "if math_ans != 20:\n",
    "    print(\"I did Math\")\n",
    "elif 1:\n",
    "    print(\"I broke Math\")\n",
    "else:\n",
    "    print(\"I didn't do math\")"
   ]
  },
  {
   "cell_type": "code",
   "execution_count": 16,
   "metadata": {},
   "outputs": [
    {
     "name": "stdout",
     "output_type": "stream",
     "text": [
      "I didn't do math\n"
     ]
    }
   ],
   "source": [
    "# Change the conditions so that you will print \"I didn't do Math\"\n",
    "math_ans = 20\n",
    "if math_ans != 20:\n",
    "    print(\"I did Math\")\n",
    "elif 0:\n",
    "    print(\"I broke Math\")\n",
    "else:\n",
    "    print(\"I didn't do math\")"
   ]
  },
  {
   "cell_type": "markdown",
   "metadata": {},
   "source": [
    "### Python is an interpreted language.  It is not testing all your code before executing.  It is interpeting it line by line while executing it.  "
   ]
  },
  {
   "cell_type": "markdown",
   "metadata": {},
   "source": [
    "### Syntax notes 3\n",
    "\n",
    "    if logical statement 1: \n",
    "        do this  #CODE BLOCK EXECUTES ONLY IF LOGICAL STATEMENT 1 IS TRUE \n",
    "        and this \n",
    "        and this \n",
    "    elif logical statement 2: \n",
    "        do this  #CODE BLOCK EXECUTES ONLY IF LOGICAL STATMENT 2 is TRUE\n",
    "        and this\n",
    "        and this\n",
    "    else:\n",
    "        do this  #CODE BLOCK EXECUTES ONLY IF LOGICAL STATEMENT IS FALSE\n",
    "        and this\n",
    "        and this\n",
    "\n",
    "An important implication of using the `if-elif-else` for execution control is to have a clear understanding of \n",
    "the relationship between logical statement 1 and logical statement 2.   \n",
    "\n",
    "You should think about this in terms of sets and subsets.  There is a subset that meets the conditions of logical statement 1.  If that is **True** , *logical statement 2 is never evaluated* "
   ]
  },
  {
   "cell_type": "code",
   "execution_count": 17,
   "metadata": {},
   "outputs": [
    {
     "name": "stdout",
     "output_type": "stream",
     "text": [
      "single digit\n"
     ]
    }
   ],
   "source": [
    "#This is a logically messed up set of statements. DONT DO THIS! \n",
    "n = 6\n",
    "if n < 10:\n",
    "    print('single digit')\n",
    "elif n > 5:\n",
    "    print('greater than 5')\n",
    "else:\n",
    "    print('double digit number')"
   ]
  },
  {
   "cell_type": "markdown",
   "metadata": {},
   "source": [
    "The problem with the above block of code is that the subsets of the space of integers that meet the criterion overlap.  \n",
    "* if n is 6,7,8,9 it meets two criteria, and only the first one executes. \n",
    "* if n >= 10 it meets two criteria and only the first one executes. "
   ]
  },
  {
   "cell_type": "markdown",
   "metadata": {},
   "source": [
    "### Example 6: elif with numpy arrays"
   ]
  },
  {
   "cell_type": "code",
   "execution_count": 18,
   "metadata": {},
   "outputs": [
    {
     "name": "stdout",
     "output_type": "stream",
     "text": [
      "[-10  22  12  -1   5  -6   7  -9  13]\n",
      "There are positive and negative numbers in the array\n"
     ]
    }
   ],
   "source": [
    "print (array_a)\n",
    "if np.any(array_a == 0):\n",
    "    print (\"There is atleast one element that is equal to zero\")\n",
    "elif np.all(array_a > 0):\n",
    "    print (\"All the elements are greater than zero\")\n",
    "else: \n",
    "    print (\"There are positive and negative numbers in the array\")"
   ]
  },
  {
   "cell_type": "markdown",
   "metadata": {},
   "source": [
    "## Summary of properties of conditionals\n",
    "\n",
    "- All conditionals start with an `if`, can have an optional and variable number of `elif`'s and an optional `else` statement\n",
    "- Conditionals can take any expression that can be evaluated as `True` or `False`. \n",
    "- At most one component (`if` / `elif` / `else`) of a conditional will run\n",
    "- The order of conditional blocks is always `if` then `elif`(s) then `else`\n",
    "- Code is only ever executed if the condition is met"
   ]
  },
  {
   "cell_type": "markdown",
   "metadata": {},
   "source": [
    "## Compound conditional statements \n",
    "\n",
    "The only requirement on the logical statement that makes the conditional `if` statement is that can return either **True** or **False**.  We can make compound conditional statements using Boolean Operators. \n",
    "\n",
    "### Table of Boolean Operators.\n",
    "\n",
    "The following table summarizes the bitwise Boolean operators and their equivalent ufuncs:\n",
    "\n",
    "| Operator\t    | Equivalent ufunc    || Operator\t    | Equivalent ufunc    |\n",
    "|---------------|---------------------||---------------|---------------------|\n",
    "|``&``          |``np.bitwise_and``   ||&#124;         |``np.bitwise_or``    |\n",
    "|``^``          |``np.bitwise_xor``   ||``~``          |``np.bitwise_not``   |\n",
    "\n",
    "<br>\n",
    "### Example 7: compound conditions with variables"
   ]
  },
  {
   "cell_type": "code",
   "execution_count": 19,
   "metadata": {},
   "outputs": [
    {
     "name": "stdout",
     "output_type": "stream",
     "text": [
      "Even and less than or equal to 10\n"
     ]
    }
   ],
   "source": [
    "n = 8 \n",
    "if (n%2 == 1) | (n > 10):\n",
    "    print('Either odd or Larger than 10')\n",
    "else:\n",
    "    print('Even and less than or equal to 10')\n",
    "    \n",
    "#Note that the opposite of an OR (|) conditional boolean operator in an AND.     "
   ]
  },
  {
   "cell_type": "code",
   "execution_count": 20,
   "metadata": {},
   "outputs": [
    {
     "name": "stdout",
     "output_type": "stream",
     "text": [
      "Either odd or less than or equal to 10\n"
     ]
    }
   ],
   "source": [
    "n = 17 \n",
    "if (n%2 == 0) & (n > 10):\n",
    "    print('Even and Larger than 10')\n",
    "else:\n",
    "    print('Either odd or less than or equal to 10')\n",
    "    \n",
    "#Note that the opposite of an AND (&) conditional boolean operator in an OR.    "
   ]
  },
  {
   "cell_type": "markdown",
   "metadata": {},
   "source": [
    "### Example 8: compound conditions with numpy arrays"
   ]
  },
  {
   "cell_type": "code",
   "execution_count": 21,
   "metadata": {},
   "outputs": [
    {
     "name": "stdout",
     "output_type": "stream",
     "text": [
      "[-10  22  12  -1   5  -6   7  -9  13]\n",
      "[ 0 12 13  5  5  6 -7 10 32]\n",
      "There is atleast one element in array_a that is equal to the corresponding element in array_b\n",
      "OR \n",
      "There is an element in array_a that is greater than the corresponding element in array_b\n",
      "[False  True False False  True False  True False False]\n"
     ]
    }
   ],
   "source": [
    "print (array_a)\n",
    "array_b = np.array([0, 12, 13, 5, 5, 6, -7, 10, 32], dtype = 'int')\n",
    "print (array_b)\n",
    "\n",
    "eq_gr_elements = np.bitwise_or(array_a == array_b, array_a > array_b)\n",
    "if (eq_gr_elements.all()):\n",
    "    print (\"All the elements are equal or array_a is bigger than array_b\")\n",
    "elif (eq_gr_elements.any()): \n",
    "    print (\"There is atleast one element in array_a that is equal to the corresponding element in array_b\")\n",
    "    print (\"OR \")\n",
    "    print (\"There is an element in array_a that is greater than the corresponding element in array_b\")\n",
    "else: \n",
    "    print (\"None of the elements are equal and array_a is not greater than array_b\")\n",
    "print(eq_gr_elements)"
   ]
  },
  {
   "cell_type": "code",
   "execution_count": null,
   "metadata": {},
   "outputs": [],
   "source": []
  },
  {
   "cell_type": "markdown",
   "metadata": {},
   "source": [
    "### Exercise 3: \n",
    "Remember the example of the roller coaster ride? We are going to redo it now with **compound conditional** statements\n",
    "Create a numpy array with the following information<br>\n",
    "<table>\n",
    "    <tr>\n",
    "        <th>Name</th>\n",
    "        <th>Age</th>\n",
    "        <th>Height</th>\n",
    "    </tr>\n",
    "    <tr>\n",
    "        <td>Justin</td>\n",
    "        <td>65</td>\n",
    "        <td>7</td>\n",
    "    </tr>\n",
    "    <tr>\n",
    "        <td>Josh</td>\n",
    "        <td>6</td>\n",
    "        <td>6</td>\n",
    "    </tr>\n",
    "    <tr>\n",
    "        <td>Aneya</td>\n",
    "        <td>22</td>\n",
    "        <td>5.5</td>\n",
    "    </tr>\n",
    "    <tr>\n",
    "        <td>Eric</td>\n",
    "        <td>18</td>\n",
    "        <td>4.8</td>\n",
    "    </tr>\n",
    "    <tr>\n",
    "        <td>Surekha</td>\n",
    "        <td>81</td>\n",
    "        <td>3</td>\n",
    "    </tr>\n",
    "    <tr>\n",
    "        <td>Vikram</td>\n",
    "        <td>100</td>\n",
    "        <td>5.8</td>\n",
    "    </tr>\n",
    "</table>\n",
    "\n",
    "The \"Cube\" roller coaster requires all those who get on the ride must be between 10 and 99 years old and at least 5 feet tall. \n",
    "You have to tell us which of the users can ride the roller coaster. <br>\n",
    "\n",
    "Expected Output:<br>\n",
    "`We have people who can get on the roller coaster.\n",
    "Justin, Josh, Aneya, Eric, Surekha, Vikram\n",
    "[ True False  True False False False]`"
   ]
  },
  {
   "cell_type": "code",
   "execution_count": null,
   "metadata": {},
   "outputs": [],
   "source": []
  },
  {
   "cell_type": "markdown",
   "metadata": {},
   "source": [
    "## Nested conditional statements \n",
    "\n",
    "Another option for execution control with combined conditions is to nest `if-elif-else` statements. \n",
    "\n",
    "This structure allows for more options in the output than the compount conditional statement. "
   ]
  },
  {
   "cell_type": "code",
   "execution_count": 22,
   "metadata": {},
   "outputs": [
    {
     "name": "stdout",
     "output_type": "stream",
     "text": [
      "Odd and larger than 10\n"
     ]
    }
   ],
   "source": [
    "n = 17 \n",
    "if n%2 == 0:   #Everything inside here is even\n",
    "    if n > 10:\n",
    "        print('Even and larger than 10')\n",
    "    else:\n",
    "        print('Even and smaller than or equal to 10')\n",
    "else:         #Everything inside here is not even, i.e., odd.  \n",
    "    if n > 10:\n",
    "        print('Odd and larger than 10')\n",
    "    else:\n",
    "        print('Odd and smaller than or equal to 10')\n"
   ]
  },
  {
   "cell_type": "markdown",
   "metadata": {},
   "source": [
    "Syntax notes 4\n",
    "\n",
    "Notice that the else statement is itself a conditional statement. Thus, it is completed with a colon :\n",
    "\n",
    "Notice also, that the structure of an if-else statement can have multiple lines of code under each conditional statement\n",
    "\n",
    "    if logical statement 1: \n",
    "        if logical statement 2: #CODE BLOCK EXECUTES ONLY IF LOGICAL STATEMENT 1 AND LOGICAL STATEMENT 2 IS TRUE \n",
    "            do this  \n",
    "            and this \n",
    "            and this\n",
    "        else: #CODE BLOCK EXECUTES ONLY IF LOGICAL STATEMENT 1 IS TRUE AND LOGICAL STATEMENT 2 IS FALSE\n",
    "            do this\n",
    "            and this \n",
    "            and this \n",
    "    else:\n",
    "        if logical statement 2: #CODE BLOCK EXECUTES ONLY IF LOGICAL STATEMENT 1 IS FALSE AND LOGICAL STATEMENT 2 IS TRUE \n",
    "            do this  \n",
    "            and this \n",
    "            and this\n",
    "        else: #CODE BLOCK EXECUTES ONLY IF LOGICAL STATEMENT 1 IS FALSE AND LOGICAL STATEMENT 2 IS FALSE\n",
    "            do this\n",
    "            and this \n",
    "            and this \n"
   ]
  },
  {
   "cell_type": "markdown",
   "metadata": {},
   "source": [
    "## Conditional Statements: Try-Except\n",
    "\n",
    "The `try` conditional statement can be a useful statement in some scenarios where the quality of the input (or the user) is not under control. \n",
    "\n",
    "The fundamental organization of this `try-except` condtional statement mimics the `if-else` structure, except there is no logical statement. \n",
    "\n",
    "The execution will try to execute the code block inside the `try`.  If there is an execution error, it will run the code block in the `except`\n",
    "\n",
    "This can be attractive when for example 200 subjects data in an experiment is being analyzed and there is potentially corruption in some of the data.   "
   ]
  },
  {
   "cell_type": "code",
   "execution_count": 23,
   "metadata": {
    "scrolled": true
   },
   "outputs": [
    {
     "name": "stdout",
     "output_type": "stream",
     "text": [
      "it failed\n"
     ]
    }
   ],
   "source": [
    "try:\n",
    "    g = 1/0\n",
    "except:\n",
    "    print('it failed')\n"
   ]
  },
  {
   "cell_type": "code",
   "execution_count": null,
   "metadata": {},
   "outputs": [],
   "source": []
  }
 ],
 "metadata": {
  "kernelspec": {
   "display_name": "Python 3",
   "language": "python",
   "name": "python3"
  },
  "language_info": {
   "codemirror_mode": {
    "name": "ipython",
    "version": 3
   },
   "file_extension": ".py",
   "mimetype": "text/x-python",
   "name": "python",
   "nbconvert_exporter": "python",
   "pygments_lexer": "ipython3",
   "version": "3.8.8"
  }
 },
 "nbformat": 4,
 "nbformat_minor": 4
}
