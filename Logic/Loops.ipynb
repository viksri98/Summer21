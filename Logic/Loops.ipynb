{
 "cells": [
  {
   "cell_type": "markdown",
   "metadata": {},
   "source": [
    "# Lesson 12\n",
    "# Execution Control with Loops\n",
    "\n",
    "Loops are a fundamental construct of execution control. Loops are a way of controlling repetition of code, i.e.,\n",
    "allow the same piece of code to run multiple times. \n",
    "\n",
    "Two repetion structures in Python are `for` loops and `while` loops. \n",
    "\n",
    "`for` loops run a set number of times.  In a typical application, a block of code needs to be applied to the elements of a list or an array or list one at a time.    The number of repetitions of the code is determined in advance. \n",
    "\n",
    "`while` loops run as long as a specific logical condition is true. The key difference between `while` and `for` loops is that *the number of repetitions in a while loop is unknown* \n",
    "\n",
    "While loops make it easy to make code blocks repeat, they are **very slow to execute**  "
   ]
  },
  {
   "cell_type": "code",
   "execution_count": 1,
   "metadata": {},
   "outputs": [],
   "source": [
    "import numpy as np \n",
    "from numpy import random\n",
    "from matplotlib import pyplot as plt\n",
    "#Lets start the random number generator\n",
    "rng = random.default_rng(seed = 9876)\n"
   ]
  },
  {
   "cell_type": "markdown",
   "metadata": {},
   "source": [
    "## While Loops\n",
    "\n",
    "A `while` loop is a type of loop that runs as long as a *logical condition* is **True**. When the logical condition becomes **False**, the loop stops running. The general form of a while loop in Python is below:\n",
    "\n",
    "    while logical_statement: \n",
    "        do this\n",
    "        and that\n",
    "        and that \n",
    "        AND DO SOMETHING THAT POSSIBLY CHANGES THE STATE OF THE LOGICAL STATEMENT\n",
    "\n"
   ]
  },
  {
   "cell_type": "markdown",
   "metadata": {},
   "source": [
    "### Example 1: while condition is true"
   ]
  },
  {
   "cell_type": "code",
   "execution_count": 2,
   "metadata": {
    "scrolled": true
   },
   "outputs": [
    {
     "name": "stdout",
     "output_type": "stream",
     "text": [
      "0\n",
      "1\n",
      "2\n",
      "3\n"
     ]
    }
   ],
   "source": [
    "i = 0   #since i is in the logical statement, it must be set to an initial value \n",
    "while i<4:  # this is the conditional statement which controls execution\n",
    "    print(i)\n",
    "    i = i+1 #this is a critical line, as it updates the value of i\n"
   ]
  },
  {
   "cell_type": "markdown",
   "metadata": {},
   "source": [
    "### There are three critical pieces to the while loop.  \n",
    "* First, the variable(s) that will be used in the logical statement must be initialized to some value.  \n",
    "* Second, a while statement performs execution control based on a logical statement being true.  \n",
    "* Third, inside the while loop, the variable(s) used in the logical statement must be updated to new values "
   ]
  },
  {
   "cell_type": "markdown",
   "metadata": {},
   "source": [
    "### CRITICAL STEP IN WHILE LOOPS\n",
    "\n",
    "When making use of a `while` loop it is critical that there always be a line inside the while loop that updates whatever is being tested by the logical statement. \n",
    "\n",
    "If that line is missing, the while loop will become an **infinite** loop and the code will only stop by an act of ***VIOLENCE*** by you against either your jupyter notebook server, or in a worst case, against your computer (hard reboot).  "
   ]
  },
  {
   "cell_type": "markdown",
   "metadata": {},
   "source": [
    "### Example 2 while a flag stays True\n",
    "\n",
    "Sometimes, its easy to just use a Boolean Indicator variable to control the while loop. \n",
    "\n",
    "This can be useful if the conditions that end the while loop are complex. \n",
    "\n",
    "Here I rewrite the loop above with an indicator variable. "
   ]
  },
  {
   "cell_type": "code",
   "execution_count": 3,
   "metadata": {},
   "outputs": [
    {
     "name": "stdout",
     "output_type": "stream",
     "text": [
      "0\n",
      "1\n",
      "2\n",
      "3\n"
     ]
    }
   ],
   "source": [
    "i = 0\n",
    "keep_looping = True\n",
    "while keep_looping:\n",
    "    print(i)\n",
    "    i = i+1\n",
    "    if i >= 4:\n",
    "        keep_looping = False\n"
   ]
  },
  {
   "cell_type": "markdown",
   "metadata": {},
   "source": [
    "### Example 3.  When will I have a thousand dollars? \n",
    "\n",
    "Suppose you have 100 dollars.  You put in the bank, and each year they give you 2.5% interest (compounded annually).  How many years will it take for you to have more than 1000 dollars. \n",
    "\n",
    "Disclaimer: I am fully aware of the compound interest formula.  Just bear with me here.  "
   ]
  },
  {
   "cell_type": "code",
   "execution_count": 5,
   "metadata": {
    "scrolled": true
   },
   "outputs": [
    {
     "name": "stdout",
     "output_type": "stream",
     "text": [
      "Balance is 1011.5026353896955\n",
      "Number of years is  59\n"
     ]
    }
   ],
   "source": [
    "baseline = 100 \n",
    "interest = 0.04\n",
    "target = 1000\n",
    "balance = baseline\n",
    "years = 0 \n",
    "while balance <= target:\n",
    "    balance = balance + interest*balance #this is what happens on Dec 31!\n",
    "    years = years + 1 \n",
    "print('Balance is', balance)    \n",
    "print('Number of years is ', years)    "
   ]
  },
  {
   "cell_type": "markdown",
   "metadata": {},
   "source": [
    "What is the answer to the question? In terms of the code? "
   ]
  },
  {
   "cell_type": "markdown",
   "metadata": {},
   "source": [
    "years! "
   ]
  },
  {
   "cell_type": "markdown",
   "metadata": {},
   "source": [
    "### Example 4.  When will $2^x$ be greater than 1000?\n",
    "\n",
    "This example shows a classical type of problem we might solve with a while loop.\n"
   ]
  },
  {
   "cell_type": "code",
   "execution_count": 1,
   "metadata": {},
   "outputs": [
    {
     "name": "stdout",
     "output_type": "stream",
     "text": [
      "power = 10\n",
      "Value = 1024\n"
     ]
    }
   ],
   "source": [
    "limit = 1000  #set the limit \n",
    "power = 0  #start at 0\n",
    "while (2**power) < limit:\n",
    "    power = power + 1\n",
    "\n",
    "print('power =',power)\n",
    "print('Value =',2**power)\n"
   ]
  },
  {
   "cell_type": "markdown",
   "metadata": {},
   "source": [
    "When will the value become 10,000? Try it by changing the code above."
   ]
  },
  {
   "cell_type": "markdown",
   "metadata": {},
   "source": [
    "### Exercise 1: When will the population reach 10,000 tribbles?\n",
    "\n",
    "A tribble (Star Trek) looks really cute but they multiply fast and have long lives. Each tribble has 2 babies in it's lifetime. Not bad? But as soon as the baby is born it will have 2 babies each. \n",
    "\n",
    "When will a single tribble lead to a population of 10000? \n",
    "\n",
    "How many generations of tribbles will there be all together?\n",
    "\n",
    "A new tribble has it's babbies within 5 mins of its birth. How long before the population is 10,000?"
   ]
  },
  {
   "cell_type": "code",
   "execution_count": null,
   "metadata": {},
   "outputs": [],
   "source": []
  },
  {
   "cell_type": "markdown",
   "metadata": {},
   "source": [
    "## For Loop \n",
    "\n",
    "A `for` loop is a repetition structure where a code block runs a specified number of times.\n",
    "\n",
    "    for var in therange:\n",
    "        do this\n",
    "        and this \n",
    "        and this \n",
    "    \n",
    "therange can be given in many forms.  The most common way is the `range` command, but it can also be a **list** or a numpy **array** or even a **string**.\n",
    "\n",
    "The most important difference between a for loop and while loop is that a for loop **automatically increments the value of var to the next element in therange** in each repetition of the code block\n",
    "\n",
    "As we will see in the examples below var is often used as an index variable that indexes into arrays sequentially. "
   ]
  },
  {
   "cell_type": "markdown",
   "metadata": {},
   "source": [
    "### Example 5  Using the Range Function"
   ]
  },
  {
   "cell_type": "code",
   "execution_count": 16,
   "metadata": {},
   "outputs": [
    {
     "name": "stdout",
     "output_type": "stream",
     "text": [
      "0\n",
      "1\n",
      "2\n"
     ]
    }
   ],
   "source": [
    "for i in range(3):\n",
    "    print(i)"
   ]
  },
  {
   "cell_type": "markdown",
   "metadata": {},
   "source": [
    "### Range function \n",
    "\n",
    "Python's `range` function can be customized by supplying up to three arguments. The general format of the range function is below:\n",
    "\n",
    "    range(start,stop,step)\n",
    "    \n",
    "*start*, *stop*, *step* must be **integers**\n"
   ]
  },
  {
   "cell_type": "code",
   "execution_count": 17,
   "metadata": {
    "scrolled": true
   },
   "outputs": [
    {
     "name": "stdout",
     "output_type": "stream",
     "text": [
      "range(0, 6, 2)\n"
     ]
    }
   ],
   "source": [
    "print(range(0,6,2))"
   ]
  },
  {
   "cell_type": "code",
   "execution_count": 21,
   "metadata": {},
   "outputs": [
    {
     "data": {
      "text/plain": [
       "[0, 2, 4]"
      ]
     },
     "execution_count": 21,
     "metadata": {},
     "output_type": "execute_result"
    }
   ],
   "source": [
    "list(range(0,6,2))"
   ]
  },
  {
   "cell_type": "code",
   "execution_count": 22,
   "metadata": {},
   "outputs": [
    {
     "name": "stdout",
     "output_type": "stream",
     "text": [
      "0\n",
      "2\n",
      "4\n"
     ]
    }
   ],
   "source": [
    "for i in range(0,6,2):\n",
    "    print(i)"
   ]
  },
  {
   "cell_type": "markdown",
   "metadata": {},
   "source": [
    "Can I use numpy's arange? "
   ]
  },
  {
   "cell_type": "code",
   "execution_count": 23,
   "metadata": {
    "scrolled": false
   },
   "outputs": [
    {
     "name": "stdout",
     "output_type": "stream",
     "text": [
      "0\n",
      "2\n",
      "4\n"
     ]
    }
   ],
   "source": [
    "for i in np.arange(0,6,2):\n",
    "    print(i)"
   ]
  },
  {
   "cell_type": "markdown",
   "metadata": {},
   "source": [
    "Keep this in mind if you need to step in fractions. But usually we will work with range.  "
   ]
  },
  {
   "cell_type": "code",
   "execution_count": 24,
   "metadata": {},
   "outputs": [
    {
     "name": "stdout",
     "output_type": "stream",
     "text": [
      "0.0\n",
      "0.25\n",
      "0.5\n",
      "0.75\n",
      "1.0\n",
      "1.25\n",
      "1.5\n",
      "1.75\n"
     ]
    }
   ],
   "source": [
    "for i in np.arange(0,2,0.25):\n",
    "    print(i)"
   ]
  },
  {
   "cell_type": "markdown",
   "metadata": {},
   "source": [
    "### Example 6 Projecting your bank account in 5 years \n",
    "\n",
    "Suppose you have $500 in your bank account and interest rate is 6.0\\% compounded annually. Write a for loop that will compute how much you will have in 5 years. "
   ]
  },
  {
   "cell_type": "code",
   "execution_count": 27,
   "metadata": {},
   "outputs": [
    {
     "name": "stdout",
     "output_type": "stream",
     "text": [
      "Balance of  669.1127887999999 after  5 years\n"
     ]
    }
   ],
   "source": [
    "n = 5 # number of years\n",
    "interest = 0.06 # interest rate \n",
    "balance = 500 # starting balance\n",
    "for year in range(n):\n",
    "    balance = balance+interest*balance\n",
    "print('Balance of ', balance, 'after ', n, 'years')\n",
    "    "
   ]
  },
  {
   "cell_type": "markdown",
   "metadata": {},
   "source": [
    "What if interest rate varies over the five years? So that the interest rate for each of the five years is is [6\\%, 5\\%,4\\%,4\\%,5\\%]"
   ]
  },
  {
   "cell_type": "code",
   "execution_count": 29,
   "metadata": {},
   "outputs": [
    {
     "name": "stdout",
     "output_type": "stream",
     "text": [
      "0.06\n",
      "0.05\n",
      "0.04\n",
      "0.04\n",
      "0.05\n",
      "Balance of  632.00592 after  5 years\n"
     ]
    }
   ],
   "source": [
    "#n = 5 # number of years\n",
    "interest = np.array([0.06,0.05,0.04,0.04,0.05]) # interest rate \n",
    "n = len(interest) # I determined the number of years from the lenght of int\n",
    "balance = 500 # starting balance\n",
    "for year in range(n):\n",
    "    print(interest[year])\n",
    "    balance = balance+interest[year]*balance #notice that I use year here as an index into int\n",
    "print('Balance of ', balance, 'after ', n, 'years')\n",
    "    "
   ]
  },
  {
   "cell_type": "markdown",
   "metadata": {},
   "source": [
    "What if I want to keep track of what is happening to my balance each year and make a graph? "
   ]
  },
  {
   "cell_type": "code",
   "execution_count": 32,
   "metadata": {},
   "outputs": [
    {
     "name": "stdout",
     "output_type": "stream",
     "text": [
      "Balance of  1603.5677361064218 after  20 years\n"
     ]
    },
    {
     "data": {
      "image/png": "[encoded data removed]",
      "text/plain": [
       "<Figure size 432x288 with 1 Axes>"
      ]
     },
     "metadata": {
      "needs_background": "light"
     },
     "output_type": "display_data"
    }
   ],
   "source": [
    "n = 20 # number of years\n",
    "interest = 0.06 # interest rate \n",
    "balance = 500 # starting balance\n",
    "balance_by_year = np.zeros(n)\n",
    "for year in range(n):\n",
    "    balance = balance+interest*balance\n",
    "    balance_by_year[year] = balance #Here I use year as an index into the output array \n",
    "print('Balance of ', balance, 'after ', n, 'years')\n",
    "\n",
    "plt.plot(range(n),balance_by_year)\n",
    "plt.xlabel('year')\n",
    "plt.ylabel('balance($)')\n",
    "plt.show()"
   ]
  },
  {
   "cell_type": "code",
   "execution_count": 33,
   "metadata": {},
   "outputs": [
    {
     "data": {
      "text/plain": [
       "530.0"
      ]
     },
     "execution_count": 33,
     "metadata": {},
     "output_type": "execute_result"
    }
   ],
   "source": [
    "balance_by_year[0]"
   ]
  },
  {
   "cell_type": "markdown",
   "metadata": {},
   "source": [
    "The first value in the graph right now is NOT the starting balance.  Can I rewrite the code to include that? "
   ]
  },
  {
   "cell_type": "code",
   "execution_count": 35,
   "metadata": {},
   "outputs": [
    {
     "name": "stdout",
     "output_type": "stream",
     "text": [
      "Balance of  1603.5677361064218 after  20 years\n"
     ]
    },
    {
     "data": {
      "image/png": "[encoded data removed]",
      "text/plain": [
       "<Figure size 432x288 with 1 Axes>"
      ]
     },
     "metadata": {
      "needs_background": "light"
     },
     "output_type": "display_data"
    }
   ],
   "source": [
    "n = 20 # number of years\n",
    "interest = 0.06 # interest rate \n",
    "balance = 500 # starting balance\n",
    "balance_by_year = np.zeros(n + 1) #notice I added 1 more here. \n",
    "balance_by_year[0] = balance # set the first value to the starting balance\n",
    "for year in range(n):\n",
    "    balance = balance+interest*balance\n",
    "    balance_by_year[year + 1] = balance #Here I make the index year + 1. This is because i am using 0 for the starting balance\n",
    "print('Balance of ', balance, 'after ', n, 'years')\n",
    "\n",
    "plt.plot(range(n+1),balance_by_year)\n",
    "plt.xlabel('year')\n",
    "plt.ylabel('balance($)')\n",
    "plt.show()"
   ]
  },
  {
   "cell_type": "markdown",
   "metadata": {},
   "source": [
    "### Example 7  Grade book\n",
    "\n",
    "In an earlier example we looked at the grades of each person as an array. Now let us look at a grade book given below. Find out the Average of each student. \n",
    "\n",
    "\n",
    "![title](https://www.internet4classrooms.com/excel_grade_1.gif)"
   ]
  },
  {
   "cell_type": "code",
   "execution_count": 9,
   "metadata": {},
   "outputs": [
    {
     "name": "stdout",
     "output_type": "stream",
     "text": [
      "[[ 89  78 100  88  92 100  95  78  88]\n",
      " [ 68  87  72  60  80  65 100  50  42]\n",
      " [ 98  87 100  78  99  80 100  88  95]\n",
      " [ 78  68  92  88  76  95  99  88  72]\n",
      " [ 89  78 100  88  92 100  95  78  88]\n",
      " [ 79  69  97  95  82  99  93  75  78]\n",
      " [ 98  87 100  78  99  80 100  88  95]\n",
      " [ 78  68  92  88  76  95  99  88  72]\n",
      " [ 89  78 100  88  92 100  95  78  88]\n",
      " [ 89  78 100  88  92 100  95  78  88]\n",
      " [ 79  69  97  95  82  99  93  75  78]]\n"
     ]
    }
   ],
   "source": [
    "import numpy as np\n",
    "\n",
    "grade_book = np.array([[89, 78, 100, 88, 92, 100, 95, 78, 88], \n",
    "                       [68, 87, 72, 60, 80, 65, 100, 50, 42], \n",
    "                       [98, 87, 100, 78, 99, 80, 100, 88, 95], \n",
    "                       [78, 68,92, 88, 76, 95, 99, 88, 72], \n",
    "                       [89, 78, 100, 88, 92, 100, 95, 78, 88], \n",
    "                       [79, 69, 97, 95, 82, 99, 93, 75, 78],\n",
    "                       [98, 87, 100, 78, 99, 80, 100, 88, 95],\n",
    "                       [78, 68, 92, 88, 76, 95, 99, 88, 72],\n",
    "                       [89, 78, 100, 88, 92, 100, 95, 78, 88],\n",
    "                       [89, 78, 100, 88, 92, 100, 95, 78, 88],\n",
    "                       [79, 69, 97, 95, 82, 99, 93, 75, 78]])\n",
    "students = ['Ann', 'Bill', 'Carol', 'Doug', 'Elaine', 'Frank', 'Gloria', 'Howard', 'Imogene','John', 'Kesha']\n",
    "print (grade_book)"
   ]
  },
  {
   "cell_type": "code",
   "execution_count": 10,
   "metadata": {},
   "outputs": [
    {
     "name": "stdout",
     "output_type": "stream",
     "text": [
      "[[0.]\n",
      " [0.]\n",
      " [0.]\n",
      " [0.]\n",
      " [0.]\n",
      " [0.]\n",
      " [0.]\n",
      " [0.]\n",
      " [0.]\n",
      " [0.]\n",
      " [0.]]\n"
     ]
    }
   ],
   "source": [
    "student_average = np.zeros((11,1))\n",
    "print (student_average)"
   ]
  },
  {
   "cell_type": "code",
   "execution_count": 12,
   "metadata": {
    "scrolled": true
   },
   "outputs": [
    {
     "name": "stdout",
     "output_type": "stream",
     "text": [
      "[[89.625     ]\n",
      " [71.69166667]\n",
      " [91.325     ]\n",
      " [81.58333333]\n",
      " [89.625     ]\n",
      " [85.54166667]\n",
      " [91.325     ]\n",
      " [81.58333333]\n",
      " [89.625     ]\n",
      " [89.625     ]\n",
      " [85.54166667]]\n"
     ]
    }
   ],
   "source": [
    "for student_id in range(11): #loop over the rows\n",
    "    test_avg = (grade_book[student_id, 0] + grade_book[student_id, 1] + grade_book[student_id, 2])/3\n",
    "    proj_avg = (grade_book[student_id, 3] + grade_book[student_id, 4])/2\n",
    "    hmw_avg = (grade_book[student_id, 5] + grade_book[student_id,6] + grade_book[student_id,7] + grade_book[student_id,8])/4\n",
    "    student_average [student_id, 0] = (test_avg*0.4) + (proj_avg*0.5) + (hmw_avg*0.1)\n",
    "print(student_average)"
   ]
  },
  {
   "cell_type": "markdown",
   "metadata": {},
   "source": [
    "### Exercise 2: What grade should they get on a test to get an A- in class?\n",
    "\n",
    "There is one more test that has to be taken. What is the miniumum grade that each studtent should get so that they can still get atleast 90% in the class?\n",
    "\n",
    "HINT: \n",
    "\n",
    "$ (\\frac{T1+T2+T3+T4}{4})*0.4 + (proj\\_avg)*0.5 + (hmw\\_avg)*0.1 = 90$"
   ]
  },
  {
   "cell_type": "code",
   "execution_count": null,
   "metadata": {},
   "outputs": [],
   "source": []
  }
 ],
 "metadata": {
  "kernelspec": {
   "display_name": "Python 3",
   "language": "python",
   "name": "python3"
  },
  "language_info": {
   "codemirror_mode": {
    "name": "ipython",
    "version": 3
   },
   "file_extension": ".py",
   "mimetype": "text/x-python",
   "name": "python",
   "nbconvert_exporter": "python",
   "pygments_lexer": "ipython3",
   "version": "3.8.8"
  }
 },
 "nbformat": 4,
 "nbformat_minor": 4
}
