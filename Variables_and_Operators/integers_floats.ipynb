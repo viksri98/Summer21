{
 "cells": [
  {
   "cell_type": "markdown",
   "metadata": {},
   "source": [
    "# Lesson 3\n",
    "## Integers and Floats \n",
    "So far you have seen only one data type - *String*. Now you will learn about two other data types. \n",
    "\n",
    "### Integer:\n",
    "Integers int Python is labeled as of type **int**. These are whole numbers, from -2147483648 to 2147483647  \n",
    "Lets store an integer"
   ]
  },
  {
   "cell_type": "code",
   "execution_count": 1,
   "metadata": {},
   "outputs": [],
   "source": [
    "my_integer = 0"
   ]
  },
  {
   "cell_type": "markdown",
   "metadata": {},
   "source": [
    "Because python is **type-inferred**, we do not specify the data type of the variable   \n",
    "instead, we give the variable whatever data we want, and python determines the type.  \n",
    "  \n",
    "We can see the type of the variable in the output of `whos`  \n",
    "You can also use the `type()` function to determine the type"
   ]
  },
  {
   "cell_type": "code",
   "execution_count": 2,
   "metadata": {},
   "outputs": [
    {
     "name": "stdout",
     "output_type": "stream",
     "text": [
      "Variable     Type    Data/Info\n",
      "------------------------------\n",
      "my_integer   int     0\n"
     ]
    }
   ],
   "source": [
    "whos"
   ]
  },
  {
   "cell_type": "code",
   "execution_count": 3,
   "metadata": {},
   "outputs": [
    {
     "name": "stdout",
     "output_type": "stream",
     "text": [
      "<class 'int'>\n"
     ]
    }
   ],
   "source": [
    "print(type(my_integer))"
   ]
  },
  {
   "cell_type": "markdown",
   "metadata": {},
   "source": [
    "### Float:\n",
    "\n",
    "Decimal numbers and fractions in Python are represented in a data type called **float**"
   ]
  },
  {
   "cell_type": "code",
   "execution_count": 4,
   "metadata": {},
   "outputs": [],
   "source": [
    "my_float = 3.2"
   ]
  },
  {
   "cell_type": "markdown",
   "metadata": {},
   "source": [
    "This has type float, and value 3.2"
   ]
  },
  {
   "cell_type": "code",
   "execution_count": 5,
   "metadata": {},
   "outputs": [
    {
     "name": "stdout",
     "output_type": "stream",
     "text": [
      "Variable     Type     Data/Info\n",
      "-------------------------------\n",
      "my_float     float    3.2\n",
      "my_integer   int      0\n"
     ]
    }
   ],
   "source": [
    "whos"
   ]
  },
  {
   "cell_type": "markdown",
   "metadata": {},
   "source": [
    "What happens if we try 0.0?"
   ]
  },
  {
   "cell_type": "code",
   "execution_count": 6,
   "metadata": {},
   "outputs": [],
   "source": [
    "float_zero = 0.0"
   ]
  },
  {
   "cell_type": "markdown",
   "metadata": {},
   "source": [
    "float_zero is a float, even though it is mathematically equivalent to 0"
   ]
  },
  {
   "cell_type": "code",
   "execution_count": 7,
   "metadata": {},
   "outputs": [
    {
     "name": "stdout",
     "output_type": "stream",
     "text": [
      "Variable     Type     Data/Info\n",
      "-------------------------------\n",
      "float_zero   float    0.0\n",
      "my_float     float    3.2\n",
      "my_integer   int      0\n"
     ]
    }
   ],
   "source": [
    "whos"
   ]
  },
  {
   "cell_type": "markdown",
   "metadata": {},
   "source": [
    "### Input from user of an Integer or Float\n",
    "Get an integer input from the user and print out the data type of the input. "
   ]
  },
  {
   "cell_type": "code",
   "execution_count": 8,
   "metadata": {},
   "outputs": [
    {
     "name": "stdout",
     "output_type": "stream",
     "text": [
      "Enter an integer:4\n",
      "Enter a decimal value:4.0\n"
     ]
    }
   ],
   "source": [
    "in_int = input(\"Enter an integer:\")\n",
    "in_float = input (\"Enter a decimal value:\")"
   ]
  },
  {
   "cell_type": "markdown",
   "metadata": {},
   "source": [
    "### Exercise 1: \n",
    "Check the *type* for in_int and in_float"
   ]
  },
  {
   "cell_type": "code",
   "execution_count": 9,
   "metadata": {},
   "outputs": [
    {
     "name": "stdout",
     "output_type": "stream",
     "text": [
      "Variable     Type     Data/Info\n",
      "-------------------------------\n",
      "float_zero   float    0.0\n",
      "in_float     str      4.0\n",
      "in_int       str      4\n",
      "my_float     float    3.2\n",
      "my_integer   int      0\n"
     ]
    }
   ],
   "source": [
    "whos"
   ]
  },
  {
   "cell_type": "markdown",
   "metadata": {},
   "source": [
    "What did you notice about in_float and in_int?"
   ]
  },
  {
   "cell_type": "markdown",
   "metadata": {},
   "source": [
    "Its a string! \n",
    "The same way 0.0 is a float and 0 is an int, the result of input() is a string!\n",
    "\n",
    "What if we don't want it to be a string? We can use **casting** functions to change the datatype\n",
    "\n",
    "**int(\"1\")** turns any type into its equivalent integer value  \n",
    "**float(\"1\")** turns any type into its equivalent float value  \n",
    "**str(1)** turns any type into its equivalent string value"
   ]
  },
  {
   "cell_type": "code",
   "execution_count": 17,
   "metadata": {},
   "outputs": [],
   "source": [
    "in_int = int(in_int)\n",
    "in_float = float(in_float)"
   ]
  },
  {
   "cell_type": "code",
   "execution_count": 18,
   "metadata": {},
   "outputs": [
    {
     "name": "stdout",
     "output_type": "stream",
     "text": [
      "Variable     Type     Data/Info\n",
      "-------------------------------\n",
      "age          str      34\n",
      "float_zero   float    0.0\n",
      "height       float    4.4\n",
      "in_float     float    4.0\n",
      "in_int       int      4\n",
      "my_float     float    3.2\n",
      "my_integer   int      0\n"
     ]
    }
   ],
   "source": [
    "whos"
   ]
  },
  {
   "cell_type": "markdown",
   "metadata": {},
   "source": [
    "### Exercise 2:  \n",
    "Get two inputs from the user **Age** and **Height**  \n",
    "Make sure that Age is *cast* to an integer  \n",
    "Make sure that Height is *cast* to a float"
   ]
  },
  {
   "cell_type": "code",
   "execution_count": 12,
   "metadata": {},
   "outputs": [
    {
     "name": "stdout",
     "output_type": "stream",
     "text": [
      "age? 12\n",
      "height? 4.4\n"
     ]
    }
   ],
   "source": [
    "age = int(input(\"age? \"))\n",
    "height = float(input(\"height? \"))"
   ]
  },
  {
   "cell_type": "markdown",
   "metadata": {},
   "source": [
    "Test the type of all your inputs. Make sure that Age and Height are of the correct data types."
   ]
  },
  {
   "cell_type": "code",
   "execution_count": null,
   "metadata": {},
   "outputs": [],
   "source": []
  },
  {
   "cell_type": "markdown",
   "metadata": {},
   "source": [
    "### Exercise 3:  \n",
    "Lets get some more user inputs and print them out.  \n",
    "You are going to ask the user their  \n",
    "1. Name (str)  \n",
    "2. Number_of_siblings (int)  \n",
    "Then you are going to print out :  \n",
    "**Hello `Name`. You are `Age` years old and `Height` feet tall. You have `Number_of_siblings` siblings\"**"
   ]
  },
  {
   "cell_type": "code",
   "execution_count": 20,
   "metadata": {},
   "outputs": [
    {
     "name": "stdout",
     "output_type": "stream",
     "text": [
      "name? vikram\n",
      "How many siblings do you have? 1\n"
     ]
    }
   ],
   "source": [
    "name = input(\"name? \")\n",
    "num_siblings = int(input(\"How many siblings do you have? \"))"
   ]
  },
  {
   "cell_type": "code",
   "execution_count": 22,
   "metadata": {},
   "outputs": [
    {
     "name": "stdout",
     "output_type": "stream",
     "text": [
      "Hello vikram You are 34 years old and  4.4 feet tall. You have 1 siblings\n"
     ]
    }
   ],
   "source": [
    "print(\"Hello\", name, \"You are\", age, \"years old and \", height, \"feet tall. You have\", num_siblings, \"siblings\")"
   ]
  }
 ],
 "metadata": {
  "kernelspec": {
   "display_name": "Python 3",
   "language": "python",
   "name": "python3"
  },
  "language_info": {
   "codemirror_mode": {
    "name": "ipython",
    "version": 3
   },
   "file_extension": ".py",
   "mimetype": "text/x-python",
   "name": "python",
   "nbconvert_exporter": "python",
   "pygments_lexer": "ipython3",
   "version": "3.8.8"
  }
 },
 "nbformat": 4,
 "nbformat_minor": 2
}
