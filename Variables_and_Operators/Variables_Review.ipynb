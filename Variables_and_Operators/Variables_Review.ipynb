{
 "cells": [
  {
   "cell_type": "markdown",
   "id": "541717f8",
   "metadata": {},
   "source": [
    "# Lesson 4:  \n",
    "## Variables  \n",
    "\n",
    "You have seen three kinds of simple **variables**  \n",
    "1. Integers : int  \n",
    "2. Decimal numbers : float  \n",
    "3. Strings : str"
   ]
  },
  {
   "cell_type": "code",
   "execution_count": 1,
   "id": "3e191700",
   "metadata": {},
   "outputs": [],
   "source": [
    "variable1 = 3\n",
    "variable2 = variable1 + 10"
   ]
  },
  {
   "cell_type": "markdown",
   "id": "c3714ff7",
   "metadata": {},
   "source": [
    "What do you think the value is for `variable1` and `variable2`?"
   ]
  },
  {
   "cell_type": "code",
   "execution_count": 2,
   "id": "9d5833fe",
   "metadata": {},
   "outputs": [
    {
     "name": "stdout",
     "output_type": "stream",
     "text": [
      "variable1 = 3\n",
      "variable2 = 13\n"
     ]
    }
   ],
   "source": [
    "print (\"variable1 =\", variable1)\n",
    "print (\"variable2 =\", variable2)"
   ]
  },
  {
   "cell_type": "markdown",
   "id": "2c3c4078",
   "metadata": {},
   "source": [
    "Now run this code ..."
   ]
  },
  {
   "cell_type": "code",
   "execution_count": 3,
   "id": "e1adfc4d",
   "metadata": {},
   "outputs": [],
   "source": [
    "variable1 = 3\n",
    "variable1 = variable1 + 10"
   ]
  },
  {
   "cell_type": "markdown",
   "id": "8965f21d",
   "metadata": {},
   "source": [
    "Now what do you think the values are for `variable1` and `variable2`?"
   ]
  },
  {
   "cell_type": "code",
   "execution_count": 4,
   "id": "64c8c0fd",
   "metadata": {},
   "outputs": [
    {
     "name": "stdout",
     "output_type": "stream",
     "text": [
      "variable1 = 13\n",
      "variable2 = 13\n"
     ]
    }
   ],
   "source": [
    "print (\"variable1 =\", variable1)\n",
    "print (\"variable2 =\", variable2)"
   ]
  },
  {
   "cell_type": "markdown",
   "id": "bca37aa2",
   "metadata": {},
   "source": [
    "What is the difference?  \n",
    "\n",
    "Note that in math if you said  \n",
    "x = x + 2 It would be WRONG!!!  \n",
    "\n",
    "1. In programming x is not just a value, it is the value stored in a specific location **location**.  \n",
    "    The contents of the location of x are added to 2 and then the sum is put back into the **location** of x. (DEMO)  \n",
    "2. In programming the \"=\" sign mean **set it equal to**  \n",
    "x = x + 2"
   ]
  },
  {
   "cell_type": "markdown",
   "id": "7be1cacf",
   "metadata": {},
   "source": [
    "# Variable and Variable Names\n",
    "\n",
    "1. Variable names are always on the left of the **=**, values or expressions are always on the right\n",
    "2. Variable names are case sensitive. Example: Age = 4  and age = 5. These are two different variables. \n",
    "3. Variable names must start with letters, but then can include numbers,Example: A1, b2, C3\n",
    "4. They cannot include special characters (like , *, ,/,! etc.)\n",
    "5. They can include underscores to improve readability, Example: A_1, b_2, C_3"
   ]
  },
  {
   "cell_type": "markdown",
   "id": "098e7ba5",
   "metadata": {},
   "source": [
    "### Exercise 1: \n",
    "Which way is the best way to label your variables?\n"
   ]
  },
  {
   "cell_type": "code",
   "execution_count": 5,
   "id": "1a33ff1e",
   "metadata": {},
   "outputs": [
    {
     "name": "stdout",
     "output_type": "stream",
     "text": [
      "Energy = 9e+17\n"
     ]
    }
   ],
   "source": [
    "# Example in words\n",
    "mass = 10              #10 kg object\n",
    "speed_of_light = 3E08 # speed of light in m/s note the use of scientific notation\n",
    "Energy = mass * speed_of_light **2 #in units of Joules\n",
    "print (\"Energy =\", Energy)"
   ]
  },
  {
   "cell_type": "code",
   "execution_count": 6,
   "id": "4f2e8311",
   "metadata": {},
   "outputs": [
    {
     "name": "stdout",
     "output_type": "stream",
     "text": [
      "Energy = 9e+17\n"
     ]
    }
   ],
   "source": [
    "# Example in symbols\n",
    "m = 10 # 10 kg object\n",
    "c = 3E08 # speed of light in m/s note the use of scientific notation\n",
    "E= m*c **2 #in units of Joules\n",
    "print (\"Energy =\", E)"
   ]
  },
  {
   "cell_type": "code",
   "execution_count": 7,
   "id": "2cb0cff1",
   "metadata": {},
   "outputs": [
    {
     "name": "stdout",
     "output_type": "stream",
     "text": [
      "Energy = 9e+17\n"
     ]
    }
   ],
   "source": [
    "# Example in generic variables\n",
    "x = 10 # This is the mass of the object in kg\n",
    "y = 3E08 # This is the speed of light in m/s\n",
    "z = x* y **2 # This is the energy in Joules\n",
    "print (\"Energy =\", z)"
   ]
  },
  {
   "cell_type": "markdown",
   "id": "e8442416",
   "metadata": {},
   "source": [
    "### Exercise 2:\n",
    "There are words that are reserved and cannot be used as a variable name."
   ]
  },
  {
   "cell_type": "code",
   "execution_count": 8,
   "id": "4d88f3a7",
   "metadata": {},
   "outputs": [
    {
     "data": {
      "text/plain": [
       "['False',\n",
       " 'None',\n",
       " 'True',\n",
       " 'and',\n",
       " 'as',\n",
       " 'assert',\n",
       " 'async',\n",
       " 'await',\n",
       " 'break',\n",
       " 'class',\n",
       " 'continue',\n",
       " 'def',\n",
       " 'del',\n",
       " 'elif',\n",
       " 'else',\n",
       " 'except',\n",
       " 'finally',\n",
       " 'for',\n",
       " 'from',\n",
       " 'global',\n",
       " 'if',\n",
       " 'import',\n",
       " 'in',\n",
       " 'is',\n",
       " 'lambda',\n",
       " 'nonlocal',\n",
       " 'not',\n",
       " 'or',\n",
       " 'pass',\n",
       " 'raise',\n",
       " 'return',\n",
       " 'try',\n",
       " 'while',\n",
       " 'with',\n",
       " 'yield']"
      ]
     },
     "execution_count": 8,
     "metadata": {},
     "output_type": "execute_result"
    }
   ],
   "source": [
    "import keyword\n",
    "keyword.kwlist"
   ]
  },
  {
   "cell_type": "markdown",
   "id": "845cf5a0",
   "metadata": {},
   "source": [
    "Assign values to two variables. One variable that is named correctly. Another that is not. See what error message you get. "
   ]
  },
  {
   "cell_type": "code",
   "execution_count": null,
   "id": "b032e748",
   "metadata": {},
   "outputs": [],
   "source": []
  },
  {
   "cell_type": "markdown",
   "id": "63683077",
   "metadata": {},
   "source": [
    "## Note : your variable names should describe to you the value that they hold!"
   ]
  }
 ],
 "metadata": {
  "kernelspec": {
   "display_name": "Python 3",
   "language": "python",
   "name": "python3"
  },
  "language_info": {
   "codemirror_mode": {
    "name": "ipython",
    "version": 3
   },
   "file_extension": ".py",
   "mimetype": "text/x-python",
   "name": "python",
   "nbconvert_exporter": "python",
   "pygments_lexer": "ipython3",
   "version": "3.8.8"
  }
 },
 "nbformat": 4,
 "nbformat_minor": 5
}
