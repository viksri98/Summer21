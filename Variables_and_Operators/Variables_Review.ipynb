{
 "cells": [
  {
   "cell_type": "markdown",
   "id": "541717f8",
   "metadata": {},
   "source": [
    "# Lesson 4: \n",
    "# Programming\n",
    "\n",
    "What is Programming?\n",
    "Programming is an interface to allow you to instruct the computer to do something with the information stored in the hard drive or in memory.\n",
    "\n",
    "Programming is also a way to ask the computer to store values (**variable**) and do\n",
    "things with them (**operations**)\n",
    "\n",
    "\n",
    "You have seen three kinds of simple **variables** \n",
    "1. Integers : int\n",
    "2. Decimal numbers : float\n",
    "3. Strings : str\n"
   ]
  },
  {
   "cell_type": "code",
   "execution_count": null,
   "id": "3e191700",
   "metadata": {},
   "outputs": [],
   "source": [
    "variable1 = 3\n",
    "variable2 = variable1 + 10"
   ]
  },
  {
   "cell_type": "markdown",
   "id": "c3714ff7",
   "metadata": {},
   "source": [
    "What do you think the value is for *variable1 and variable2*?"
   ]
  },
  {
   "cell_type": "code",
   "execution_count": null,
   "id": "9d5833fe",
   "metadata": {},
   "outputs": [],
   "source": [
    "print (\"variable1 =\", variable1)\n",
    "print (\"variable2 =\", variable2)"
   ]
  },
  {
   "cell_type": "markdown",
   "id": "2c3c4078",
   "metadata": {},
   "source": [
    "Now run this code ..."
   ]
  },
  {
   "cell_type": "code",
   "execution_count": null,
   "id": "e1adfc4d",
   "metadata": {},
   "outputs": [],
   "source": [
    "variable1 = 3\n",
    "variable1 = variable1 + 10"
   ]
  },
  {
   "cell_type": "markdown",
   "id": "8965f21d",
   "metadata": {},
   "source": [
    "Now what do you think the values are for *variable1* and *variable2*?"
   ]
  },
  {
   "cell_type": "code",
   "execution_count": null,
   "id": "64c8c0fd",
   "metadata": {},
   "outputs": [],
   "source": [
    "print (\"variable1 =\", variable1)\n",
    "print (\"variable2 =\", variable2)"
   ]
  },
  {
   "cell_type": "markdown",
   "id": "bca37aa2",
   "metadata": {},
   "source": [
    "What is the difference? \n",
    "\n",
    "Note that in math if you said \n",
    "x = x + 2 It would be WRONG!!!\n",
    "\n",
    "1. In programming x is not a value it is a **location**. \n",
    "    The contents of location x is added to 2 and then the sum is put back into **location** x. (DEMO)\n",
    "2. In programming the \"=\" sign mean **set it equal to** \n",
    "x = x + 2"
   ]
  },
  {
   "cell_type": "markdown",
   "id": "7be1cacf",
   "metadata": {},
   "source": [
    "# Variable and Variable Names\n",
    "\n",
    "1. Variable names are always on the left of the **=**, values or expressions are always on the right\n",
    "2. Variable names are case sensitive. Example: Age = 4  and age = 5. These are two different variables. \n",
    "3. Variable names must start with letters, but then can include numbers,Example: A1, b2, C3\n",
    "4. They cannot include special characters (like , *, ,/,! etc.)\n",
    "5. They can include underscores to improve readability, Example: A_1, b_2, C_3"
   ]
  },
  {
   "cell_type": "markdown",
   "id": "098e7ba5",
   "metadata": {},
   "source": [
    "### Exercise 1: \n",
    "Which way is the best way to label your variables?\n"
   ]
  },
  {
   "cell_type": "code",
   "execution_count": null,
   "id": "1a33ff1e",
   "metadata": {},
   "outputs": [],
   "source": [
    "# Example in words\n",
    "mass = 10              #10 kg object\n",
    "speed_of_light = 3E08 # speed of light in m/s note the use of scientific notation\n",
    "Energy = mass * speed_of_light **2 #in units of Joules\n",
    "print (\"Energy =\", Energy)"
   ]
  },
  {
   "cell_type": "code",
   "execution_count": null,
   "id": "4f2e8311",
   "metadata": {},
   "outputs": [],
   "source": [
    "# Example in symbols\n",
    "m = 10 # 10 kg object\n",
    "c = 3E08 # speed of light in m/s note the use of scientific notation\n",
    "E= m*c **2 #in units of Joules\n",
    "print (\"Energy =\", E)"
   ]
  },
  {
   "cell_type": "code",
   "execution_count": null,
   "id": "2cb0cff1",
   "metadata": {},
   "outputs": [],
   "source": [
    "# Example in generic variables\n",
    "x = 10 # This is the mass of the object in kg\n",
    "y = 3E08 # This is the speed of light in m/s\n",
    "z = x* y **2 # This is the energy in Joules\n",
    "print (\"Energy =\", z)"
   ]
  },
  {
   "cell_type": "markdown",
   "id": "e8442416",
   "metadata": {},
   "source": [
    "### Exercise 2:\n",
    "There are words that are reserved and cannot be used as a variable name."
   ]
  },
  {
   "cell_type": "code",
   "execution_count": null,
   "id": "4d88f3a7",
   "metadata": {},
   "outputs": [],
   "source": [
    "import keyword\n",
    "keyword.kwlist"
   ]
  },
  {
   "cell_type": "markdown",
   "id": "845cf5a0",
   "metadata": {},
   "source": [
    "Assign values to two variables. One variable that is named correctly. Another that is not. See what error message you get. "
   ]
  },
  {
   "cell_type": "code",
   "execution_count": 2,
   "id": "b032e748",
   "metadata": {},
   "outputs": [],
   "source": []
  },
  {
   "cell_type": "markdown",
   "id": "63683077",
   "metadata": {},
   "source": [
    "## Note : your variable names must describe to you the value that they hold!"
   ]
  }
 ],
 "metadata": {
  "kernelspec": {
   "display_name": "Python 3",
   "language": "python",
   "name": "python3"
  },
  "language_info": {
   "codemirror_mode": {
    "name": "ipython",
    "version": 3
   },
   "file_extension": ".py",
   "mimetype": "text/x-python",
   "name": "python",
   "nbconvert_exporter": "python",
   "pygments_lexer": "ipython3",
   "version": "3.8.8"
  }
 },
 "nbformat": 4,
 "nbformat_minor": 5
}
