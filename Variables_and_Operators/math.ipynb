{
 "metadata": {
  "language_info": {
   "codemirror_mode": {
    "name": "ipython",
    "version": 3
   },
   "file_extension": ".py",
   "mimetype": "text/x-python",
   "name": "python",
   "nbconvert_exporter": "python",
   "pygments_lexer": "ipython3",
   "version": "3.8.8-final"
  },
  "orig_nbformat": 2,
  "kernelspec": {
   "name": "python38864bitclass21condac630186d82cf42c294623460888b15e5",
   "display_name": "Python 3.8.8 64-bit ('class21': conda)"
  }
 },
 "nbformat": 4,
 "nbformat_minor": 2,
 "cells": [
  {
   "source": [
    "# Math\n",
    "The basic math operators in python are `+`, `-`, `*`, `/`, `**`, `%`, and `//`    \n",
    "`+` is for addition  \n",
    "`-` is for subtraction  \n",
    "`*` is for multiplication  \n",
    "`/` is for division  \n",
    "`**` is for exponents  \n",
    "`%` is for modulo  \n",
    "`//` is for integer division"
   ],
   "cell_type": "markdown",
   "metadata": {}
  },
  {
   "source": [
    "`+`, `-`, and `**` behave exactly as expected. lets print some examples"
   ],
   "cell_type": "markdown",
   "metadata": {}
  },
  {
   "cell_type": "code",
   "execution_count": null,
   "metadata": {},
   "outputs": [],
   "source": [
    "print(2 + 1)\n",
    "print(1.4 + 2.6)\n",
    "print(2 - 1)\n",
    "print(1.4 - 2.6)\n",
    "print(2 * 2)\n",
    "print(1.5 * 1.5)\n",
    "print(3 ** 2)\n",
    "print(1 ** 4)"
   ]
  },
  {
   "source": [
    "So far, data types are not affected by the operations. Division with `/` is different"
   ],
   "cell_type": "markdown",
   "metadata": {}
  },
  {
   "cell_type": "code",
   "execution_count": null,
   "metadata": {},
   "outputs": [],
   "source": [
    "print(1 / 2)\n",
    "print(2 / 2)"
   ]
  },
  {
   "source": [
    "This takes two integers produces a float, like regular division. It is important to remember that the datatype changes from this operation, even when the result is equivalent to an integer."
   ],
   "cell_type": "markdown",
   "metadata": {}
  },
  {
   "source": [
    "What if we want to only consider the integer result of division? That is where we use `//`"
   ],
   "cell_type": "markdown",
   "metadata": {}
  },
  {
   "source": [
    "print(1 // 2)\n",
    "print(2 // 2)\n",
    "print(8 // 3)"
   ],
   "cell_type": "code",
   "metadata": {},
   "execution_count": null,
   "outputs": []
  },
  {
   "source": [
    "This will discard any decimal portion of the result of division. `//` does not round. `%` does the opposite, taking only the remainder"
   ],
   "cell_type": "markdown",
   "metadata": {}
  },
  {
   "cell_type": "code",
   "execution_count": null,
   "metadata": {},
   "outputs": [],
   "source": [
    "print(1 % 2)\n",
    "print(2 % 2)\n",
    "print(16 % 3)"
   ]
  }
 ]
}