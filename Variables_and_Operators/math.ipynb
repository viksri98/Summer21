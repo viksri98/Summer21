{
 "cells": [
  {
   "cell_type": "markdown",
   "metadata": {},
   "source": [
    "# Lesson 5: \n",
    "\n",
    "# Math in Python\n",
    "\n",
    "The basic math operators in python are `+`, `-`, `*`, `/`, `**`, `%`, and `//`    \n",
    "`+` is for addition  \n",
    "`-` is for subtraction  \n",
    "`*` is for multiplication  \n",
    "`/` is for division  \n",
    "`**` is for exponents  \n",
    "`%` is for modulo. That means it computes the remainder.  \n",
    "`//` is for integer division. It gives you the whole part of the division and ignores the remainder."
   ]
  },
  {
   "cell_type": "markdown",
   "metadata": {},
   "source": [
    "`+`, `-`, and `**` behave exactly as expected. lets print some examples"
   ]
  },
  {
   "cell_type": "code",
   "execution_count": null,
   "metadata": {
    "scrolled": true
   },
   "outputs": [],
   "source": [
    "print(2 + 1)\n",
    "print(1.4 + 2.6)\n",
    "print(2 - 1)\n",
    "print(1.4 - 2.6)\n",
    "print(2 * 2)\n",
    "print(1.5 * 1.5)\n",
    "print(3 ** 2)\n",
    "print(1 ** 4)"
   ]
  },
  {
   "cell_type": "markdown",
   "metadata": {},
   "source": [
    "So far, data types are not affected by the operations. Division with `/` is different"
   ]
  },
  {
   "cell_type": "code",
   "execution_count": null,
   "metadata": {},
   "outputs": [],
   "source": [
    "print(1 / 2)\n",
    "print(2 / 2)"
   ]
  },
  {
   "cell_type": "markdown",
   "metadata": {},
   "source": [
    "This takes two integers produces a float, like regular division. It is important to remember that the datatype changes from this operation, even when the result is equivalent to an integer."
   ]
  },
  {
   "cell_type": "markdown",
   "metadata": {},
   "source": [
    "What if we want to only consider the integer result of division? That is where we use `//`"
   ]
  },
  {
   "cell_type": "code",
   "execution_count": null,
   "metadata": {},
   "outputs": [],
   "source": [
    "print(1 // 2)\n",
    "print(2 // 2)\n",
    "print(8 // 3)"
   ]
  },
  {
   "cell_type": "markdown",
   "metadata": {},
   "source": [
    "This will discard any decimal portion of the result of division. `//` does not round. \n",
    "\n",
    "`%` does the opposite, taking only the remainder and not worrying about the whole part of the division."
   ]
  },
  {
   "cell_type": "code",
   "execution_count": null,
   "metadata": {},
   "outputs": [],
   "source": [
    "print(1 % 2)\n",
    "print(2 % 2)\n",
    "print(16 % 3)"
   ]
  },
  {
   "cell_type": "markdown",
   "metadata": {},
   "source": [
    "### Exercise 1:  \n",
    "  \n",
    "1. Get two inputs from the user: x should be an integer, y should be a float  \n",
    "2. Print out the answer for all the statements below:  \n",
    "    `print(x + 1)`  \n",
    "    `print(x + 2.6)`  \n",
    "    `print(x - 1)`  \n",
    "    `print(x - 2.6)`  \n",
    "    `print(x * 2)`  \n",
    "    `print(x * 1.5)`  \n",
    "    `print(x ** 2)`  \n",
    "    \n",
    "    `print(y + 1)`  \n",
    "    `print(y + 2.6)`  \n",
    "    `print(y - 1)`  \n",
    "    `print(y - 2.6)`  \n",
    "    `print(y * 2)`  \n",
    "    `print(y * 1.5)`  \n",
    "    `print(y ** 2)`  \n",
    "    \n",
    "    `print (x / y)`  \n",
    "    `print (y / x)`  \n",
    "    `print (x % y)`  \n",
    "    `print (y % x)`  \n",
    "    `print (x // y)`  \n",
    "    `print (y // x)`  \n",
    "\n",
    "Were the answers what you expected them to be?"
   ]
  },
  {
   "cell_type": "code",
   "execution_count": null,
   "metadata": {},
   "outputs": [],
   "source": []
  },
  {
   "cell_type": "markdown",
   "metadata": {},
   "source": [
    "### Exercise 2: \n",
    "Code for this expression and print it out (Ans: 12)\n",
    "\n",
    "x = 10 + 4((6-3)/2^2) - 1\n",
    "\n",
    "print x"
   ]
  },
  {
   "cell_type": "code",
   "execution_count": null,
   "metadata": {},
   "outputs": [],
   "source": []
  },
  {
   "cell_type": "code",
   "execution_count": null,
   "metadata": {},
   "outputs": [],
   "source": []
  }
 ],
 "metadata": {
  "kernelspec": {
   "display_name": "Python 3",
   "language": "python",
   "name": "python3"
  },
  "language_info": {
   "codemirror_mode": {
    "name": "ipython",
    "version": 3
   },
   "file_extension": ".py",
   "mimetype": "text/x-python",
   "name": "python",
   "nbconvert_exporter": "python",
   "pygments_lexer": "ipython3",
   "version": "3.8.8"
  }
 },
 "nbformat": 4,
 "nbformat_minor": 2
}
