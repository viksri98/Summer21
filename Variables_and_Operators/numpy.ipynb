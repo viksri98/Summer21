{
 "metadata": {
  "language_info": {
   "codemirror_mode": {
    "name": "ipython",
    "version": 3
   },
   "file_extension": ".py",
   "mimetype": "text/x-python",
   "name": "python",
   "nbconvert_exporter": "python",
   "pygments_lexer": "ipython3",
   "version": "3.8.8-final"
  },
  "orig_nbformat": 2,
  "kernelspec": {
   "name": "python38864bitclass21condac630186d82cf42c294623460888b15e5",
   "display_name": "Python 3.8.8 64-bit ('class21': conda)"
  }
 },
 "nbformat": 4,
 "nbformat_minor": 2,
 "cells": [
  {
   "source": [
    "# Numpy"
   ],
   "cell_type": "markdown",
   "metadata": {}
  },
  {
   "source": [
    "The `numpy` **module** is used in almost all numerical computation using Python. \n",
    "\n",
    "It is a package that provide high-performance vector, matrix and even higher-dimensional data structures for Python. Underneath the hood, it is implemented in C and Fortran so performance is very good. \n",
    "\n",
    "To use `numpy` you need to import the module, or a specific **function** inside a module."
   ],
   "cell_type": "markdown",
   "metadata": {}
  },
  {
   "cell_type": "code",
   "execution_count": null,
   "metadata": {},
   "outputs": [],
   "source": [
    "import numpy as np"
   ]
  },
  {
   "source": [
    "This tells python to import the `numpy` module, and to use the `np` abbreviation to refer to it in code. You are free to use any abbreviation, but `np` is standard."
   ],
   "cell_type": "markdown",
   "metadata": {}
  },
  {
   "source": [
    "The main datatype we will use from Numpy is the array. Numpy arrays have a few more restrictions than Lists. All elements must have the same datatype, and we have to pre-determine the amount of elements in the array.  \n",
    "We can intialize these arrays with a few functions.  \n",
    "* using functions dedicated to creating numpy arrays, such as `arange` and `linspace`\n",
    "* using `zeros` to initialize the array to all zeroes  \n",
    "* using `random` to initialize the array to random numbers  \n",
    "* using `array` to initialize the array from a list"
   ],
   "cell_type": "markdown",
   "metadata": {}
  },
  {
   "source": [
    "The most common way to initialize a numpy array is to all zeroes. This is done with the `zeros` function"
   ],
   "cell_type": "markdown",
   "metadata": {}
  },
  {
   "cell_type": "code",
   "execution_count": null,
   "metadata": {},
   "outputs": [],
   "source": [
    "my_array = np.zeros(5)\n",
    "print(my_array)"
   ]
  },
  {
   "source": [
    "The `zeros()` function takes an integer that determines the length of the numpy array, or how many elements it holds.  \n",
    "Alternatively, you can give it a tuple, which will determine its shape."
   ],
   "cell_type": "markdown",
   "metadata": {}
  },
  {
   "cell_type": "code",
   "execution_count": null,
   "metadata": {},
   "outputs": [],
   "source": [
    "my_matrix = np.zeros((3, 4))\n",
    "print(my_matrix)"
   ]
  },
  {
   "source": [
    "Arrays in numpy have some `methods` that either return properties about the array or manipulate the array  \n",
    "`shape` tells us the shape of the array, as (rows, columns)  \n",
    "`size` tells us the total number of elements in the array  "
   ],
   "cell_type": "markdown",
   "metadata": {}
  },
  {
   "cell_type": "code",
   "execution_count": null,
   "metadata": {},
   "outputs": [],
   "source": [
    "my_array_size = my_array.size\n",
    "my_array_shape = my_array.shape \n",
    "print(my_array_size)\n",
    "print(my_array_shape)"
   ]
  },
  {
   "source": [
    "Alternatively, we can use numpy `functions` that take in a numpy array as input, and output the shape and size"
   ],
   "cell_type": "markdown",
   "metadata": {}
  },
  {
   "cell_type": "code",
   "execution_count": null,
   "metadata": {},
   "outputs": [],
   "source": [
    "my_matrix_size = np.size(my_matrix)\n",
    "my_matrix_shape = np.shape(my_matrix)\n",
    "print(my_matrix_size)\n",
    "print(my_matrix_shape)"
   ]
  }
 ]
}