{
 "cells": [
  {
   "cell_type": "markdown",
   "metadata": {},
   "source": [
    "# Lesson 6\n",
    "\n",
    "# Lists and Strings\n",
    "Lists are, as their name implies, lists of data  \n",
    "We can define a list by using square brackets []"
   ]
  },
  {
   "cell_type": "code",
   "execution_count": 2,
   "metadata": {},
   "outputs": [],
   "source": [
    "lis = ['a', 'b']"
   ]
  },
  {
   "cell_type": "markdown",
   "metadata": {},
   "source": [
    "The list `lis` has two elements, `'a'` and `'b'`. \n",
    "We can access these elements in the list using **indexing**.  \n",
    "**Indexing** numbers the elements in a list in order, starting from 0. the first element of lis has index 0, the second 1.\n",
    "We access these elements using the square brackets []"
   ]
  },
  {
   "cell_type": "code",
   "execution_count": 3,
   "metadata": {},
   "outputs": [
    {
     "name": "stdout",
     "output_type": "stream",
     "text": [
      "a\n",
      "b\n"
     ]
    }
   ],
   "source": [
    "lis_0 = lis[0]\n",
    "print(lis_0)\n",
    "print(lis[1])"
   ]
  },
  {
   "cell_type": "markdown",
   "metadata": {},
   "source": [
    "We can partition these lists using a colon inside of the square brackets"
   ]
  },
  {
   "cell_type": "code",
   "execution_count": 4,
   "metadata": {},
   "outputs": [
    {
     "name": "stdout",
     "output_type": "stream",
     "text": [
      "['a', 'b', 'c', 'd', 'e']\n",
      "['b', 'c']\n",
      "['d', 'e']\n",
      "['a']\n"
     ]
    }
   ],
   "source": [
    "list0 = ['a', 'b', 'c', 'd', 'e']\n",
    "print(list0)\n",
    "list0_part = list0[1:3] # This list contains indexes 1 and 2\n",
    "print(list0_part)\n",
    "list0_part2 = list0[3:] # This list contains indexes 3 to the end\n",
    "print(list0_part2)\n",
    "list0_part3 = list0[:1] # This list contains indexes 0 until 1, not including 1\n",
    "print(list0_part3)"
   ]
  },
  {
   "cell_type": "markdown",
   "metadata": {},
   "source": [
    "### Exercise 1: (Indexing in lists) \n",
    "\n",
    "1. Make a list of these fruits: \n",
    "    apple, banana, cherry, durian, elderberry, fig, guava, honeydew\n",
    "\n",
    "2. Print the entire list\n",
    "3. Print out the 3rd element in the list\n",
    "4. Print out the 2rd to the 5th element in the list\n",
    "5. print the first 4 elements"
   ]
  },
  {
   "cell_type": "code",
   "execution_count": 6,
   "metadata": {},
   "outputs": [
    {
     "name": "stdout",
     "output_type": "stream",
     "text": [
      "['apple', 'banana', 'cherry', 'durian', 'elderberry', 'fig', 'guava', 'honeydew']\n",
      "cherry\n",
      "['banana', 'cherry', 'durian', 'elderberry']\n",
      "['apple', 'banana', 'cherry', 'durian']\n"
     ]
    }
   ],
   "source": [
    "list_fruit = [\"apple\", \"banana\", \"cherry\", \"durian\", \"elderberry\", \"fig\", \"guava\", \"honeydew\"]\n",
    "print(list_fruit)\n",
    "print(list_fruit[2])\n",
    "print(list_fruit[1:5])\n",
    "print(list_fruit[:4])"
   ]
  },
  {
   "cell_type": "markdown",
   "metadata": {},
   "source": [
    "### Exercise 2: (can lists have duplicate items?)  \n",
    "\n",
    "Try to create a list with duplicate elements in the list  \n",
    "Example: apple, cherry, strawberry, apple  \n",
    "print the list  \n",
    "Are duplicates allowed?"
   ]
  },
  {
   "cell_type": "code",
   "execution_count": 8,
   "metadata": {},
   "outputs": [
    {
     "name": "stdout",
     "output_type": "stream",
     "text": [
      "['a', 'a']\n"
     ]
    }
   ],
   "source": [
    "lis = ['a', 'a']\n",
    "print(lis)"
   ]
  },
  {
   "cell_type": "markdown",
   "metadata": {},
   "source": [
    "### Exercise 3: (find the length of a list)  \n",
    "The `len(*list name*)` function will return the length of your list.  \n",
    "Example:\n",
    "`my_list = ['a', 'b', 'c']`\n",
    "`len(my_list)` should return a length of 3. \n",
    "\n",
    "Create your own list and print its length. "
   ]
  },
  {
   "cell_type": "code",
   "execution_count": null,
   "metadata": {},
   "outputs": [],
   "source": []
  },
  {
   "cell_type": "markdown",
   "metadata": {},
   "source": [
    "## Operations that can be performed on Lists  \n",
    "\n",
    "In addition to creating a list, getting an element from a list there are a lot of other operations that we can do with lists.  They are listed below. \n",
    "\n",
    "**Method\tDescription**  \n",
    "`append()`\tAdds an element at the end of the list  \n",
    "`clear()`\t    Removes all the elements from the list  \n",
    "`copy()`\t    Returns a copy of the list  \n",
    "`count()`\t    Returns the number of elements with the specified value  \n",
    "`extend()`\tAdd the elements of a list (or any iterable), to the end of the current list  \n",
    "`index()`\t    Returns the index of the first element with the specified value  \n",
    "`insert()`\tAdds an element at the specified position  \n",
    "`pop()`\t    Removes the element at the specified position  \n",
    "`remove()`\tRemoves the item with the specified value  \n",
    "`reverse()`\tReverses the order of the list  \n",
    "`sort()`\t    Sorts the list  \n",
    "\n",
    "An example of how we could use this is given below.  "
   ]
  },
  {
   "cell_type": "code",
   "execution_count": 9,
   "metadata": {},
   "outputs": [
    {
     "name": "stdout",
     "output_type": "stream",
     "text": [
      "1\n",
      "['a', 'b', 'c', 'd']\n"
     ]
    }
   ],
   "source": [
    "my_list = ['a', 'b', 'c']\n",
    "print( my_list.index('b') )\n",
    "my_list.append('d')\n",
    "print (my_list)"
   ]
  },
  {
   "cell_type": "markdown",
   "metadata": {},
   "source": [
    "### Exercise 4: (Other operations on a list)\n",
    "  \n",
    "Use at least two of the `list` functions that were described above and see how it works. "
   ]
  },
  {
   "cell_type": "code",
   "execution_count": null,
   "metadata": {},
   "outputs": [],
   "source": []
  },
  {
   "cell_type": "markdown",
   "metadata": {},
   "source": [
    "## List items - different data types, Lists are mutable  \n",
    "  \n",
    "Python lists are very flexible. The elements of a list do not need to be the same datatype"
   ]
  },
  {
   "cell_type": "code",
   "execution_count": 10,
   "metadata": {},
   "outputs": [
    {
     "name": "stdout",
     "output_type": "stream",
     "text": [
      "['a', 1, 'b', 'str', 2.2]\n"
     ]
    }
   ],
   "source": [
    "list1 = ['a', 1, 'b', 'str', 2.2]\n",
    "print(list1)"
   ]
  },
  {
   "cell_type": "markdown",
   "metadata": {},
   "source": [
    "These lists are mutable, meaning they can be changed. We do this by accessing an element and assigning it a new value"
   ]
  },
  {
   "cell_type": "code",
   "execution_count": 11,
   "metadata": {},
   "outputs": [
    {
     "name": "stdout",
     "output_type": "stream",
     "text": [
      "[0, 1, 'b', 'str', 2.2]\n"
     ]
    }
   ],
   "source": [
    "list1[0] = 0\n",
    "print(list1)"
   ]
  },
  {
   "cell_type": "markdown",
   "metadata": {},
   "source": [
    "## Strings are Lists but not mutable"
   ]
  },
  {
   "cell_type": "markdown",
   "metadata": {},
   "source": [
    "Strings are very similar to lists. Really, they are **lists of characters**. We can use the same access methods for strings as we use for lists"
   ]
  },
  {
   "cell_type": "code",
   "execution_count": 12,
   "metadata": {},
   "outputs": [
    {
     "name": "stdout",
     "output_type": "stream",
     "text": [
      "s t\n"
     ]
    }
   ],
   "source": [
    "string = \"string contents\"\n",
    "print(string[0], string[1])"
   ]
  },
  {
   "cell_type": "markdown",
   "metadata": {},
   "source": [
    "However, strings are not mutable, meaning you cannot change the values. Try running the code below"
   ]
  },
  {
   "cell_type": "code",
   "execution_count": 13,
   "metadata": {},
   "outputs": [
    {
     "ename": "TypeError",
     "evalue": "'str' object does not support item assignment",
     "output_type": "error",
     "traceback": [
      "\u001b[0;31m---------------------------------------------------------------------------\u001b[0m",
      "\u001b[0;31mTypeError\u001b[0m                                 Traceback (most recent call last)",
      "\u001b[0;32m<ipython-input-13-f557be61d040>\u001b[0m in \u001b[0;36m<module>\u001b[0;34m\u001b[0m\n\u001b[0;32m----> 1\u001b[0;31m \u001b[0mstring\u001b[0m\u001b[0;34m[\u001b[0m\u001b[0;36m2\u001b[0m\u001b[0;34m]\u001b[0m \u001b[0;34m=\u001b[0m \u001b[0;34m's'\u001b[0m\u001b[0;34m\u001b[0m\u001b[0;34m\u001b[0m\u001b[0m\n\u001b[0m",
      "\u001b[0;31mTypeError\u001b[0m: 'str' object does not support item assignment"
     ]
    }
   ],
   "source": [
    "string[2] = 's'"
   ]
  },
  {
   "cell_type": "markdown",
   "metadata": {},
   "source": [
    "### Exercise 5:  \n",
    "1. Create a student entry that you can put in a list.  \n",
    "First Name  \n",
    "Last Name  \n",
    "Subject1  \n",
    "Grade in Subject1  \n",
    "2. Append Subject2 and Grade in Subject2 to the list  \n",
    "3. Find the average grade in the two subjects  \n",
    "4. Print out the average"
   ]
  },
  {
   "cell_type": "code",
   "execution_count": null,
   "metadata": {},
   "outputs": [],
   "source": []
  },
  {
   "cell_type": "code",
   "execution_count": null,
   "metadata": {},
   "outputs": [],
   "source": []
  }
 ],
 "metadata": {
  "kernelspec": {
   "display_name": "Python 3",
   "language": "python",
   "name": "python3"
  },
  "language_info": {
   "codemirror_mode": {
    "name": "ipython",
    "version": 3
   },
   "file_extension": ".py",
   "mimetype": "text/x-python",
   "name": "python",
   "nbconvert_exporter": "python",
   "pygments_lexer": "ipython3",
   "version": "3.8.8"
  }
 },
 "nbformat": 4,
 "nbformat_minor": 2
}
