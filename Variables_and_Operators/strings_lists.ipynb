{
 "metadata": {
  "language_info": {
   "codemirror_mode": {
    "name": "ipython",
    "version": 3
   },
   "file_extension": ".py",
   "mimetype": "text/x-python",
   "name": "python",
   "nbconvert_exporter": "python",
   "pygments_lexer": "ipython3",
   "version": "3.8.8-final"
  },
  "orig_nbformat": 2,
  "kernelspec": {
   "name": "python38864bitclass21condac630186d82cf42c294623460888b15e5",
   "display_name": "Python 3.8.8 64-bit ('class21': conda)"
  }
 },
 "nbformat": 4,
 "nbformat_minor": 2,
 "cells": [
  {
   "source": [
    "# Lists and Strings\n",
    "Lists are, as their name implies, lists of data  \n",
    "We can define a list by using square brackets []"
   ],
   "cell_type": "markdown",
   "metadata": {}
  },
  {
   "cell_type": "code",
   "execution_count": null,
   "metadata": {},
   "outputs": [],
   "source": [
    "lis = ['a', 'b']"
   ]
  },
  {
   "source": [
    "The list `lis` has two elements, `'a'` and `'b'`. we can access these elements in the list using indexing.  \n",
    "Indexing numbers the elements in a list in order, starting from 0. the first element of lis has index 0, the second 1.\n",
    "We access these elements using the square brackets[]"
   ],
   "cell_type": "markdown",
   "metadata": {}
  },
  {
   "cell_type": "code",
   "execution_count": null,
   "metadata": {},
   "outputs": [],
   "source": [
    "lis_0 = lis[0]\n",
    "print(lis_0)\n",
    "print(lis[1])"
   ]
  },
  {
   "source": [
    "We can partition these lists using a colon inside of the square brackets"
   ],
   "cell_type": "markdown",
   "metadata": {}
  },
  {
   "cell_type": "code",
   "execution_count": null,
   "metadata": {},
   "outputs": [],
   "source": [
    "list0 = ['a', 'b', 'c', 'd', 'e']\n",
    "print(list0)\n",
    "list0_part = list0[1:3] # This list contains indexes 1 and 2\n",
    "print(list0_part)\n",
    "list0_part2 = list0[3:] # This list contains indexes 3 to the end\n",
    "print(list0_part2)\n",
    "list0_part3 = list0[:1] # This list contains indexes 0 until 1, not including 1\n",
    "print(list0_part3)"
   ]
  },
  {
   "source": [
    "Python lists are very flexible. The elements of a list do not need to be the same datatype"
   ],
   "cell_type": "markdown",
   "metadata": {}
  },
  {
   "cell_type": "code",
   "execution_count": null,
   "metadata": {},
   "outputs": [],
   "source": [
    "list1 = ['a', 1, 'b', 'str', 2.2]\n",
    "print(list1)"
   ]
  },
  {
   "source": [
    "These lists are mutable, meaning they can be changed. We do this by accessing an element and assigning it a new value"
   ],
   "cell_type": "markdown",
   "metadata": {}
  },
  {
   "cell_type": "code",
   "execution_count": null,
   "metadata": {},
   "outputs": [],
   "source": [
    "list1[0] = 0\n",
    "print(list1)"
   ]
  },
  {
   "source": [
    "Strings are very similar to lists. Really, they are lists of characters. We can use the same access methods for strings as we use for lists"
   ],
   "cell_type": "markdown",
   "metadata": {}
  },
  {
   "cell_type": "code",
   "execution_count": null,
   "metadata": {},
   "outputs": [],
   "source": [
    "string = \"string contents\"\n",
    "print(string[0], string[1])"
   ]
  },
  {
   "source": [
    "However, strings are not mutable, meaning you cannot change the values. Try running the code below"
   ],
   "cell_type": "markdown",
   "metadata": {}
  },
  {
   "cell_type": "code",
   "execution_count": null,
   "metadata": {},
   "outputs": [],
   "source": [
    "string[2] = 's'"
   ]
  }
 ]
}