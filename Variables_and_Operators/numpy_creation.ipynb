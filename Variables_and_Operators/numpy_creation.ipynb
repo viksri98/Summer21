{
 "metadata": {
  "language_info": {
   "codemirror_mode": {
    "name": "ipython",
    "version": 3
   },
   "file_extension": ".py",
   "mimetype": "text/x-python",
   "name": "python",
   "nbconvert_exporter": "python",
   "pygments_lexer": "ipython3",
   "version": "3.8.8-final"
  },
  "orig_nbformat": 2,
  "kernelspec": {
   "name": "python38864bitclass21condac630186d82cf42c294623460888b15e5",
   "display_name": "Python 3.8.8 64-bit ('class21': conda)"
  }
 },
 "nbformat": 4,
 "nbformat_minor": 2,
 "cells": [
  {
   "source": [
    "# Numpy -- Creation"
   ],
   "cell_type": "markdown",
   "metadata": {}
  },
  {
   "source": [
    "The `numpy` **module** is used in almost all numerical computation using Python. \n",
    "\n",
    "It is a package that provide high-performance vector, matrix and even higher-dimensional data structures for Python. Underneath the hood, it is implemented in C and Fortran so performance is very good. \n",
    "\n",
    "To use `numpy` you need to import the module, or a specific **function** inside a module."
   ],
   "cell_type": "markdown",
   "metadata": {}
  },
  {
   "cell_type": "code",
   "execution_count": null,
   "metadata": {},
   "outputs": [],
   "source": [
    "import numpy as np"
   ]
  },
  {
   "source": [
    "This tells python to import the `numpy` module, and to use the `np` abbreviation to refer to it in code. You are free to use any abbreviation, but `np` is standard."
   ],
   "cell_type": "markdown",
   "metadata": {}
  },
  {
   "source": [
    "The main datatype we will use from Numpy is the array. Numpy arrays have a few more restrictions than Lists. All elements must have the same datatype, and we have to pre-determine the amount of elements in the array.  \n",
    "We can intialize these arrays with a few functions.  \n",
    "* using functions dedicated to creating numpy arrays, such as `arange` and `linspace`\n",
    "* using `zeros` to initialize the array to all zeros  \n",
    "* using `ones` to initialize the array to all ones\n",
    "* using `random` to initialize the array to random numbers  \n",
    "* using `array` to initialize the array from a list"
   ],
   "cell_type": "markdown",
   "metadata": {}
  },
  {
   "source": [
    "The most common way to initialize a numpy array is to all zeroes. This is done with the `zeros` function"
   ],
   "cell_type": "markdown",
   "metadata": {}
  },
  {
   "cell_type": "code",
   "execution_count": null,
   "metadata": {},
   "outputs": [],
   "source": [
    "my_array = np.zeros(5)\n",
    "print(my_array)"
   ]
  },
  {
   "source": [
    "The `zeros()` function takes an integer that determines the length of the numpy array, or how many elements it holds.  \n",
    "Alternatively, you can give it a tuple, which will determine its shape."
   ],
   "cell_type": "markdown",
   "metadata": {}
  },
  {
   "cell_type": "code",
   "execution_count": null,
   "metadata": {},
   "outputs": [],
   "source": [
    "my_matrix = np.zeros((3, 4))\n",
    "print(my_matrix)"
   ]
  },
  {
   "source": [
    "Arrays in numpy have some `methods` that either return properties about the array or manipulate the array  \n",
    "`shape` tells us the shape of the array, as (rows, columns)  \n",
    "`size` tells us the total number of elements in the array  "
   ],
   "cell_type": "markdown",
   "metadata": {}
  },
  {
   "cell_type": "code",
   "execution_count": null,
   "metadata": {},
   "outputs": [],
   "source": [
    "my_array_size = my_array.size\n",
    "my_array_shape = my_array.shape \n",
    "print(my_array_size)\n",
    "print(my_array_shape)"
   ]
  },
  {
   "source": [
    "Alternatively, we can use numpy `functions` that take in a numpy array as input, and output the shape and size"
   ],
   "cell_type": "markdown",
   "metadata": {}
  },
  {
   "cell_type": "code",
   "execution_count": null,
   "metadata": {},
   "outputs": [],
   "source": [
    "my_matrix_size = np.size(my_matrix)\n",
    "my_matrix_shape = np.shape(my_matrix)\n",
    "print(my_matrix_size)\n",
    "print(my_matrix_shape)"
   ]
  },
  {
   "source": [
    "We can find the array's type using `dtype`"
   ],
   "cell_type": "markdown",
   "metadata": {}
  },
  {
   "cell_type": "code",
   "execution_count": null,
   "metadata": {},
   "outputs": [],
   "source": [
    "my_array.dtype"
   ]
  },
  {
   "source": [
    "Notice that the type is `float64`. This is the default type of a numpy array. It is a type of `float` on a 64 bit machine. We generally don't have to worry about the bit sizes on modern computers, for our purposes this is a `float`"
   ],
   "cell_type": "markdown",
   "metadata": {}
  },
  {
   "source": [
    "`numpy` has an `array` function to allow us to specify information about the array  \n",
    "For example, lets turn that array into an array of integers"
   ],
   "cell_type": "markdown",
   "metadata": {}
  },
  {
   "cell_type": "code",
   "execution_count": null,
   "metadata": {},
   "outputs": [],
   "source": [
    "int_array = np.array(my_array, dtype = 'int')"
   ]
  },
  {
   "source": [
    "We use the `dtype` keyword argument to specify what type we want. Now we can check the type of `int_array`"
   ],
   "cell_type": "markdown",
   "metadata": {}
  },
  {
   "cell_type": "code",
   "execution_count": null,
   "metadata": {},
   "outputs": [],
   "source": [
    "int_array.dtype"
   ]
  },
  {
   "source": [
    "The most common data types in a numpy array are:\n",
    "* `int` - integer\n",
    "* `float` - decimal\n",
    "* `bool` - a type that can store either True or False"
   ],
   "cell_type": "markdown",
   "metadata": {}
  },
  {
   "source": [
    "We can also use the `array` function to convert lists into numpy arrays"
   ],
   "cell_type": "markdown",
   "metadata": {}
  },
  {
   "cell_type": "code",
   "execution_count": null,
   "metadata": {},
   "outputs": [],
   "source": [
    "lis = [1, 2, 3]\n",
    "converted_array = np.array(lis)\n",
    "print(converted_array)"
   ]
  },
  {
   "source": [
    "Lets look at some more array-generation functions.  \n",
    "`arange` creates an array of evenly spaced items in a range"
   ],
   "cell_type": "markdown",
   "metadata": {}
  },
  {
   "cell_type": "code",
   "execution_count": null,
   "metadata": {},
   "outputs": [],
   "source": [
    "ranged_array = np.arange(0, 10, 1)\n",
    "print(ranged_array)"
   ]
  },
  {
   "source": [
    "The first argument, or input, for arange is the beginning of the range. This is included in the array  \n",
    "The second argument is the end of the range, but it is not included in the range  \n",
    "The third argument is the step size. 1 means every integer in the range, 2 means every other integer, and so on."
   ],
   "cell_type": "markdown",
   "metadata": {}
  },
  {
   "cell_type": "code",
   "execution_count": null,
   "metadata": {},
   "outputs": [],
   "source": [
    "ranged_floats = np.arange(0, 3.2, 0.4)\n",
    "print(ranged_floats)"
   ]
  },
  {
   "source": [
    "The arguments do not have to be integers, they can be floats as well"
   ],
   "cell_type": "markdown",
   "metadata": {}
  },
  {
   "source": [
    "`linspace` is very similar to arange, but it includes both end points, and the third argument is the amount of elements, not the step."
   ],
   "cell_type": "markdown",
   "metadata": {}
  },
  {
   "cell_type": "code",
   "execution_count": null,
   "metadata": {},
   "outputs": [],
   "source": [
    "linspace_array = np.linspace(0, 10, 5)\n",
    "print(linspace_array)"
   ]
  }
 ]
}