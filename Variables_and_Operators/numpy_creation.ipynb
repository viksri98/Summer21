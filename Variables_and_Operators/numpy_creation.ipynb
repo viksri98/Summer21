{
 "cells": [
  {
   "cell_type": "markdown",
   "metadata": {},
   "source": [
    "# Lesson 7: \n",
    "# Array datatype using \"Numpy\" "
   ]
  },
  {
   "cell_type": "markdown",
   "metadata": {},
   "source": [
    "## Array datatype\n",
    "\n",
    "Earlier we used an *import math* statement to do some interesting math operations such as squareroot and factorial. \n",
    "\n",
    "We also just finished a lesson on *Lists*. \n",
    "\n",
    "Now we are learning about a new datatype called an **Array**. Arrays are like *Lists* with 2 main differences:\n",
    "1. Arrays are of fixed size. Lists can change in size as we go on.\n",
    "2. All the elements in an Array have to be the same datatype. You can have different datatypes within a list. \n",
    "\n",
    "**DEMO**\n",
    "\n",
    "Why do you think an **Array** would be a useful datatype?\n",
    "\n",
    "Have you seen an **Array** in math? Think about Google sheets, Excel, Rubics cube... These are all higher dimensional arrays. "
   ]
  },
  {
   "cell_type": "markdown",
   "metadata": {},
   "source": [
    "## What is numpy?\n",
    "\n",
    "The `numpy` **module** is used in almost all large scale math computation using Python. We will be using this package instead of `math`.\n",
    "\n",
    "https://numpy.org/doc/stable/user/basics.creation.html is a good source.\n",
    "\n",
    "It is a package(code written by others) that provide high-performance vector, matrix and even higher-dimensional data structures for Python. In other words **higher level math operations becomes super easy if we use numpy's various functions**. Underneath the hood, numpy is implemented in C and Fortran so the performance is very good. That means it is fast!!\n",
    "\n",
    "To use `numpy` you need to import the module, or a specific **function** inside a module."
   ]
  },
  {
   "cell_type": "code",
   "execution_count": 1,
   "metadata": {},
   "outputs": [],
   "source": [
    "import numpy as np"
   ]
  },
  {
   "cell_type": "markdown",
   "metadata": {},
   "source": [
    "This tells python to import the `numpy` module, and to use the `np` abbreviation to refer to it in code. You are free to use any abbreviation, but `np` is standard."
   ]
  },
  {
   "cell_type": "markdown",
   "metadata": {},
   "source": [
    "**The main datatype we will use from Numpy is the array.**  \n",
    "We can intialize these arrays with a few functions.  \n",
    "* using functions dedicated to creating numpy arrays, such as `arange` and `linspace`\n",
    "* using `zeros` to initialize the array to all zeros  \n",
    "* using `ones` to initialize the array to all ones\n",
    "* using `array` to initialize the array from a list"
   ]
  },
  {
   "cell_type": "markdown",
   "metadata": {},
   "source": [
    "## Steps to create a numpy Array\n",
    "\n",
    "1. import numpy as np #At the top of your file. \n",
    "2. Initialize the array\n",
    "\n",
    "The most common way to initialize a numpy array is to set all the values to zero. This is done with the `zeros` function"
   ]
  },
  {
   "cell_type": "code",
   "execution_count": 2,
   "metadata": {},
   "outputs": [
    {
     "name": "stdout",
     "output_type": "stream",
     "text": [
      "[0. 0. 0. 0. 0.]\n"
     ]
    }
   ],
   "source": [
    "my_array = np.zeros(5) #The array is 5 elements long\n",
    "print(my_array)"
   ]
  },
  {
   "cell_type": "markdown",
   "metadata": {},
   "source": [
    "The `zeros()` function takes an integer that determines the length of the numpy array, or how many elements it holds.  \n",
    "Alternatively, you can give it a tuple, which will determine its shape."
   ]
  },
  {
   "cell_type": "code",
   "execution_count": 3,
   "metadata": {},
   "outputs": [
    {
     "name": "stdout",
     "output_type": "stream",
     "text": [
      "[[0. 0. 0. 0.]\n",
      " [0. 0. 0. 0.]\n",
      " [0. 0. 0. 0.]]\n"
     ]
    }
   ],
   "source": [
    "my_matrix = np.zeros((3, 4)) #(number of rows, number of columns)\n",
    "print(my_matrix)"
   ]
  },
  {
   "cell_type": "markdown",
   "metadata": {},
   "source": [
    "### Exercise 1: Create an array and a matrix\n",
    "\n",
    "1. Write the code to generate an array named one_array = [1. 1. 1. 1. 1. 1.]\n",
    "2. Write the code to generate a 2 dimensional matrix \n",
    "    one_matrix = [[1.1.1.1.]\n",
    "                  [1.1.1.1.]]\n",
    "Hint: Use the np.ones() function\n"
   ]
  },
  {
   "cell_type": "code",
   "execution_count": null,
   "metadata": {},
   "outputs": [],
   "source": []
  },
  {
   "cell_type": "markdown",
   "metadata": {},
   "source": [
    "## Numpy methods to find the shape and size of an Array\n",
    "\n",
    "Arrays in numpy have some `methods` that either return properties about the array or manipulate the array  \n",
    "`shape` tells us the shape of the array, as (rows, columns)  \n",
    "`size` tells us the total number of elements in the array  "
   ]
  },
  {
   "cell_type": "code",
   "execution_count": 4,
   "metadata": {},
   "outputs": [
    {
     "name": "stdout",
     "output_type": "stream",
     "text": [
      "5\n",
      "(5,)\n"
     ]
    }
   ],
   "source": [
    "my_array_size = my_array.size\n",
    "my_array_shape = my_array.shape \n",
    "print(my_array_size)\n",
    "print(my_array_shape)"
   ]
  },
  {
   "cell_type": "markdown",
   "metadata": {},
   "source": [
    "Alternatively, we can use numpy `functions` that take in a numpy array as input, and output the shape and size"
   ]
  },
  {
   "cell_type": "code",
   "execution_count": 5,
   "metadata": {},
   "outputs": [
    {
     "name": "stdout",
     "output_type": "stream",
     "text": [
      "12\n",
      "(3, 4)\n"
     ]
    }
   ],
   "source": [
    "my_matrix_size = np.size(my_matrix)\n",
    "my_matrix_shape = np.shape(my_matrix)\n",
    "print(my_matrix_size)\n",
    "print(my_matrix_shape)"
   ]
  },
  {
   "cell_type": "markdown",
   "metadata": {},
   "source": [
    "## Numpy method to find the datatype in the Array\n",
    "\n",
    "We can find the array's type using `dtype`"
   ]
  },
  {
   "cell_type": "code",
   "execution_count": 6,
   "metadata": {},
   "outputs": [
    {
     "data": {
      "text/plain": [
       "dtype('float64')"
      ]
     },
     "execution_count": 6,
     "metadata": {},
     "output_type": "execute_result"
    }
   ],
   "source": [
    "my_array.dtype"
   ]
  },
  {
   "cell_type": "markdown",
   "metadata": {},
   "source": [
    "Notice that the type is `float64`. This is the default type of a numpy array. It is a type of `float` on a 64 bit machine. We generally don't have to worry about the bit sizes on modern computers, for our purposes this is a `float`"
   ]
  },
  {
   "cell_type": "markdown",
   "metadata": {},
   "source": [
    "## Numpy's *array* method to create an Array\n",
    "\n",
    "`numpy` has an `array` function to allow us to specify information about the array  \n",
    "For example, lets turn that array into an array of integers"
   ]
  },
  {
   "cell_type": "code",
   "execution_count": 7,
   "metadata": {},
   "outputs": [],
   "source": [
    "int_array = np.array(my_array, dtype = 'int') \n",
    "int_array2 = np.array([1, 2, 2, 1], dtype = 'float')"
   ]
  },
  {
   "cell_type": "markdown",
   "metadata": {},
   "source": [
    "We use the `dtype` keyword argument to specify what type we want. Now we can check the type of `int_array`"
   ]
  },
  {
   "cell_type": "code",
   "execution_count": 8,
   "metadata": {},
   "outputs": [
    {
     "name": "stdout",
     "output_type": "stream",
     "text": [
      "[0 0 0 0 0]\n",
      "int32\n",
      "int_array2 is = [1. 2. 2. 1.]\n",
      "float64\n"
     ]
    }
   ],
   "source": [
    "print (int_array)\n",
    "print(int_array.dtype)\n",
    "print (\"int_array2 is =\", int_array2)\n",
    "print (int_array2.dtype)"
   ]
  },
  {
   "cell_type": "markdown",
   "metadata": {},
   "source": [
    "### Exercise 2: Create an array that holds your phone number\n",
    "\n",
    "Create an array using the np.array() method to hold your 10 digit phone number. \n",
    "You must decide what the datatype should be. Remember the default is always float.\n",
    "1. Create the array \n",
    "2. Find the dtype of the array elements\n",
    "3. Find the size() of the array\n",
    "4. Find the shape() of the array"
   ]
  },
  {
   "cell_type": "code",
   "execution_count": null,
   "metadata": {},
   "outputs": [],
   "source": []
  },
  {
   "cell_type": "markdown",
   "metadata": {},
   "source": [
    "## Numpy array common datatypes\n",
    "\n",
    "The most common data types in a numpy array are:\n",
    "* `int` - integer\n",
    "* `float` - decimal\n",
    "* `bool` - a type that can store either True or False"
   ]
  },
  {
   "cell_type": "markdown",
   "metadata": {},
   "source": [
    "## List converted to Numpy Array\n",
    "\n",
    "We can also use the `array` function to convert lists into numpy arrays"
   ]
  },
  {
   "cell_type": "code",
   "execution_count": 9,
   "metadata": {},
   "outputs": [
    {
     "name": "stdout",
     "output_type": "stream",
     "text": [
      "[1 2 3]\n"
     ]
    }
   ],
   "source": [
    "lis = [1, 2, 3]\n",
    "converted_array = np.array(lis)\n",
    "print(converted_array)"
   ]
  },
  {
   "cell_type": "markdown",
   "metadata": {},
   "source": [
    "## Numpy array creation using arange() and linspace() \n",
    "\n",
    "Lets look at some more array-generation functions.  \n",
    "`arange` creates an array of evenly spaced items in a range"
   ]
  },
  {
   "cell_type": "code",
   "execution_count": 10,
   "metadata": {},
   "outputs": [
    {
     "name": "stdout",
     "output_type": "stream",
     "text": [
      "[0 1 2 3 4 5 6 7 8 9]\n"
     ]
    }
   ],
   "source": [
    "ranged_array = np.arange(0, 10, 1)\n",
    "print(ranged_array)"
   ]
  },
  {
   "cell_type": "markdown",
   "metadata": {},
   "source": [
    "1. The first argument, or input, for arange is the beginning of the range. \n",
    "    This is included in the array.  \n",
    "2. The second argument is the end of the range, but it is not included \n",
    "    in the range  \n",
    "3. The third argument is the step size. 1 means every integer in the range, \n",
    "    2 means every other integer, and so on."
   ]
  },
  {
   "cell_type": "code",
   "execution_count": 11,
   "metadata": {},
   "outputs": [
    {
     "name": "stdout",
     "output_type": "stream",
     "text": [
      "[0.  0.4 0.8 1.2 1.6 2.  2.4 2.8]\n"
     ]
    }
   ],
   "source": [
    "ranged_floats = np.arange(0, 3.2, 0.4)\n",
    "print(ranged_floats)"
   ]
  },
  {
   "cell_type": "markdown",
   "metadata": {},
   "source": [
    "The arguments do not have to be integers, they can be floats as well"
   ]
  },
  {
   "cell_type": "markdown",
   "metadata": {},
   "source": [
    "`linspace` is very similar to arange, but it includes both end points, and the third argument is the amount of elements, not the step."
   ]
  },
  {
   "cell_type": "code",
   "execution_count": 12,
   "metadata": {},
   "outputs": [
    {
     "name": "stdout",
     "output_type": "stream",
     "text": [
      "[ 0.   2.5  5.   7.5 10. ]\n"
     ]
    }
   ],
   "source": [
    "linspace_array = np.linspace(0, 10, 5)\n",
    "print(linspace_array)"
   ]
  },
  {
   "cell_type": "markdown",
   "metadata": {},
   "source": [
    "### Exercise 3: \n",
    "\n",
    "Create a 2 dimensional matrix with the data given below. \n",
    "Grade    |     HaveCellPhone    |      NoCellPhone\n",
    "7th      |     129              |      294\n",
    "8th      |     325              |      92\n",
    "\n",
    "When you print out the array it should look like this:\n",
    "[[129.  294.]\n",
    " [325.  92. ]]\n",
    " \n",
    "Find the datatype of the matrix you have created.\n",
    "Find the size and shape of the matrix you have created\n"
   ]
  },
  {
   "cell_type": "code",
   "execution_count": null,
   "metadata": {},
   "outputs": [],
   "source": []
  },
  {
   "cell_type": "markdown",
   "metadata": {},
   "source": [
    "### Exercise 4: \n",
    "\n",
    "Create an array with numbers ranging from 10 to 35 with a stepping interval of 0.5.HINT: Use arange() to create your array. \n",
    "How many entries will this array have? Use the size() function to find out.\n"
   ]
  },
  {
   "cell_type": "code",
   "execution_count": null,
   "metadata": {},
   "outputs": [],
   "source": []
  }
 ],
 "metadata": {
  "kernelspec": {
   "display_name": "Python 3",
   "language": "python",
   "name": "python3"
  },
  "language_info": {
   "codemirror_mode": {
    "name": "ipython",
    "version": 3
   },
   "file_extension": ".py",
   "mimetype": "text/x-python",
   "name": "python",
   "nbconvert_exporter": "python",
   "pygments_lexer": "ipython3",
   "version": "3.8.8"
  }
 },
 "nbformat": 4,
 "nbformat_minor": 2
}
