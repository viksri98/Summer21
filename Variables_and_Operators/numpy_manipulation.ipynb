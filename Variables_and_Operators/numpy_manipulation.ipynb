{
 "metadata": {
  "language_info": {
   "codemirror_mode": {
    "name": "ipython",
    "version": 3
   },
   "file_extension": ".py",
   "mimetype": "text/x-python",
   "name": "python",
   "nbconvert_exporter": "python",
   "pygments_lexer": "ipython3",
   "version": "3.8.8-final"
  },
  "orig_nbformat": 2,
  "kernelspec": {
   "name": "python38864bitclass21condac630186d82cf42c294623460888b15e5",
   "display_name": "Python 3.8.8 64-bit ('class21': conda)"
  }
 },
 "nbformat": 4,
 "nbformat_minor": 2,
 "cells": [
  {
   "source": [
    "# Numpy -- Manipulation  \n",
    "We can index through single-dimensioned numpy arrays the same way as with lists, using square brackets"
   ],
   "cell_type": "markdown",
   "metadata": {}
  },
  {
   "source": [
    "import numpy as np \n",
    "my_array = np.array([1, 6, 3, 4])\n",
    "print(my_array[0])\n",
    "print(my_array[2])"
   ],
   "cell_type": "code",
   "metadata": {},
   "execution_count": 1,
   "outputs": [
    {
     "output_type": "stream",
     "name": "stdout",
     "text": [
      "1\n3\n"
     ]
    }
   ]
  },
  {
   "source": [
    "More dimensions is different. Numpy arrays handle multiple dimensions in a single structure, rather than nesting lists inside of lists. We access the items in a 2d array using `[row, column]`"
   ],
   "cell_type": "markdown",
   "metadata": {}
  },
  {
   "cell_type": "code",
   "execution_count": null,
   "metadata": {},
   "outputs": [],
   "source": [
    "my_matrix = np.zeros((3, 4))\n",
    "my_matrix[0, 0] = 1\n",
    "print(my_matrix)"
   ]
  },
  {
   "source": [
    "The list slicing operations work with numpy arrays as well, but now we can specify the step as well."
   ],
   "cell_type": "markdown",
   "metadata": {}
  },
  {
   "cell_type": "code",
   "execution_count": 2,
   "metadata": {},
   "outputs": [
    {
     "output_type": "stream",
     "name": "stdout",
     "text": [
      "[ 1  2  5 13]\n"
     ]
    }
   ],
   "source": [
    "arr = np.array([1, 1, 2, 3, 5, 8, 13])\n",
    "first_half = arr[0:4]\n",
    "print(first_half)"
   ]
  },
  {
   "source": [
    "We can omit any of the three parameters, and python will default to [0:arr.size:1] for any ommitted parameter."
   ],
   "cell_type": "markdown",
   "metadata": {}
  },
  {
   "cell_type": "code",
   "execution_count": 3,
   "metadata": {},
   "outputs": [
    {
     "output_type": "stream",
     "name": "stdout",
     "text": [
      "[1 1 2 3]\n"
     ]
    }
   ],
   "source": [
    "evens = arr[0::2]\n",
    "print(evens)"
   ]
  },
  {
   "source": [
    "We can modify slices of an array using another array of the same size. This cannot be done with lists"
   ],
   "cell_type": "markdown",
   "metadata": {}
  },
  {
   "cell_type": "code",
   "execution_count": 5,
   "metadata": {},
   "outputs": [
    {
     "output_type": "stream",
     "name": "stdout",
     "text": [
      "[ 0  0  0  3  5  8 13]\n"
     ]
    }
   ],
   "source": [
    "arr[0:3] = np.array([0, 0, 0])\n",
    "print(arr)"
   ]
  },
  {
   "source": [
    "Slicing works the same way in multiple dimensions"
   ],
   "cell_type": "markdown",
   "metadata": {}
  },
  {
   "cell_type": "code",
   "execution_count": 6,
   "metadata": {},
   "outputs": [
    {
     "output_type": "stream",
     "name": "stdout",
     "text": [
      "[[0. 0. 0. 0.]\n [0. 0. 0. 0.]\n [0. 0. 0. 0.]]\n[0. 0. 0. 0.]\n"
     ]
    }
   ],
   "source": [
    "arr_2d = np.zeros((3,4))\n",
    "print(arr_2d)\n",
    "arr_row_1 = arr_2d[1, :]\n",
    "print(arr_row_1)"
   ]
  },
  {
   "source": [
    "One of the most useful reasons to use numpy arrays is how they handle **math**. Lets think about how we add 1 to each element of a list."
   ],
   "cell_type": "markdown",
   "metadata": {}
  },
  {
   "cell_type": "code",
   "execution_count": null,
   "metadata": {},
   "outputs": [],
   "source": [
    "lis = [0, 1, 2, 3]\n",
    "lis[0] = lis[0] + 1\n",
    "lis[1] = lis[1] + 1\n",
    "lis[2] = lis[2] + 1\n",
    "lis[3] = lis[3] + 1\n",
    "print(lis)"
   ]
  },
  {
   "source": [
    "With numpy arrays, we simply add 1 to the array"
   ],
   "cell_type": "markdown",
   "metadata": {}
  },
  {
   "cell_type": "code",
   "execution_count": 7,
   "metadata": {},
   "outputs": [
    {
     "output_type": "stream",
     "name": "stdout",
     "text": [
      "[1 2 3 4]\n"
     ]
    }
   ],
   "source": [
    "np_arr = np.array([0, 1, 2, 3])\n",
    "np_arr = np_arr + 1\n",
    "print(np_arr)"
   ]
  },
  {
   "source": [
    "We can do the exact same thing for multiplication"
   ],
   "cell_type": "markdown",
   "metadata": {}
  },
  {
   "cell_type": "code",
   "execution_count": 8,
   "metadata": {},
   "outputs": [
    {
     "output_type": "stream",
     "name": "stdout",
     "text": [
      "[2 4 6 8]\n"
     ]
    }
   ],
   "source": [
    "np_arr = np_arr * 2\n",
    "print(np_arr)"
   ]
  },
  {
   "source": [
    "We can also add, subtract, multiply and divide numpy arrays element by element."
   ],
   "cell_type": "markdown",
   "metadata": {}
  },
  {
   "cell_type": "code",
   "execution_count": 9,
   "metadata": {},
   "outputs": [
    {
     "output_type": "stream",
     "name": "stdout",
     "text": [
      "[1. 2. 3. 4. 5.]\n"
     ]
    }
   ],
   "source": [
    "arr1 = np.ones(5)\n",
    "arr2 = np.arange(0, 5)\n",
    "arr3 = arr1 + arr2\n",
    "print(arr3)"
   ]
  },
  {
   "source": [
    "arr4 = arr3 * arr2\n",
    "print(arr4)"
   ],
   "cell_type": "code",
   "metadata": {},
   "execution_count": 10,
   "outputs": [
    {
     "output_type": "stream",
     "name": "stdout",
     "text": [
      "[ 0.  2.  6. 12. 20.]\n"
     ]
    }
   ]
  },
  {
   "cell_type": "code",
   "execution_count": 12,
   "metadata": {},
   "outputs": [
    {
     "output_type": "stream",
     "name": "stdout",
     "text": [
      "[0. 1. 2. 3. 4.]\n"
     ]
    }
   ],
   "source": [
    "arr5 = arr4 / arr3\n",
    "print(arr5)"
   ]
  }
 ]
}