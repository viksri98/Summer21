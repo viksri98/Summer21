{
 "metadata": {
  "language_info": {
   "codemirror_mode": {
    "name": "ipython",
    "version": 3
   },
   "file_extension": ".py",
   "mimetype": "text/x-python",
   "name": "python",
   "nbconvert_exporter": "python",
   "pygments_lexer": "ipython3",
   "version": "3.8.8-final"
  },
  "orig_nbformat": 2,
  "kernelspec": {
   "name": "python38864bitclass21condac630186d82cf42c294623460888b15e5",
   "display_name": "Python 3.8.8 64-bit ('class21': conda)"
  }
 },
 "nbformat": 4,
 "nbformat_minor": 2,
 "cells": [
  {
   "source": [
    "# Numpy -- Manipulation  \n",
    "We can index through single-dimensioned numpy arrays the same way as with lists, using square brackets"
   ],
   "cell_type": "markdown",
   "metadata": {}
  },
  {
   "cell_type": "code",
   "execution_count": 3,
   "metadata": {},
   "outputs": [
    {
     "output_type": "stream",
     "name": "stdout",
     "text": [
      "1\n3\n"
     ]
    }
   ],
   "source": [
    "import numpy as np \n",
    "my_array = np.array([1, 6, 3, 4])\n",
    "print(my_array[0])\n",
    "print(my_array[2])"
   ]
  },
  {
   "source": [
    "More dimensions is different. Numpy arrays handle multiple dimensions in a single structure, rather than nesting lists inside of lists. We access the items in a 2d array using `[row, column]`"
   ],
   "cell_type": "markdown",
   "metadata": {}
  },
  {
   "cell_type": "code",
   "execution_count": 5,
   "metadata": {},
   "outputs": [
    {
     "output_type": "stream",
     "name": "stdout",
     "text": [
      "[[1. 0. 0. 0.]\n [0. 0. 0. 0.]\n [0. 0. 0. 0.]]\n"
     ]
    }
   ],
   "source": [
    "my_matrix = np.zeros((3, 4))\n",
    "my_matrix[0, 0] = 1\n",
    "print(my_matrix)"
   ]
  },
  {
   "cell_type": "code",
   "execution_count": null,
   "metadata": {},
   "outputs": [],
   "source": []
  }
 ]
}