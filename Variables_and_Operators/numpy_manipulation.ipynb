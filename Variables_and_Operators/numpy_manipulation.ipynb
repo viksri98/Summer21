{
 "cells": [
  {
   "cell_type": "markdown",
   "metadata": {},
   "source": [
    "# Lesson 8: \n",
    "# Numpy -- Manipulation  \n",
    "We can index through single-dimensioned numpy arrays the same way as with lists, using square brackets"
   ]
  },
  {
   "cell_type": "code",
   "execution_count": null,
   "metadata": {},
   "outputs": [],
   "source": [
    "import numpy as np \n",
    "my_array = np.array([1, 6, 3, 4])\n",
    "print(my_array[0])\n",
    "print(my_array[2])"
   ]
  },
  {
   "cell_type": "markdown",
   "metadata": {},
   "source": [
    "More dimensions is different. Numpy arrays handle multiple dimensions in a single structure, rather than nesting lists inside of lists. We access the items in a 2d array using `[row, column]`"
   ]
  },
  {
   "cell_type": "code",
   "execution_count": null,
   "metadata": {},
   "outputs": [],
   "source": [
    "my_matrix = np.zeros((3, 4))\n",
    "my_matrix[0, 1] = 1\n",
    "print(my_matrix)"
   ]
  },
  {
   "cell_type": "markdown",
   "metadata": {},
   "source": [
    "The list slicing operations work with numpy arrays as well, but now we can specify the step as well."
   ]
  },
  {
   "cell_type": "code",
   "execution_count": null,
   "metadata": {},
   "outputs": [],
   "source": [
    "arr = np.array([1, 1, 2, 3, 5, 8, 13])\n",
    "first_half = arr[0:4]\n",
    "print(first_half)"
   ]
  },
  {
   "cell_type": "markdown",
   "metadata": {},
   "source": [
    "We can omit any of the three parameters, and python will default to [0:arr.size:1] for any ommitted parameter."
   ]
  },
  {
   "cell_type": "code",
   "execution_count": null,
   "metadata": {},
   "outputs": [],
   "source": [
    "evens = arr[0::2]\n",
    "print(evens)"
   ]
  },
  {
   "cell_type": "markdown",
   "metadata": {},
   "source": [
    "We can modify slices of an array using another array of the same size. This cannot be done with lists"
   ]
  },
  {
   "cell_type": "code",
   "execution_count": null,
   "metadata": {},
   "outputs": [],
   "source": [
    "arr[0:3] = np.array([0, 0, 0])\n",
    "print(arr)"
   ]
  },
  {
   "cell_type": "markdown",
   "metadata": {},
   "source": [
    "Slicing works the same way in multiple dimensions"
   ]
  },
  {
   "cell_type": "code",
   "execution_count": null,
   "metadata": {},
   "outputs": [],
   "source": [
    "arr_2d = np.zeros((3,4))\n",
    "print(arr_2d)\n",
    "arr_row_1 = arr_2d[1, :]\n",
    "print(arr_row_1)"
   ]
  },
  {
   "cell_type": "markdown",
   "metadata": {},
   "source": [
    "One of the most useful reasons to use numpy arrays is how they handle **math**. Lets think about how we add 1 to each element of a list."
   ]
  },
  {
   "cell_type": "code",
   "execution_count": null,
   "metadata": {},
   "outputs": [],
   "source": [
    "lis = [0, 1, 2, 3]\n",
    "lis[0] = lis[0] + 1\n",
    "lis[1] = lis[1] + 1\n",
    "lis[2] = lis[2] + 1\n",
    "lis[3] = lis[3] + 1\n",
    "print(lis)"
   ]
  },
  {
   "cell_type": "markdown",
   "metadata": {},
   "source": [
    "With numpy arrays, we simply add 1 to the array"
   ]
  },
  {
   "cell_type": "code",
   "execution_count": null,
   "metadata": {},
   "outputs": [],
   "source": [
    "np_arr = np.array([0, 1, 2, 3])\n",
    "np_arr = np_arr + 1\n",
    "print(np_arr)"
   ]
  },
  {
   "cell_type": "markdown",
   "metadata": {},
   "source": [
    "We can do the exact same thing for multiplication"
   ]
  },
  {
   "cell_type": "code",
   "execution_count": null,
   "metadata": {},
   "outputs": [],
   "source": [
    "np_arr = np_arr * 2\n",
    "print(np_arr)"
   ]
  },
  {
   "cell_type": "markdown",
   "metadata": {},
   "source": [
    "We can also add, subtract, multiply and divide numpy arrays element by element."
   ]
  },
  {
   "cell_type": "code",
   "execution_count": null,
   "metadata": {},
   "outputs": [],
   "source": [
    "arr1 = np.ones(5)\n",
    "arr2 = np.arange(0, 5)\n",
    "arr3 = arr1 + arr2\n",
    "print(arr3)"
   ]
  },
  {
   "cell_type": "code",
   "execution_count": null,
   "metadata": {},
   "outputs": [],
   "source": [
    "arr4 = arr3 * arr2\n",
    "print(arr4)"
   ]
  },
  {
   "cell_type": "code",
   "execution_count": null,
   "metadata": {},
   "outputs": [],
   "source": [
    "arr5 = arr4 / arr3\n",
    "print(arr5)"
   ]
  },
  {
   "cell_type": "markdown",
   "metadata": {},
   "source": [
    "### Exercise 1: \n",
    "\n",
    "Create a 2 dimensional matrix with the data given below. \n",
    "In Rancho Middle school a survey was conducted about the number of kids who had\n",
    "cell phones. This was the data gathered. \n",
    "\n",
    "Grade    |     HaveCellPhone    |      NoCellPhone\n",
    "7th      |     129              |      294\n",
    "8th      |     325              |      92\n",
    "\n",
    "When you print out the array it should look like this:\n",
    "[[129.  294.]\n",
    " [325.  92. ]]\n",
    " \n",
    "1. How many students are at the middle school?\n",
    "2. What fraction of the 7th graders have cell phones?\n",
    "3. What fraction of the students in the school have cell phones?\n",
    "\n",
    "Use array indexing and array math to solve these questions. "
   ]
  },
  {
   "cell_type": "code",
   "execution_count": null,
   "metadata": {},
   "outputs": [],
   "source": []
  },
  {
   "cell_type": "markdown",
   "metadata": {},
   "source": [
    "### Exercise 2: \n",
    "In Sierra Vista middle school a similar survey was conducted the results are given below. \n",
    "\n",
    "Grade    |     HaveCellPhone    |      NoCellPhone\n",
    "7th      |     237              |      230\n",
    "8th      |     421              |      31\n",
    "\n",
    "1. Create an array with this data. \n",
    "2. How many students in both schools are in 7th grade and have cell phones?\n",
    "3. How many students in both schools are in 8th grade and do not have cell phones?\n",
    "4. How many students are there in both schools put together?\n",
    "5. What fraction of the students in both schools do not have cell phones?"
   ]
  },
  {
   "cell_type": "code",
   "execution_count": null,
   "metadata": {},
   "outputs": [],
   "source": []
  }
 ],
 "metadata": {
  "kernelspec": {
   "display_name": "Python 3",
   "language": "python",
   "name": "python3"
  },
  "language_info": {
   "codemirror_mode": {
    "name": "ipython",
    "version": 3
   },
   "file_extension": ".py",
   "mimetype": "text/x-python",
   "name": "python",
   "nbconvert_exporter": "python",
   "pygments_lexer": "ipython3",
   "version": "3.8.8"
  }
 },
 "nbformat": 4,
 "nbformat_minor": 2
}
