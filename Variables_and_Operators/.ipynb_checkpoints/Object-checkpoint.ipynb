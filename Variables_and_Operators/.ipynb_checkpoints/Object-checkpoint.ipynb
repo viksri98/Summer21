{
 "cells": [
  {
   "cell_type": "markdown",
   "id": "9ea2c339",
   "metadata": {},
   "source": [
    "# Lesson 15 Objects\n",
    "\n",
    "Python is actually an **Object Oriented language**. Every *Data Type* we talked about in this class has actually been an **Object**.  \n",
    "\n",
    "Because we are already using an Object Oriented language, many libraries are written Object Oriented, so it is important to understand how to use and create Objects. We will be using Objects as `struct`s, or custom data types.  "
   ]
  },
  {
   "cell_type": "markdown",
   "id": "92567a2d",
   "metadata": {},
   "source": [
    "## Initializing an Object\n",
    "\n",
    "First, lets learn to create objects that other people already defined. This is called **initialization**. We call a special function called the `constructor` that creates the Object.\n",
    "\n",
    "For example, lets create an `int` Object"
   ]
  },
  {
   "cell_type": "code",
   "execution_count": 3,
   "id": "145caf12",
   "metadata": {},
   "outputs": [
    {
     "name": "stdout",
     "output_type": "stream",
     "text": [
      "<class 'int'>\n"
     ]
    }
   ],
   "source": [
    "integer = 0\n",
    "print(type(integer))"
   ]
  },
  {
   "cell_type": "markdown",
   "id": "60a73077",
   "metadata": {},
   "source": [
    "We have been calling these *casting functions*, but really, they are constructors. They create a new Object with the data we pass them. The same applies for `np.array()`"
   ]
  },
  {
   "cell_type": "code",
   "execution_count": 4,
   "id": "85195d6e",
   "metadata": {},
   "outputs": [
    {
     "name": "stdout",
     "output_type": "stream",
     "text": [
      "<class 'numpy.ndarray'>\n"
     ]
    }
   ],
   "source": [
    "import numpy as np\n",
    "arr = np.array([1, 1])\n",
    "print(type(arr))"
   ]
  },
  {
   "cell_type": "markdown",
   "id": "38aa1325",
   "metadata": {},
   "source": [
    "This is also initializing an Object. Generally, any function with the same name as the datatype it creates is a `constructor`\n",
    "\n",
    "Now let's create our own custom Object"
   ]
  },
  {
   "cell_type": "markdown",
   "id": "0af438b2",
   "metadata": {},
   "source": [
    "## Creating an Object\n",
    "\n",
    "We define our own Objects in `classes`. Each `class` contains the instructions of what an Object stores and does.  \n",
    "The `class` definition begins with the name of the Object.  \n",
    "\n",
    "To actually create the object, we need to write a `constructor`. Constructors in Python are defined with the `__init__()` function inside a class\n",
    "        \n",
    "Here is a simple class definition that defines a Student"
   ]
  },
  {
   "cell_type": "code",
   "execution_count": null,
   "id": "5c270138",
   "metadata": {},
   "outputs": [],
   "source": [
    "class Student:\n",
    "    def __init__(self, firstname, lastname, gpa, height):\n",
    "        self.firstname = firstname\n",
    "        self.lastname = lastname\n",
    "        self.grade_average = gpa\n",
    "        self.height = height"
   ]
  },
  {
   "cell_type": "markdown",
   "id": "2fd5472b",
   "metadata": {},
   "source": [
    "Now we can create a student object. Lets call him stu"
   ]
  },
  {
   "cell_type": "code",
   "execution_count": null,
   "id": "65321e5e",
   "metadata": {},
   "outputs": [],
   "source": [
    "stu = Student(\"stu\", \"denizen\", 3.7, 5.8)"
   ]
  },
  {
   "cell_type": "markdown",
   "id": "b6d5a722",
   "metadata": {},
   "source": [
    "We can access his data using `stu.attribute`"
   ]
  },
  {
   "cell_type": "code",
   "execution_count": null,
   "id": "da67737d",
   "metadata": {},
   "outputs": [],
   "source": [
    "stus_name = stu.firstname\n",
    "stus_last_name = stu.lastname\n",
    "stus_grades = stu.grade_average\n",
    "stus_height = stu.height\n",
    "print(stus_name, stus_last_name, stus_grades, stus_height)"
   ]
  },
  {
   "cell_type": "markdown",
   "id": "074d1f68",
   "metadata": {},
   "source": [
    "### The Self\n",
    "\n",
    "In python, we give each Object method the `self` argument. This is how it refers to and modifies itself. This is required for the constuctor and most special methods."
   ]
  },
  {
   "cell_type": "markdown",
   "id": "c2dcd521",
   "metadata": {},
   "source": [
    "## More useful special methods\n",
    "\n",
    "you can find a full list of special methods in the python docs, but here we will go over some of the most useful   "
   ]
  },
  {
   "cell_type": "markdown",
   "id": "470dd5e5",
   "metadata": {},
   "source": [
    "| Syntax | Description |\n",
    "| ------ | ----------- |\n",
    "|`__repr__` | The official string representation of your object. This is meant for debugging, so it shouldn't be pretty, it should be precise |\n",
    "|`__str__` | Readable string representation, but by default any string method will just use `__repr__` |\n",
    "|`__eq__` | defines how the computer should check for equality between two of your object|\n",
    "|`__add__` | defines how the computer should add two of your object |"
   ]
  },
  {
   "cell_type": "markdown",
   "id": "697cc6b2",
   "metadata": {},
   "source": [
    "### Exercise 1\n",
    "\n",
    "Create a Car Object. This should store the `Brand`, `Model`, `Year`, `Color`, `Mileage`, `Transmission`, and `Engine Type`\n",
    "\n",
    "Use comments to explain what each argument for the constructor should be."
   ]
  },
  {
   "cell_type": "code",
   "execution_count": 2,
   "id": "644ae8e5",
   "metadata": {},
   "outputs": [],
   "source": [
    "class Car:\n",
    "    def __init__(self, brand, model, year, color, mileage, transmission, engine):\n",
    "        self.brand = brand\n",
    "        self.model = model\n",
    "        self.year = year\n",
    "        self.color = color\n",
    "        self.mileage = mileage\n",
    "        self.transmission = transmission\n",
    "        self.engine = engine"
   ]
  },
  {
   "cell_type": "code",
   "execution_count": null,
   "id": "443862a8",
   "metadata": {},
   "outputs": [],
   "source": []
  }
 ],
 "metadata": {
  "kernelspec": {
   "display_name": "Python 3",
   "language": "python",
   "name": "python3"
  },
  "language_info": {
   "codemirror_mode": {
    "name": "ipython",
    "version": 3
   },
   "file_extension": ".py",
   "mimetype": "text/x-python",
   "name": "python",
   "nbconvert_exporter": "python",
   "pygments_lexer": "ipython3",
   "version": "3.8.8"
  }
 },
 "nbformat": 4,
 "nbformat_minor": 5
}
