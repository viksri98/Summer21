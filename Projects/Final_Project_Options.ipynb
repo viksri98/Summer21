{
 "cells": [
  {
   "cell_type": "markdown",
   "id": "4122bff4",
   "metadata": {},
   "source": [
    "# Final Project Options\n",
    "\n",
    "\n",
    "## 1. Game with graphics (pick one REQUIRED)\n",
    "Examples: \n",
    "* Tic Tac Toe  \n",
    "* Rock Paper Scissors\n",
    "* Connect 4\n",
    "* Hangman\n",
    "\n",
    "## 2. Data Science (REQUIRED)\n",
    "* Do a regression model on any data set that you find or create. Drawing a trendline. Do regression on multiple subsets of the same data. \n",
    "Examples:\n",
    "* Covid data set\n",
    "* Punting data set\n",
    "\n",
    "## 3. Image Processing (Optional)\n",
    "Read on matplot image processing and see if you can create your own project.   \n",
    "https://matplotlib.org/stable/tutorials/introductory/images.html  \n",
    "\n",
    "\n",
    "\n",
    "\n"
   ]
  }
 ],
 "metadata": {
  "kernelspec": {
   "display_name": "Python 3",
   "language": "python",
   "name": "python3"
  },
  "language_info": {
   "codemirror_mode": {
    "name": "ipython",
    "version": 3
   },
   "file_extension": ".py",
   "mimetype": "text/x-python",
   "name": "python",
   "nbconvert_exporter": "python",
   "pygments_lexer": "ipython3",
   "version": "3.8.8"
  }
 },
 "nbformat": 4,
 "nbformat_minor": 5
}
