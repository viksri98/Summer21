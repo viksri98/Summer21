{
 "cells": [
  {
   "cell_type": "markdown",
   "id": "31f6d3b7",
   "metadata": {},
   "source": [
    "This is a simple Hello World program. It prints out Hello World. Try running it below"
   ]
  },
  {
   "cell_type": "code",
   "execution_count": 1,
   "id": "de3d4f71",
   "metadata": {},
   "outputs": [
    {
     "output_type": "stream",
     "name": "stdout",
     "text": [
      "Hello World\n"
     ]
    }
   ],
   "source": [
    "print(\"Hello World\")"
   ]
  },
  {
   "cell_type": "markdown",
   "id": "760a2351",
   "metadata": {},
   "source": [
    "Lets examine this code.  \n",
    "First, we have the function we are calling: `print()`  \n",
    "This function has an input of one or more Strings  \n",
    "`\"Hello World\"` is the string"
   ]
  },
  {
   "cell_type": "markdown",
   "id": "21ce4f47",
   "metadata": {},
   "source": [
    "`print(\"Hello World\")` takes \"Hello World\" as input, and calls the `print()` function on it."
   ]
  },
  {
   "source": [
    "Try printing some more Strings below"
   ],
   "cell_type": "markdown",
   "metadata": {}
  },
  {
   "cell_type": "code",
   "execution_count": 2,
   "metadata": {},
   "outputs": [
    {
     "output_type": "stream",
     "name": "stdout",
     "text": [
      "hey\n"
     ]
    }
   ],
   "source": []
  }
 ],
 "metadata": {
  "kernelspec": {
   "display_name": "Python 3.8.8 64-bit ('class21': conda)",
   "language": "python",
   "name": "python38864bitclass21condac630186d82cf42c294623460888b15e5"
  },
  "language_info": {
   "codemirror_mode": {
    "name": "ipython",
    "version": 3
   },
   "file_extension": ".py",
   "mimetype": "text/x-python",
   "name": "python",
   "nbconvert_exporter": "python",
   "pygments_lexer": "ipython3",
   "version": "3.8.8-final"
  }
 },
 "nbformat": 4,
 "nbformat_minor": 5
}