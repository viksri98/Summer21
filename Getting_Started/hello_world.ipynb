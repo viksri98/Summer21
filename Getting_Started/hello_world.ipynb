{
 "cells": [
  {
   "cell_type": "markdown",
   "id": "d41374ff",
   "metadata": {},
   "source": [
    "# Welcome to Python Programming and Data Science\n",
    "## Lesson 1\n",
    "## Output from the computer - print()"
   ]
  },
  {
   "cell_type": "markdown",
   "id": "31f6d3b7",
   "metadata": {},
   "source": [
    "This is a simple Hello World program. It prints out Hello World. Try running it below"
   ]
  },
  {
   "cell_type": "code",
   "execution_count": null,
   "id": "de3d4f71",
   "metadata": {},
   "outputs": [],
   "source": [
    "print(\"Hello World\")"
   ]
  },
  {
   "cell_type": "markdown",
   "id": "760a2351",
   "metadata": {},
   "source": [
    "Lets examine this code.  \n",
    "First, we have the **function** we are calling: `print()`  \n",
    "This function has an input of one **String**  `\"Hello World\"` is the string"
   ]
  },
  {
   "cell_type": "markdown",
   "id": "21ce4f47",
   "metadata": {},
   "source": [
    "`print(\"Hello World\")` takes \"Hello World\" as input, and calls the `print()` function on it."
   ]
  },
  {
   "cell_type": "markdown",
   "id": "4545e802",
   "metadata": {},
   "source": [
    "### Exercise 1:\n",
    "Try printing a string below"
   ]
  },
  {
   "cell_type": "code",
   "execution_count": null,
   "id": "ea10063e",
   "metadata": {},
   "outputs": [],
   "source": []
  },
  {
   "cell_type": "markdown",
   "id": "befb57a0",
   "metadata": {},
   "source": [
    "Now we are going to print multiple Strings. "
   ]
  },
  {
   "cell_type": "code",
   "execution_count": 4,
   "id": "a2e5cc04",
   "metadata": {},
   "outputs": [
    {
     "name": "stdout",
     "output_type": "stream",
     "text": [
      "Hello World from Vikram\n",
      "Hello World from Vikram again!\n"
     ]
    }
   ],
   "source": [
    "print (\"Hello World\", \"from Vikram\")\n",
    "print (\"Hello World \"+\"from Vikram again!\")"
   ]
  },
  {
   "cell_type": "markdown",
   "id": "0a06eef4",
   "metadata": {},
   "source": [
    "Notice that in the above line of code the strings were separated by a **comma** or **space and +**. These are the two ways to print multiple items one after the other. "
   ]
  },
  {
   "cell_type": "markdown",
   "id": "bbb09efb",
   "metadata": {},
   "source": [
    "### Exercise 2: \n",
    "Try printing 3 strings together. Make sure that there are space separations where needed."
   ]
  },
  {
   "cell_type": "code",
   "execution_count": null,
   "id": "df7a6be6",
   "metadata": {},
   "outputs": [],
   "source": []
  },
  {
   "cell_type": "markdown",
   "id": "8b13a953",
   "metadata": {},
   "source": [
    "### NOTE: \n",
    "When dealing with the **print** function there are multiple types of input(Strings, and numbers) that it can take we will revist this after we learn more about the different data types. "
   ]
  }
 ],
 "metadata": {
  "kernelspec": {
   "display_name": "Python 3",
   "language": "python",
   "name": "python3"
  },
  "language_info": {
   "codemirror_mode": {
    "name": "ipython",
    "version": 3
   },
   "file_extension": ".py",
   "mimetype": "text/x-python",
   "name": "python",
   "nbconvert_exporter": "python",
   "pygments_lexer": "ipython3",
   "version": "3.8.8"
  }
 },
 "nbformat": 4,
 "nbformat_minor": 5
}
