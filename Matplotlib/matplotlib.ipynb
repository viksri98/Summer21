{
 "cells": [
  {
   "cell_type": "markdown",
   "metadata": {},
   "source": [
    "# Lesson 9\n",
    "# Matplotlib - Graphing"
   ]
  },
  {
   "cell_type": "markdown",
   "metadata": {},
   "source": [
    "The `matplotlib` **module** is the most common way to create graphs in Python.  \n",
    "Most of the functions used for this are in the `pyplot` **submodule**"
   ]
  },
  {
   "cell_type": "markdown",
   "metadata": {},
   "source": [
    "## Import pyplot from Matplotlib"
   ]
  },
  {
   "cell_type": "code",
   "execution_count": null,
   "metadata": {},
   "outputs": [],
   "source": [
    "from matplotlib import pyplot as plt"
   ]
  },
  {
   "cell_type": "markdown",
   "metadata": {},
   "source": [
    "as always lets import numpy"
   ]
  },
  {
   "cell_type": "code",
   "execution_count": null,
   "metadata": {},
   "outputs": [],
   "source": [
    "import numpy as np"
   ]
  },
  {
   "cell_type": "markdown",
   "metadata": {},
   "source": [
    "## Simple Line Plots"
   ]
  },
  {
   "cell_type": "markdown",
   "metadata": {},
   "source": [
    "The simplest way to make a plot using pyplot is the `plot` function"
   ]
  },
  {
   "cell_type": "code",
   "execution_count": null,
   "metadata": {},
   "outputs": [],
   "source": [
    "x_values = np.linspace(0, 10, 100) #100 evenly spaced values from 0 to 10\n",
    "y1 = 2 * x_values\n",
    "y2 = 4 * x_values\n",
    "plt.plot(x_values, y1)\n",
    "plt.plot(x_values, y2)\n",
    "plt.show()"
   ]
  },
  {
   "cell_type": "markdown",
   "metadata": {},
   "source": [
    "Whats wrong with this plot?  <br>\n",
    "What are all the parts of a plot?<br>\n",
    " \n",
    "1. Axes Labels  \n",
    "2. Line Labels\n",
    "3. Title\n",
    "4. Grid\n",
    "5. Legend\n",
    "6. Color\n",
    "7. Major and minor ticks and so much more. <br>\n",
    "![title](https://matplotlib.org/stable/_images/anatomy.png)<br>\n"
   ]
  },
  {
   "cell_type": "markdown",
   "metadata": {},
   "source": [
    "## Title and Axis Labels"
   ]
  },
  {
   "cell_type": "code",
   "execution_count": null,
   "metadata": {
    "scrolled": true
   },
   "outputs": [],
   "source": [
    "x_values = np.linspace(0, 10, 100) #100 evenly spaced values from 0 to 10\n",
    "y1 = 2 * x_values\n",
    "y2 = 4 * x_values\n",
    "plt.plot(x_values, y1)\n",
    "plt.plot(x_values, y2)\n",
    "plt.xlabel('Years after 2021 Incident') #Adds an x axis label, including units where necessary\n",
    "plt.title(\"Cockroach Population and Radiation\")           #Adds a title to the plot\n",
    "plt.show()"
   ]
  },
  {
   "cell_type": "code",
   "execution_count": null,
   "metadata": {
    "scrolled": true
   },
   "outputs": [],
   "source": [
    "x_values = np.linspace(0, 10, 100) #100 evenly spaced values from 0 to 10\n",
    "y1 = 2 * x_values\n",
    "y2 = 4 * x_values\n",
    "plt.plot(x_values, y1, label='non-irradiated areas')      #Added in legend\n",
    "plt.plot(x_values, y2, label='irradiated areas')          #Added in legend\n",
    "plt.xlabel('Years after 2021 Incident')                   # Adds an x axis label\n",
    "plt.ylabel('Increase in Cockroach Population (millions)') # Adds a y axis label\n",
    "plt.legend()                                              #shows the legend\n",
    "plt.title(\"Cockroach Population and Radiation\")           #Adds a title to the plot\n",
    "plt.show()"
   ]
  },
  {
   "cell_type": "markdown",
   "metadata": {},
   "source": [
    "This is pretty good for this scenario, but there are more options that are worth learning.  \n",
    "`grid` will enable a grid on the graph"
   ]
  },
  {
   "cell_type": "code",
   "execution_count": null,
   "metadata": {},
   "outputs": [],
   "source": [
    "x_values = np.linspace(0, 10, 100) #100 evenly spaced values from 0 to 10\n",
    "y1 = 2 * x_values\n",
    "y2 = 4 * x_values\n",
    "plt.plot(x_values, y1, label='non-irradiated areas')      #Added in legend\n",
    "plt.plot(x_values, y2, label='irradiated areas')          #Added in legend\n",
    "plt.xlabel('Years after 2021 Incident')                   # Adds an x axis label\n",
    "plt.ylabel('Increase in Cockroach Population (millions)') # Adds a y axis label\n",
    "plt.legend()                                              #shows the legend\n",
    "plt.grid()                                                #shows the grid lines on the major ticks\n",
    "plt.title(\"Cockroach Population and Radiation\")           #Adds a title to the plot\n",
    "plt.show()"
   ]
  },
  {
   "cell_type": "markdown",
   "metadata": {},
   "source": [
    "We can use the `color` flag to change the color of the lines  \n",
    "There is also the `linestyle` flag for changing the style of the line"
   ]
  },
  {
   "cell_type": "code",
   "execution_count": null,
   "metadata": {},
   "outputs": [],
   "source": [
    "x_values = np.linspace(0, 10, 100) #100 evenly spaced values from 0 to 10\n",
    "y1 = 2 * x_values\n",
    "y2 = 4 * x_values\n",
    "plt.plot(x_values, y1, label='non-irradiated areas', color='green')                         #Change the plot color\n",
    "plt.plot(x_values, y2, label='irradiated areas', color='black', linestyle='--')             #Change the line style\n",
    "plt.xlabel('Years after 2021 Incident')\n",
    "plt.ylabel('Increase in Cockroach Population (millions)')\n",
    "plt.legend() #shows the legend\n",
    "plt.title(\"Cockroach Population and Radiation\")           #Adds a title to the plot\n",
    "plt.grid()\n",
    "plt.show()"
   ]
  },
  {
   "cell_type": "markdown",
   "metadata": {},
   "source": [
    "### Exercise 1  Function Families\n",
    "Make a plot that shows:  \n",
    " Label: Function\n",
    "1. Linear: $y = x$ \n",
    "2. Quadratic: $y = x^2$<br>              **HINT:** `x**2`\n",
    "3. Cubic: $y = x^3$\n",
    "4. Radical: $y = \\frac{1}{x}$  \n",
    "5. Absolute Value: $y = |x|$   <br>          **HINT:** use the `np.absolute(x_values)` method. It will return an array for the y values.\n",
    "6. Exponential: $y = 2^x$\n",
    "<br>\n",
    "<br>\n",
    "1. Range of x values should be x=-20 to x=20  <br>\n",
    "2. Label the axes `x` and `y`<br>\n",
    "3. Title is `Function family`<br>\n",
    "4. Choose different colors for each of the 6 lines. You can control colors by using the following colors. If you do not do this matplot will automatically assign different colors to the different plots.\n",
    "#blue - 'b', <br>\n",
    "#green - 'g',<br>\n",
    "#red - 'r',<br>\n",
    "#cyan - 'c',<br>\n",
    "#magenta - 'm',<br>\n",
    "#yellow - 'y',<br>\n",
    "#black - 'k',<br>\n",
    "#white - w'<br>\n",
    "<br>\n",
    "5. Include a legend with the name of the function <br>"
   ]
  },
  {
   "cell_type": "code",
   "execution_count": null,
   "metadata": {},
   "outputs": [],
   "source": []
  },
  {
   "cell_type": "markdown",
   "metadata": {},
   "source": [
    "## Bar Plots  \n",
    "It makes sense to use line plots when we have continuous data. It does not make sense when our domain is categorical"
   ]
  },
  {
   "cell_type": "code",
   "execution_count": null,
   "metadata": {},
   "outputs": [],
   "source": [
    "names = ['apple','orange','dragon fruit','pear'] #This is a list\n",
    "number = np.array([1,5,3,7]) #converted a list of fruit counts into a numpy array. Actually not needed. \n",
    "plt.bar(names,number) #make a bar graph with default settings\n",
    "plt.title('How much fruit is there in the house?') #give it a title\n",
    "plt.show()\n",
    "plt.plot(names,number) #make a line graph. This is the start of a new plot\n",
    "plt.title('How much fruit is there in the house?') \n",
    "plt.show()"
   ]
  },
  {
   "cell_type": "markdown",
   "metadata": {},
   "source": [
    "Clearly, the bar graph is superior for this data. Drawing a continuous line between categories doesn't make sense.  \n",
    "  \n",
    "Lets improve the bar plot more"
   ]
  },
  {
   "cell_type": "code",
   "execution_count": null,
   "metadata": {},
   "outputs": [],
   "source": [
    "names = ['apple','orange','dragon fruit','pear']\n",
    "number = np.array([1,5,3,7])\n",
    "plt.bar(names,number)\n",
    "plt.grid(1,axis = 'y') # I want a grid only for the y axis.  \n",
    "plt.ylabel('Number of Pieces')\n",
    "plt.xlabel('Fruit Type')\n",
    "plt.title('How much fruit is there in the house?')\n",
    "plt.show()"
   ]
  },
  {
   "cell_type": "markdown",
   "metadata": {},
   "source": [
    "### Exercise 2  \n",
    "Count some fruits in your house and make a bar graph of them. Do not worry about finding every fruit."
   ]
  },
  {
   "cell_type": "code",
   "execution_count": null,
   "metadata": {},
   "outputs": [],
   "source": []
  },
  {
   "cell_type": "markdown",
   "metadata": {},
   "source": [
    "## Subplot  \n",
    "Sometimes we want to put more than one graph in a figure. We can divide the figure into multiple plots.  \n",
    "  \n",
    "`subplot(121)` Tells python we want a subplot with 1 row and 2 columns, and we will fill the first entry with the upcoming plot"
   ]
  },
  {
   "cell_type": "code",
   "execution_count": null,
   "metadata": {
    "scrolled": true
   },
   "outputs": [],
   "source": [
    "fruitnames = ['apple','orange','kiwi','pear']\n",
    "fruitnumber = np.array([1,5,3,7])\n",
    "vegetablenames = ['potato','tomato','onion','broccoli']\n",
    "vegetablenumber = np.array([6,7,3,1])\n",
    "plt.subplot(121)  # This makes one subplot\n",
    "plt.bar(fruitnames,fruitnumber,color = 'red')\n",
    "plt.grid(True,axis = 'y')\n",
    "plt.ylabel('Number of Pieces')\n",
    "plt.xlabel('Fruit Type')\n",
    "plt.title('How many fruits?')\n",
    "plt.subplot(122) #This makes the other subplot \n",
    "plt.bar(vegetablenames,vegetablenumber,color = 'green')\n",
    "plt.grid(True,axis = 'y')\n",
    "plt.ylabel('Number of Pieces')\n",
    "plt.xlabel('Vegetable Type')\n",
    "plt.title('How many vegetables?')\n",
    "plt.suptitle('Do I need to go to the store?')  #An overall title to the figure. \n",
    "plt.show()"
   ]
  }
 ],
 "metadata": {
  "kernelspec": {
   "display_name": "Python 3",
   "language": "python",
   "name": "python3"
  },
  "language_info": {
   "codemirror_mode": {
    "name": "ipython",
    "version": 3
   },
   "file_extension": ".py",
   "mimetype": "text/x-python",
   "name": "python",
   "nbconvert_exporter": "python",
   "pygments_lexer": "ipython3",
   "version": "3.8.8"
  }
 },
 "nbformat": 4,
 "nbformat_minor": 2
}
