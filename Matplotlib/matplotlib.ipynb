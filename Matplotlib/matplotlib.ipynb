{
 "metadata": {
  "language_info": {
   "codemirror_mode": {
    "name": "ipython",
    "version": 3
   },
   "file_extension": ".py",
   "mimetype": "text/x-python",
   "name": "python",
   "nbconvert_exporter": "python",
   "pygments_lexer": "ipython3",
   "version": "3.8.8-final"
  },
  "orig_nbformat": 2,
  "kernelspec": {
   "name": "python38864bitclass21condac630186d82cf42c294623460888b15e5",
   "display_name": "Python 3.8.8 64-bit ('class21': conda)"
  }
 },
 "nbformat": 4,
 "nbformat_minor": 2,
 "cells": [
  {
   "source": [
    "# Matplotlib - Graphing"
   ],
   "cell_type": "markdown",
   "metadata": {}
  },
  {
   "source": [
    "The `matplotlib` **module** is the most common way to create graphs in Python.  \n",
    "Most of the functions used for this are in the `pyplot` **submodule**"
   ],
   "cell_type": "markdown",
   "metadata": {}
  },
  {
   "source": [
    "## Import pyplot from Matplotlib"
   ],
   "cell_type": "markdown",
   "metadata": {}
  },
  {
   "cell_type": "code",
   "execution_count": null,
   "metadata": {},
   "outputs": [],
   "source": [
    "from matplotlib import pyplot as plt"
   ]
  },
  {
   "source": [
    "as always lets import numpy"
   ],
   "cell_type": "markdown",
   "metadata": {}
  },
  {
   "cell_type": "code",
   "execution_count": null,
   "metadata": {},
   "outputs": [],
   "source": [
    "import numpy as np"
   ]
  },
  {
   "source": [
    "## Simple Line Plots"
   ],
   "cell_type": "markdown",
   "metadata": {}
  },
  {
   "source": [
    "The simplest way to make a plot using pyplot is the `plot` function"
   ],
   "cell_type": "markdown",
   "metadata": {}
  },
  {
   "cell_type": "code",
   "execution_count": null,
   "metadata": {},
   "outputs": [],
   "source": [
    "x1 = np.linspace(0, 10, 100) #100 evenly spaced values from 0 to 10\n",
    "x2 = 2 * x1\n",
    "x3 = 4 * x1\n",
    "plt.plot(x1, x2)\n",
    "plt.plot(x1, x3)\n",
    "plt.show()"
   ]
  },
  {
   "source": [
    "Whats wrong with this plot?  \n",
    "  \n",
    "1. Axes Labels  \n",
    "2. Line Labels"
   ],
   "cell_type": "markdown",
   "metadata": {}
  },
  {
   "cell_type": "code",
   "execution_count": null,
   "metadata": {},
   "outputs": [],
   "source": [
    "x1 = np.linspace(0, 10, 100) #100 evenly spaced values from 0 to 10\n",
    "x2 = 2 * x1\n",
    "x3 = 4 * x1\n",
    "plt.plot(x1, x2)\n",
    "plt.plot(x1, x3)\n",
    "plt.xlabel('Years after 2021 Incident') #Adds an x axis label, including units where necessary\n",
    "plt.show()"
   ]
  },
  {
   "cell_type": "code",
   "execution_count": null,
   "metadata": {},
   "outputs": [],
   "source": [
    "x1 = np.linspace(0, 10, 100) #100 evenly spaced values from 0 to 10\n",
    "x2 = 2 * x1\n",
    "x3 = 4 * x1\n",
    "plt.plot(x1, x2, label='non-irradiated areas')\n",
    "plt.plot(x1, x3, label='irradiated areas')\n",
    "plt.xlabel('Years after 2021 Incident')\n",
    "plt.ylabel('Increase in Cockroach Population (millions)')\n",
    "plt.legend() #shows the legend\n",
    "plt.show()"
   ]
  },
  {
   "source": [
    "This is pretty good for this scenario, but there are more options that are worth learning.  \n",
    "`grid` will enable a grid on the graph"
   ],
   "cell_type": "markdown",
   "metadata": {}
  },
  {
   "source": [
    "x1 = np.linspace(0, 10, 100) #100 evenly spaced values from 0 to 10\n",
    "x2 = 2 * x1\n",
    "x3 = 4 * x1\n",
    "plt.plot(x1, x2, label='non-irradiated areas')\n",
    "plt.plot(x1, x3, label='irradiated areas')\n",
    "plt.xlabel('Years after 2021 Incident')\n",
    "plt.ylabel('Increase in Cockroach Population (millions)')\n",
    "plt.legend() #shows the legend\n",
    "plt.grid()\n",
    "plt.show()"
   ],
   "cell_type": "code",
   "metadata": {},
   "execution_count": null,
   "outputs": []
  },
  {
   "source": [
    "We can use the `color` flag to change the color of the lines  \n",
    "There is also the `linestyle` flag for changing the style of the line"
   ],
   "cell_type": "markdown",
   "metadata": {}
  },
  {
   "cell_type": "code",
   "execution_count": null,
   "metadata": {},
   "outputs": [],
   "source": [
    "x1 = np.linspace(0, 10, 100) #100 evenly spaced values from 0 to 10\n",
    "x2 = 2 * x1\n",
    "x3 = 4 * x1\n",
    "plt.plot(x1, x2, label='non-irradiated areas', color='green')\n",
    "plt.plot(x1, x3, label='irradiated areas', color='black', linestyle='--')\n",
    "plt.xlabel('Years after 2021 Incident')\n",
    "plt.ylabel('Increase in Cockroach Population (millions)')\n",
    "plt.legend() #shows the legend\n",
    "plt.grid()\n",
    "plt.show()"
   ]
  },
  {
   "source": [
    "### Exercise 1  \n",
    "Make a plot that shows:  \n",
    "1. $y = x$  \n",
    "2. $y = x^2$  \n",
    "3. $y = \\frac{1}{x}$  \n",
    "from x=0 to x=20  \n",
    "label the axes `x` and `y`"
   ],
   "cell_type": "markdown",
   "metadata": {}
  },
  {
   "cell_type": "code",
   "execution_count": null,
   "metadata": {},
   "outputs": [],
   "source": []
  },
  {
   "source": [
    "## Bar Plots  \n",
    "It makes sense to use line plots when we have continuous data. It does not make sense when our domain is categorical"
   ],
   "cell_type": "markdown",
   "metadata": {}
  },
  {
   "cell_type": "code",
   "execution_count": null,
   "metadata": {},
   "outputs": [],
   "source": [
    "names = ['apple','orange','dragon fruit','pear'] #This is a list\n",
    "number = np.array([1,5,3,7]) #converted a list of fruit counts into a numpy array. Actually not needed. \n",
    "plt.bar(names,number) #make a bar graph with default settings\n",
    "plt.title('How much fruit is there in the house?') #give it a title\n",
    "plt.show()\n",
    "plt.plot(names,number) #make a line graph\n",
    "plt.title('How much fruit is there in the house?') \n",
    "plt.show()"
   ]
  },
  {
   "source": [
    "Clearly, the bar graph is superior for this data. Drawing a continuous line between categories doesn't make sense.  \n",
    "  \n",
    "Lets improve the bar plot more"
   ],
   "cell_type": "markdown",
   "metadata": {}
  },
  {
   "cell_type": "code",
   "execution_count": null,
   "metadata": {},
   "outputs": [],
   "source": [
    "names = ['apple','orange','dragon fruit','pear']\n",
    "number = np.array([1,5,3,7])\n",
    "plt.bar(names,number)\n",
    "plt.grid(1,axis = 'y') # I want a grid only for the y axis.  \n",
    "plt.ylabel('Number of Pieces')\n",
    "plt.xlabel('Fruit Type')\n",
    "plt.title('How much fruit is there in the house?')\n",
    "plt.show()"
   ]
  },
  {
   "source": [
    "### Exercise 2  \n",
    "Count some fruits in your house and make a bar graph of them. Do not worry about finding every fruit."
   ],
   "cell_type": "markdown",
   "metadata": {}
  },
  {
   "cell_type": "code",
   "execution_count": null,
   "metadata": {},
   "outputs": [],
   "source": []
  },
  {
   "source": [
    "## Subplot  \n",
    "Sometimes we want to put more than one graph in a figure. We can divide the figure into multiple plots.  \n",
    "  \n",
    "`subplot(121)` Tells python we want a subplot with 1 row and 2 columns, and we will fill the first entry with the upcoming plot"
   ],
   "cell_type": "markdown",
   "metadata": {}
  },
  {
   "cell_type": "code",
   "execution_count": null,
   "metadata": {},
   "outputs": [],
   "source": [
    "fruitnames = ['apple','orange','kiwi','pear']\n",
    "fruitnumber = np.array([1,5,3,7])\n",
    "vegetablenames = ['potato','tomato','onion','broccoli']\n",
    "vegetablenumber = np.array([6,7,3,1])\n",
    "plt.subplot(121)  # This makes one subplot\n",
    "plt.bar(fruitnames,fruitnumber,color = 'red')\n",
    "plt.grid(True,axis = 'y')\n",
    "plt.ylabel('Number of Pieces')\n",
    "plt.xlabel('Fruit Type')\n",
    "plt.title('How many fruits?')\n",
    "plt.subplot(122) #This makes the other subplot \n",
    "plt.bar(vegetablenames,vegetablenumber,color = 'green')\n",
    "plt.grid(True,axis = 'y')\n",
    "plt.ylabel('Number of Pieces')\n",
    "plt.xlabel('Vegetable Type')\n",
    "plt.title('How many vegetables?')\n",
    "plt.suptitle('Do I need to go to the store?')  #An overall title to the figure. \n",
    "plt.show()"
   ]
  },
  {
   "cell_type": "code",
   "execution_count": null,
   "metadata": {},
   "outputs": [],
   "source": []
  }
 ]
}