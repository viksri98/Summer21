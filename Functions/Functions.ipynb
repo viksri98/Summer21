{
 "cells": [
  {
   "cell_type": "markdown",
   "metadata": {},
   "source": [
    "# Lesson 13\n",
    "# Functions \n",
    "\n",
    "A **function** is a re-usable piece of code that performs operations on a specified set of variables, and returns the result. \n",
    "\n",
    "**Why do I need this?** \n",
    "* Some pieces of code perform a particular operation which you plan to use many times. Rather than copying the code you can use the function. \n",
    "* If we define a function it becomes easy to use the same code in many programs. \n",
    "* It improves testing, readability, and reliability by breaking up the program into smaller units. \n",
    "\n",
    "These are the essential pieces to a function: \n",
    "* `def` statement naming the function and how to call it. The def statement should end with a colon :\n",
    "*  The function has a name.  This name will be used to call the function. \n",
    "*  The function may have **arguments**.  Arguments are variables passed into the function. \n",
    "* `return` statement indicating what variables are returned.\n",
    "\n",
    "\n",
    "So, the most basic structure of a function is \n",
    "\n",
    "    def function_name(arg):\n",
    "        some code that works on arg and creates output_variable\n",
    "        return output_variable"
   ]
  },
  {
   "cell_type": "markdown",
   "metadata": {},
   "source": [
    "### Example 1 Square a number"
   ]
  },
  {
   "cell_type": "code",
   "execution_count": 1,
   "metadata": {},
   "outputs": [],
   "source": [
    "def square(x):  #Here, x is called the argument. \n",
    "    y = x**2\n",
    "    return y "
   ]
  },
  {
   "cell_type": "code",
   "execution_count": 2,
   "metadata": {},
   "outputs": [
    {
     "name": "stdout",
     "output_type": "stream",
     "text": [
      "25\n"
     ]
    }
   ],
   "source": [
    "x = 5\n",
    "y = square(x)\n",
    "print(y)"
   ]
  },
  {
   "cell_type": "markdown",
   "metadata": {},
   "source": [
    "I dont really need to define x, I could just pass the number in "
   ]
  },
  {
   "cell_type": "code",
   "execution_count": 3,
   "metadata": {},
   "outputs": [
    {
     "name": "stdout",
     "output_type": "stream",
     "text": [
      "4\n"
     ]
    }
   ],
   "source": [
    "y = square(2)\n",
    "print(y)"
   ]
  },
  {
   "cell_type": "markdown",
   "metadata": {},
   "source": [
    "There is nothing special about x and y, I could use any variable names. \n",
    "The only name that is important is the **function** name, which is `square`\n",
    "The function name is defined in the `def` statement\n"
   ]
  },
  {
   "cell_type": "code",
   "execution_count": 4,
   "metadata": {},
   "outputs": [
    {
     "name": "stdout",
     "output_type": "stream",
     "text": [
      "9\n"
     ]
    }
   ],
   "source": [
    "my_var = 3\n",
    "my_var_sq = square(my_var)\n",
    "print(my_var_sq)"
   ]
  },
  {
   "cell_type": "markdown",
   "metadata": {},
   "source": [
    "## Functions Have Independent Name Spaces \n",
    "\n",
    "The variables inside a function are not visible to you, unless you explicitly return them.  \n",
    "\n",
    "### Example 2 Name Spaces"
   ]
  },
  {
   "cell_type": "code",
   "execution_count": 5,
   "metadata": {},
   "outputs": [
    {
     "name": "stdout",
     "output_type": "stream",
     "text": [
      "64\n"
     ]
    },
    {
     "ename": "NameError",
     "evalue": "name 'z_cube' is not defined",
     "output_type": "error",
     "traceback": [
      "\u001b[1;31m---------------------------------------------------------------------------\u001b[0m",
      "\u001b[1;31mNameError\u001b[0m                                 Traceback (most recent call last)",
      "\u001b[1;32m<ipython-input-5-d5bb62c31041>\u001b[0m in \u001b[0;36m<module>\u001b[1;34m\u001b[0m\n\u001b[0;32m      6\u001b[0m \u001b[0mmy_cube\u001b[0m \u001b[1;33m=\u001b[0m \u001b[0mcube\u001b[0m\u001b[1;33m(\u001b[0m\u001b[0mmy_number\u001b[0m\u001b[1;33m)\u001b[0m\u001b[1;33m\u001b[0m\u001b[1;33m\u001b[0m\u001b[0m\n\u001b[0;32m      7\u001b[0m \u001b[0mprint\u001b[0m\u001b[1;33m(\u001b[0m\u001b[0mmy_cube\u001b[0m\u001b[1;33m)\u001b[0m\u001b[1;33m\u001b[0m\u001b[1;33m\u001b[0m\u001b[0m\n\u001b[1;32m----> 8\u001b[1;33m \u001b[0mprint\u001b[0m\u001b[1;33m(\u001b[0m\u001b[0mz_cube\u001b[0m\u001b[1;33m)\u001b[0m\u001b[1;33m\u001b[0m\u001b[1;33m\u001b[0m\u001b[0m\n\u001b[0m",
      "\u001b[1;31mNameError\u001b[0m: name 'z_cube' is not defined"
     ]
    }
   ],
   "source": [
    "def cube(z):\n",
    "    z_cube = z**3\n",
    "    return z_cube \n",
    "\n",
    "my_number = 4\n",
    "my_cube = cube(my_number)\n",
    "print(my_cube)\n",
    "print(z_cube)"
   ]
  },
  {
   "cell_type": "markdown",
   "metadata": {},
   "source": [
    "z and z_cube only exist inside the function.  \n",
    "\n",
    "### Example 3 Vegas Rule"
   ]
  },
  {
   "cell_type": "code",
   "execution_count": null,
   "metadata": {},
   "outputs": [],
   "source": [
    "def cubeplusone(z):\n",
    "    z = z+1  #notice here the value of z is being updated by adding 1.  \n",
    "    z_cube = z**3\n",
    "    return z_cube \n",
    "\n",
    "x = 2\n",
    "y = cubeplusone(x)\n",
    "print(x)  # even though x was put in the position of z nothing happens to x\n",
    "print(y)  "
   ]
  },
  {
   "cell_type": "code",
   "execution_count": null,
   "metadata": {},
   "outputs": [],
   "source": [
    "z = 1 \n",
    "z_cube = cubeplusone(z)\n",
    "print(z)  #even if the variable name is the same inside and outside the function\n",
    "print(z_cube) "
   ]
  },
  {
   "cell_type": "markdown",
   "metadata": {},
   "source": [
    "### Vegas Rule\n",
    "What happens in the function, stays in the function. \n",
    "The only thing you know about is what comes back. "
   ]
  },
  {
   "cell_type": "markdown",
   "metadata": {},
   "source": [
    "## Multiple Inputs and Outputs To A Function \n",
    "\n",
    "A function can take multiple input and return multiple outputs. \n",
    "\n",
    "### Example 4 Two Inputs and Two Outputs"
   ]
  },
  {
   "cell_type": "code",
   "execution_count": null,
   "metadata": {},
   "outputs": [],
   "source": [
    "def npower(x,n):\n",
    "    y = x**n\n",
    "    return y\n",
    "\n",
    "z = 3\n",
    "m = 4\n",
    "y = npower(z,m)  # this computes z**m.\n",
    "print(y)"
   ]
  },
  {
   "cell_type": "code",
   "execution_count": null,
   "metadata": {},
   "outputs": [],
   "source": [
    "def power_and_root(x,n):\n",
    "    y = x**n\n",
    "    z = x**(1/n)\n",
    "    return y,z \n",
    "\n",
    "z = 4\n",
    "m = 2\n",
    "y1,y2 = power_and_root(z,m)  # this computes z**m and z**(1/m) which is the mth root of z.\n",
    "print(y1)\n",
    "print(y2)"
   ]
  },
  {
   "cell_type": "markdown",
   "metadata": {},
   "source": [
    "What if you forget that there are 2 outputs? "
   ]
  },
  {
   "cell_type": "code",
   "execution_count": null,
   "metadata": {},
   "outputs": [],
   "source": [
    "y = power_and_root(z,m)\n",
    "print(y)"
   ]
  },
  {
   "cell_type": "code",
   "execution_count": null,
   "metadata": {},
   "outputs": [],
   "source": [
    "print(y[0])\n",
    "print(y[1])"
   ]
  },
  {
   "cell_type": "markdown",
   "metadata": {},
   "source": [
    "When a function has multiple outputs, if a single variable is given as the outputs, all of the outputs are returned in a tuple. "
   ]
  },
  {
   "cell_type": "markdown",
   "metadata": {},
   "source": [
    "## Keyword Arguments \n",
    "\n",
    "There are two types of inputs to a function:\n",
    "* postional arguments - the variable corresponding to the argument is based on its position in the argument list. \n",
    "* keyword arguments - the variable corresponding to the argument is made explicit with an equality sign. \n",
    "\n",
    "### Example 5 Positional argument vs Keyword argument"
   ]
  },
  {
   "cell_type": "code",
   "execution_count": null,
   "metadata": {
    "scrolled": false
   },
   "outputs": [],
   "source": [
    "def power_and_root(x,n):\n",
    "    y = x**n\n",
    "    z = x**(1/n)\n",
    "    return y,z \n",
    "\n",
    "y,z = power_and_root(x=9,n=2)\n",
    "print(y)\n",
    "print(z)\n",
    "y,z = power_and_root(n=2,x=9)  #now the order DOES NOT MATTER because I am making the variables explicit.  \n",
    "print(y)\n",
    "print(z)"
   ]
  },
  {
   "cell_type": "code",
   "execution_count": null,
   "metadata": {},
   "outputs": [],
   "source": [
    "y,z = power_and_root(9,n=2)\n",
    "print(y)\n",
    "print(z)"
   ]
  },
  {
   "cell_type": "code",
   "execution_count": null,
   "metadata": {
    "scrolled": true
   },
   "outputs": [],
   "source": [
    "y,z = power_and_root(x=9,2)\n",
    "print(y)\n",
    "print(z)"
   ]
  },
  {
   "cell_type": "markdown",
   "metadata": {},
   "source": [
    "Functions can be used with \n",
    "* positional arguments alone.  In this case, you need to know the correct order. \n",
    "* keyword arguments alone.  In this case you can provide them in any order. \n",
    "* positional and keyword arguments.  In this case, positional arguments must come first then keyword arguments.  "
   ]
  },
  {
   "cell_type": "markdown",
   "metadata": {},
   "source": [
    "Of course, positional arguments cannot follow keyword arguments.  Both in the use and the definition of a function. "
   ]
  },
  {
   "cell_type": "code",
   "execution_count": null,
   "metadata": {},
   "outputs": [],
   "source": []
  }
 ],
 "metadata": {
  "kernelspec": {
   "display_name": "Python 3",
   "language": "python",
   "name": "python3"
  },
  "language_info": {
   "codemirror_mode": {
    "name": "ipython",
    "version": 3
   },
   "file_extension": ".py",
   "mimetype": "text/x-python",
   "name": "python",
   "nbconvert_exporter": "python",
   "pygments_lexer": "ipython3",
   "version": "3.8.8"
  }
 },
 "nbformat": 4,
 "nbformat_minor": 4
}
