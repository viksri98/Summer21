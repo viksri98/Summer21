{
 "cells": [
  {
   "cell_type": "markdown",
   "id": "dc3db619",
   "metadata": {},
   "source": [
    "# Lesson 16\n",
    "\n",
    "# Trendlines and Manual Regression\n",
    "\n",
    "You have looked at scatter plots of data in the past (Pandas_Candy_Data_1.py)  \n",
    "We said that we could use the plots to predict future values. Here we are going to learn how. In middle school you would hear this data fitting technique referred to as \"trendlines\" in more advanced courses this is generally referred to as \"Regression models\".  \n",
    "\n",
    "You will use your understanding of functions such as Linear, Quadratic, Cubic, Exponential, and others to guess what your data (in the scatter plot) looks like.  \n",
    "\n",
    "**Trendlines** : A trend line, often referred to as a **line of best fit**, is a line that is used to represent the behavior of a set of data to determine if there is a certain pattern. A trend line is an analytical tool used most often in conjunction with a scatter plot (a two-dimensional graph of ordered pairs) to see if there is a relationship between two variables.  \n",
    "\n",
    "![title](https://study.com/cimages/multimages/16/drawing_68.png)![title](https://study.com/cimages/multimages/16/drawing_69.png) ![title](https://study.com/cimages/multimages/16/drawing_80.png)\n",
    "\n",
    "We will start with a simple data set.  \n",
    "\n",
    "Latitudes and the temperatures at different locations. \n"
   ]
  },
  {
   "cell_type": "markdown",
   "id": "d0be9411",
   "metadata": {},
   "source": [
    "### Exercise 1 : Load the data into a numpy array\n",
    "\n",
    "Use `pandas` to load the file `CityTempLatLong.csv`  \n",
    "Using matplotlib to plot a scatter plot for the latitude vs temperature  \n",
    "Do not forget to label the axis  \n",
    "Do not forget to label the Plot  "
   ]
  },
  {
   "cell_type": "code",
   "execution_count": 1,
   "id": "28582de5",
   "metadata": {},
   "outputs": [],
   "source": [
    "import numpy as np\n",
    "import pandas as pd\n",
    "from matplotlib import pyplot as plt\n",
    "\n"
   ]
  },
  {
   "cell_type": "markdown",
   "id": "f8f8f21e",
   "metadata": {},
   "source": [
    "### Exercise 2 : Plot a Linear function that might fit the \n",
    "\n",
    "Re-plot the scatter plot with the Latitude vs Temperature  \n",
    "In addition plot the function: y = -2x + 1  where x is all the temperatures that were used in the scatter plot.\n",
    "How well does this line fit the data?"
   ]
  },
  {
   "cell_type": "code",
   "execution_count": null,
   "id": "9ba4a289",
   "metadata": {},
   "outputs": [],
   "source": []
  },
  {
   "cell_type": "markdown",
   "id": "3ddfba3a",
   "metadata": {},
   "source": [
    "### Exercise 3: Try a different line\n",
    "\n",
    "The goal now is to find a line that will work to fit the data better. Use your knowledge of how slopes work to make a better trendline. Plot multiple lines and use a legend to pick a line of best fit. \n"
   ]
  },
  {
   "cell_type": "code",
   "execution_count": null,
   "id": "683ed6ad",
   "metadata": {},
   "outputs": [],
   "source": []
  },
  {
   "cell_type": "markdown",
   "id": "a0916a69",
   "metadata": {},
   "source": [
    "## How to evaluate a \"Good fit\"?\n",
    "\n",
    "This is done by calculating the **standard error** and minimizing this standard error. \n",
    "\n",
    "![title](https://www.mathsisfun.com/data/images/least-squares2.svg)  \n",
    "In this image if we just added the errors you might not get an accurate. \n",
    "\n",
    "Let's look at the image below. \n",
    "![title](https://www.mathsisfun.com/data/images/standard-deviation-why-b.gif)\n",
    "\n",
    "Here we can add all the **deviations** of the data from the **trend line** and find the average of that :\n",
    "\n",
    "$\\frac{7 + 1 + (-6) + (-2)}{4} = 0$\n",
    "\n",
    "But this is obviously completely wrong because there is an error and you can see it. \n",
    "\n",
    "So... We use something called **Standard Error** which is calculated much like distances are calculated using the pythagorean theorem. \n",
    "\n",
    "The **Standard Error** equation is : \n",
    "\n",
    "$se = \\frac{\\sqrt{\\sum{(y - y_p)^2}}}{n}$ \n",
    "\n",
    "This means in our example the the standard error will be :  \n",
    "\n",
    "$se = \\frac{\\sqrt{(7^2 + 1^2 + (-6)^2 +(-2)^2)}}{4} = 2.37$\n"
   ]
  },
  {
   "cell_type": "markdown",
   "id": "826d128e",
   "metadata": {},
   "source": [
    "### Exercise 4: Calculate the Standard error for your prediction\n",
    "\n",
    "For each of the lines that you had plotted, calculated the standard error. "
   ]
  },
  {
   "cell_type": "code",
   "execution_count": 2,
   "id": "53d2e18c",
   "metadata": {},
   "outputs": [],
   "source": [
    "def standard_error(data_y, y)->float:\n",
    "    #Use the distance formula to get the distance from the y-line to the y-data\n",
    "    dist = np.sqrt(np.sum((data_y-y) ** 2))\n",
    "    #Divide by the number of data points\n",
    "    stderr = dist / np.size(data_y)\n",
    "    return stderr\n"
   ]
  }
 ],
 "metadata": {
  "kernelspec": {
   "display_name": "Python 3",
   "language": "python",
   "name": "python3"
  },
  "language_info": {
   "codemirror_mode": {
    "name": "ipython",
    "version": 3
   },
   "file_extension": ".py",
   "mimetype": "text/x-python",
   "name": "python",
   "nbconvert_exporter": "python",
   "pygments_lexer": "ipython3",
   "version": "3.8.8"
  }
 },
 "nbformat": 4,
 "nbformat_minor": 5
}
