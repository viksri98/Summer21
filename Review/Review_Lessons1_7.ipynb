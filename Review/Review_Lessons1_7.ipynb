{
 "cells": [
  {
   "cell_type": "markdown",
   "id": "6f6d6a65",
   "metadata": {},
   "source": [
    "# Review Lessons 1-7\n",
    "\n",
    "## Input and Output Statements \n",
    "### Exercise 1: \n",
    "Ask the user for `Name`, `Age`, `Height`(in feet)<br>\n",
    "Print out an output that looks like this:\n",
    "\n",
    "What is your name? Surekha<br>\n",
    "How old are you? 25<br>\n",
    "How many feet tall are you?5.4<br>\n",
    "Hello Surekha<br>\n",
    "You are 25 years old, and 64.80000000000001  tall.<br>"
   ]
  },
  {
   "cell_type": "code",
   "execution_count": null,
   "id": "3580b8b4",
   "metadata": {},
   "outputs": [],
   "source": []
  },
  {
   "cell_type": "markdown",
   "id": "9d97670c",
   "metadata": {},
   "source": [
    "## Math in Python\n",
    "### Exercise 2:\n",
    "Write code that will calculate a quadratic function: <br>\n",
    "$y = a(x-h)^2 + k$ <br>\n",
    "What is the value of y given an input of a = 1, x = 5, h = 2, and k = 20?\n",
    "\n",
    "Expected output:  \n",
    "What is the value of a?1  \n",
    "What is the value of x?5  \n",
    "What is the value of h?2  \n",
    "What is the value of k?20  \n",
    "y =  29"
   ]
  },
  {
   "cell_type": "code",
   "execution_count": null,
   "id": "4e37524c",
   "metadata": {},
   "outputs": [],
   "source": []
  },
  {
   "cell_type": "markdown",
   "id": "7aae6a1b",
   "metadata": {},
   "source": [
    "## Lists and Strings\n",
    "### Exercise 3: \n",
    "Create a list of the fruits in your house with the number of fruits of each kind that you have. For example `[apple, 2, pear, 5, banana 6]`\n",
    "Print out a statement that tells me how many fruits are in the house and what kinds of fruits. \n",
    "\n",
    "Expected output: \n",
    "I have 13 fruits in the house. I have apple, pear and banana."
   ]
  },
  {
   "cell_type": "code",
   "execution_count": null,
   "id": "488d8dc8",
   "metadata": {},
   "outputs": [],
   "source": []
  },
  {
   "cell_type": "markdown",
   "id": "2cfb8343",
   "metadata": {},
   "source": [
    "## Numpy Creation \n",
    "### Exercise 4:\n",
    "Repeat exercise 2 with x being an array of all x values from -10 to 10 with 20 items in the array. `[-10, -9.5, -9, ....10]`<br>\n",
    "Ask for the input for a, h and k<br>\n",
    "a = 1\n",
    "h = -1\n",
    "k = 1<br>\n",
    "HINT: Use np.linspace to create your x array. \n",
    "\n",
    "Expected output: <br>\n",
    "What is the value of a?1  \n",
    "What is the value of h?-1  \n",
    "What is the value of k?1<br>\n",
    "`x =  [-10.          -8.94736842  -7.89473684  -6.84210526  -5.78947368\n",
    "  -4.73684211  -3.68421053  -2.63157895  -1.57894737  -0.52631579\n",
    "   0.52631579   1.57894737   2.63157895   3.68421053   4.73684211\n",
    "   5.78947368   6.84210526   7.89473684   8.94736842  10.        ]\n",
    "y =  [ 82.          64.16066482  48.53739612  35.13019391  23.93905817\n",
    "  14.96398892   8.20498615   3.66204986   1.33518006   1.22437673\n",
    "   3.32963989   7.65096953  14.18836565  22.94182825  33.91135734\n",
    "  47.09695291  62.49861496  80.11634349  99.9501385  122.        ]`"
   ]
  },
  {
   "cell_type": "code",
   "execution_count": null,
   "id": "70face36",
   "metadata": {},
   "outputs": [],
   "source": []
  }
 ],
 "metadata": {
  "kernelspec": {
   "display_name": "Python 3",
   "language": "python",
   "name": "python3"
  },
  "language_info": {
   "codemirror_mode": {
    "name": "ipython",
    "version": 3
   },
   "file_extension": ".py",
   "mimetype": "text/x-python",
   "name": "python",
   "nbconvert_exporter": "python",
   "pygments_lexer": "ipython3",
   "version": "3.8.8"
  }
 },
 "nbformat": 4,
 "nbformat_minor": 5
}
