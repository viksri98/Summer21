{
 "cells": [
  {
   "cell_type": "markdown",
   "id": "f9ab14b7",
   "metadata": {},
   "source": [
    "# Review Lessons 1-7\n",
    "\n",
    "## Input and Output Statements \n",
    "### Exercise 1: \n",
    "Ask the user for `Name`, `Age`, `Height`(in feet)<br>\n",
    "Print out an output that looks like this:\n",
    "\n",
    "What is your name? Surekha<br>\n",
    "How old are you? 25<br>\n",
    "How many feet tall are you?5.4<br>\n",
    "Hello Surekha<br>\n",
    "You are 25 years old, and 64.80000000000001  tall.<br>"
   ]
  },
  {
   "cell_type": "code",
   "execution_count": 1,
   "id": "b0c1b5e9",
   "metadata": {},
   "outputs": [
    {
     "name": "stdout",
     "output_type": "stream",
     "text": [
      "What is your name? Surekha\n",
      "How old are you? 25\n",
      "How many feet tall are you?5.4\n",
      "Hello Surekha\n",
      "You are 25 years old, and 64.80000000000001  tall.\n"
     ]
    }
   ],
   "source": [
    "name = input(\"What is your name? \")\n",
    "age = int(input(\"How old are you? \"))\n",
    "height_ft = float(input(\"How many feet tall are you?\"))\n",
    "height_inches = height_ft*12\n",
    "print(\"Hello\", name)\n",
    "print(\"You are\", age, \"years old, and\", height_inches, \" tall.\")"
   ]
  },
  {
   "cell_type": "markdown",
   "id": "8d3cb566",
   "metadata": {},
   "source": [
    "## Math in Python\n",
    "### Exercise 2:\n",
    "Write code that will calculate a quadratic function: <br>\n",
    "$y = a(x-h)^2 + k$ <br>\n",
    "What is the value of y given an input of a = 1, x = 5, h = 2, and k = 20?\n",
    "\n",
    "Expected output:\n",
    "What is the value of a?1\n",
    "What is the value of x?5\n",
    "What is the value of h?2\n",
    "What is the value of k?20\n",
    "y =  29"
   ]
  },
  {
   "cell_type": "code",
   "execution_count": 3,
   "id": "1a5578ec",
   "metadata": {},
   "outputs": [
    {
     "name": "stdout",
     "output_type": "stream",
     "text": [
      "What is the value of a?1\n",
      "What is the value of x?5\n",
      "What is the value of h?2\n",
      "What is the value of k?20\n",
      "y =  29\n"
     ]
    }
   ],
   "source": [
    "a = int(input(\"What is the value of a?\"))\n",
    "x = int(input(\"What is the value of x?\"))\n",
    "h = int(input(\"What is the value of h?\"))\n",
    "k = int(input(\"What is the value of k?\"))\n",
    "y = a*(x-h)**2+k\n",
    "print(\"y = \", y)"
   ]
  },
  {
   "cell_type": "markdown",
   "id": "42ab2449",
   "metadata": {},
   "source": [
    "## Lists and Strings\n",
    "### Exercise 3: \n",
    "Create a list of the fruits in your house with the number of fruits of each kind that you have. For example `[apple, 2, pear, 5, banana 6]`\n",
    "Print out a statement that tells me how many fruits are in the house and what kinds of fruits. \n",
    "\n",
    "Expected output: \n",
    "I have 13 fruits in the house. I have apple, pear and banana."
   ]
  },
  {
   "cell_type": "code",
   "execution_count": 5,
   "id": "7e1b7d59",
   "metadata": {},
   "outputs": [
    {
     "name": "stdout",
     "output_type": "stream",
     "text": [
      "I have 13  fruits in the house. I have apple ,  pear and banana .\n"
     ]
    }
   ],
   "source": [
    "fruits = ['apple', 2, 'pear', 5, 'banana', 6]\n",
    "total = fruits[1]+fruits[3]+fruits[5]\n",
    "print (\"I have\", total, \" fruits in the house. I have\", fruits[0],\", \", fruits[2], \"and\", fruits[4], \".\")"
   ]
  },
  {
   "cell_type": "markdown",
   "id": "8701cd98",
   "metadata": {},
   "source": [
    "## Numpy Creation \n",
    "### Exercise 4:\n",
    "Repeat exercise 2 with x being an array of all x values from -10 to 10 with 20 items in the array. `[-10, -9.5, -9, ....10]`<br>\n",
    "Ask for the input for a, h and k<br>\n",
    "a = 1\n",
    "h = -1\n",
    "k = 1<br>\n",
    "HINT: Use np.linspace to create your x array. \n",
    "\n",
    "Expected output: <br>\n",
    "What is the value of a?1\n",
    "What is the value of h?-1\n",
    "What is the value of k?1<br>\n",
    "`x =  [-10.          -8.94736842  -7.89473684  -6.84210526  -5.78947368\n",
    "  -4.73684211  -3.68421053  -2.63157895  -1.57894737  -0.52631579\n",
    "   0.52631579   1.57894737   2.63157895   3.68421053   4.73684211\n",
    "   5.78947368   6.84210526   7.89473684   8.94736842  10.        ]\n",
    "y =  [ 82.          64.16066482  48.53739612  35.13019391  23.93905817\n",
    "  14.96398892   8.20498615   3.66204986   1.33518006   1.22437673\n",
    "   3.32963989   7.65096953  14.18836565  22.94182825  33.91135734\n",
    "  47.09695291  62.49861496  80.11634349  99.9501385  122.        ]`"
   ]
  },
  {
   "cell_type": "code",
   "execution_count": 9,
   "id": "cd3feba4",
   "metadata": {},
   "outputs": [
    {
     "name": "stdout",
     "output_type": "stream",
     "text": [
      "What is the value of a?1\n",
      "What is the value of h?-1\n",
      "What is the value of k?1\n",
      "x =  [-10.          -8.94736842  -7.89473684  -6.84210526  -5.78947368\n",
      "  -4.73684211  -3.68421053  -2.63157895  -1.57894737  -0.52631579\n",
      "   0.52631579   1.57894737   2.63157895   3.68421053   4.73684211\n",
      "   5.78947368   6.84210526   7.89473684   8.94736842  10.        ]\n",
      "y =  [ 82.          64.16066482  48.53739612  35.13019391  23.93905817\n",
      "  14.96398892   8.20498615   3.66204986   1.33518006   1.22437673\n",
      "   3.32963989   7.65096953  14.18836565  22.94182825  33.91135734\n",
      "  47.09695291  62.49861496  80.11634349  99.9501385  122.        ]\n"
     ]
    }
   ],
   "source": [
    "import numpy as np\n",
    "\n",
    "a = int(input(\"What is the value of a?\"))\n",
    "x = np.linspace(-10, 10, 20)\n",
    "h = int(input(\"What is the value of h?\"))\n",
    "k = int(input(\"What is the value of k?\"))\n",
    "y = a*(x-h)**2+k\n",
    "print(\"x = \", x)\n",
    "print(\"y = \", y)"
   ]
  }
 ],
 "metadata": {
  "kernelspec": {
   "display_name": "Python 3",
   "language": "python",
   "name": "python3"
  },
  "language_info": {
   "codemirror_mode": {
    "name": "ipython",
    "version": 3
   },
   "file_extension": ".py",
   "mimetype": "text/x-python",
   "name": "python",
   "nbconvert_exporter": "python",
   "pygments_lexer": "ipython3",
   "version": "3.8.8"
  }
 },
 "nbformat": 4,
 "nbformat_minor": 5
}
